{
  "nbformat": 4,
  "nbformat_minor": 0,
  "metadata": {
    "colab": {
      "name": "Final Project - Phone Reviews.ipynb",
      "provenance": [],
      "collapsed_sections": [
        "XDbkLhjirs04",
        "g3EATMG2NpXT",
        "rYCaaLjRLKeW",
        "dQZdq3VDV0-c",
        "yJXEk7wVV9_q",
        "dbOayCrlWBfd",
        "qjXKIAL4g97V"
      ],
      "toc_visible": true
    },
    "kernelspec": {
      "name": "python3",
      "display_name": "Python 3"
    }
  },
  "cells": [
    {
      "cell_type": "markdown",
      "metadata": {
        "id": "XDbkLhjirs04",
        "colab_type": "text"
      },
      "source": [
        "# Python Libraries\n"
      ]
    },
    {
      "cell_type": "code",
      "metadata": {
        "id": "ZomFzcnyjo69",
        "colab_type": "code",
        "outputId": "5c2881da-407b-4740-cd2d-a45959e9e6cd",
        "cellView": "form",
        "colab": {
          "base_uri": "https://localhost:8080/",
          "height": 448
        }
      },
      "source": [
        "#@title Install non-generic libraries\n",
        "#@markdown vaderSentiment, pyLDAvis\n",
        "!pip install vaderSentiment\n",
        "!pip install pyLDAvis"
      ],
      "execution_count": 8,
      "outputs": [
        {
          "output_type": "stream",
          "text": [
            "Requirement already satisfied: vaderSentiment in /usr/local/lib/python3.6/dist-packages (3.3.1)\n",
            "Requirement already satisfied: pyLDAvis in /usr/local/lib/python3.6/dist-packages (2.1.2)\n",
            "Requirement already satisfied: future in /usr/local/lib/python3.6/dist-packages (from pyLDAvis) (0.16.0)\n",
            "Requirement already satisfied: pandas>=0.17.0 in /usr/local/lib/python3.6/dist-packages (from pyLDAvis) (1.0.3)\n",
            "Requirement already satisfied: joblib>=0.8.4 in /usr/local/lib/python3.6/dist-packages (from pyLDAvis) (0.14.1)\n",
            "Requirement already satisfied: numpy>=1.9.2 in /usr/local/lib/python3.6/dist-packages (from pyLDAvis) (1.18.3)\n",
            "Requirement already satisfied: scipy>=0.18.0 in /usr/local/lib/python3.6/dist-packages (from pyLDAvis) (1.4.1)\n",
            "Requirement already satisfied: wheel>=0.23.0 in /usr/local/lib/python3.6/dist-packages (from pyLDAvis) (0.34.2)\n",
            "Requirement already satisfied: numexpr in /usr/local/lib/python3.6/dist-packages (from pyLDAvis) (2.7.1)\n",
            "Requirement already satisfied: pytest in /usr/local/lib/python3.6/dist-packages (from pyLDAvis) (3.6.4)\n",
            "Requirement already satisfied: funcy in /usr/local/lib/python3.6/dist-packages (from pyLDAvis) (1.14)\n",
            "Requirement already satisfied: jinja2>=2.7.2 in /usr/local/lib/python3.6/dist-packages (from pyLDAvis) (2.11.2)\n",
            "Requirement already satisfied: pytz>=2017.2 in /usr/local/lib/python3.6/dist-packages (from pandas>=0.17.0->pyLDAvis) (2018.9)\n",
            "Requirement already satisfied: python-dateutil>=2.6.1 in /usr/local/lib/python3.6/dist-packages (from pandas>=0.17.0->pyLDAvis) (2.8.1)\n",
            "Requirement already satisfied: more-itertools>=4.0.0 in /usr/local/lib/python3.6/dist-packages (from pytest->pyLDAvis) (8.2.0)\n",
            "Requirement already satisfied: setuptools in /usr/local/lib/python3.6/dist-packages (from pytest->pyLDAvis) (46.1.3)\n",
            "Requirement already satisfied: six>=1.10.0 in /usr/local/lib/python3.6/dist-packages (from pytest->pyLDAvis) (1.12.0)\n",
            "Requirement already satisfied: attrs>=17.4.0 in /usr/local/lib/python3.6/dist-packages (from pytest->pyLDAvis) (19.3.0)\n",
            "Requirement already satisfied: pluggy<0.8,>=0.5 in /usr/local/lib/python3.6/dist-packages (from pytest->pyLDAvis) (0.7.1)\n",
            "Requirement already satisfied: py>=1.5.0 in /usr/local/lib/python3.6/dist-packages (from pytest->pyLDAvis) (1.8.1)\n",
            "Requirement already satisfied: atomicwrites>=1.0 in /usr/local/lib/python3.6/dist-packages (from pytest->pyLDAvis) (1.3.0)\n",
            "Requirement already satisfied: MarkupSafe>=0.23 in /usr/local/lib/python3.6/dist-packages (from jinja2>=2.7.2->pyLDAvis) (1.1.1)\n"
          ],
          "name": "stdout"
        }
      ]
    },
    {
      "cell_type": "code",
      "metadata": {
        "id": "YvKBs7h5rjwL",
        "colab_type": "code",
        "outputId": "3c59b3c1-ec36-455c-f305-4591adb58563",
        "cellView": "form",
        "colab": {
          "base_uri": "https://localhost:8080/",
          "height": 166
        }
      },
      "source": [
        "#@title Import libraries\n",
        "from __future__ import print_function\n",
        "\n",
        "import numpy as np\n",
        "import pandas as pd\n",
        "import re\n",
        "import string\n",
        "import pickle\n",
        "import time\n",
        "\n",
        "# NLTK\n",
        "import nltk\n",
        "from nltk.tokenize import word_tokenize\n",
        "from nltk.tokenize import sent_tokenize\n",
        "from nltk.probability import FreqDist\n",
        "from nltk.corpus import stopwords\n",
        "from nltk.stem import PorterStemmer\n",
        "from nltk.stem.wordnet import WordNetLemmatizer\n",
        "from nltk.stem.snowball import SnowballStemmer\n",
        "nltk.download('stopwords')\n",
        "nltk.download('wordnet')\n",
        "nltk.download('punkt')\n",
        "nltk.download('movie_reviews')\n",
        "\n",
        "#tfidf_vectorizer = TfidfVectorizer(max_df=0.9, min_df=0.05, stop_words=\"english\")\n",
        "\n",
        "# SpaCy\n",
        "import spacy\n",
        "nlp = spacy.load('en_core_web_sm')\n",
        "\n",
        "# Gensim\n",
        "import gensim\n",
        "import gensim.corpora as corpora\n",
        "from gensim.utils import simple_preprocess\n",
        "from gensim.models import CoherenceModel\n",
        "\n",
        "# SciKit Learn\n",
        "from sklearn.feature_extraction.text import CountVectorizer\n",
        "from sklearn.feature_extraction.text import TfidfVectorizer\n",
        "from sklearn.decomposition import LatentDirichletAllocation\n",
        "\n",
        "# Sentiment Analysis\n",
        "import textblob as tb\n",
        "from textblob.sentiments import NaiveBayesAnalyzer\n",
        "from vaderSentiment.vaderSentiment import SentimentIntensityAnalyzer\n",
        "\n",
        "# Plots\n",
        "import matplotlib.pyplot as plt\n",
        "import seaborn as sns\n",
        "sns.set(style=\"darkgrid\")\n",
        "sns.set(font_scale=1.3)\n",
        "from wordcloud import WordCloud\n",
        "\n",
        "# Google Colab imports\n",
        "from google.colab import files\n",
        "from google.colab import drive as drive_colab\n",
        "from google.colab import auth\n",
        "from pydrive.auth import GoogleAuth\n",
        "from pydrive.drive import GoogleDrive\n",
        "from oauth2client.client import GoogleCredentials"
      ],
      "execution_count": 9,
      "outputs": [
        {
          "output_type": "stream",
          "text": [
            "[nltk_data] Downloading package stopwords to /root/nltk_data...\n",
            "[nltk_data]   Package stopwords is already up-to-date!\n",
            "[nltk_data] Downloading package wordnet to /root/nltk_data...\n",
            "[nltk_data]   Package wordnet is already up-to-date!\n",
            "[nltk_data] Downloading package punkt to /root/nltk_data...\n",
            "[nltk_data]   Package punkt is already up-to-date!\n",
            "[nltk_data] Downloading package movie_reviews to /root/nltk_data...\n",
            "[nltk_data]   Package movie_reviews is already up-to-date!\n"
          ],
          "name": "stdout"
        }
      ]
    },
    {
      "cell_type": "markdown",
      "metadata": {
        "id": "g3EATMG2NpXT",
        "colab_type": "text"
      },
      "source": [
        "# Data"
      ]
    },
    {
      "cell_type": "code",
      "metadata": {
        "id": "h1ZaFQx_RnLI",
        "colab_type": "code",
        "outputId": "7a0eb3b6-3c11-40e5-bd46-e2d762c58d1f",
        "colab": {
          "base_uri": "https://localhost:8080/",
          "height": 36
        },
        "cellView": "form"
      },
      "source": [
        "#@title File Upload\n",
        "#@markdown Fetch all the required files.\n",
        "\n",
        "#@markdown **reviews.csv**: all available reviews\\\n",
        "#@markdown **items.csv**: all phones available\n",
        "\n",
        "# Authenticate user\n",
        "## You must go to the link and copy access code\n",
        "auth.authenticate_user()\n",
        "gauth = GoogleAuth()\n",
        "gauth.credentials = GoogleCredentials.get_application_default()\n",
        "drive = GoogleDrive(gauth)\n",
        "\n",
        "# Load all the required files\n",
        "file_id = '17-i-_a2zKwXJCNoOCt6R-Ezr2swO8x8r'\n",
        "downloaded = drive.CreateFile({'id': file_id})\n",
        "downloaded.GetContentFile('items.csv')\n",
        "\n",
        "file_id = '1flTqx4fnPVrk5zyydJDvh67z4IIN-2Ei'\n",
        "downloaded = drive.CreateFile({'id': file_id})\n",
        "downloaded.GetContentFile('reviews.csv')\n",
        "\n",
        "# Mount the drive to access files\n",
        "drive_colab.mount('/content/drive')\n",
        "\n",
        "reviews = pd.read_csv('reviews.csv')\n",
        "items = pd.read_csv('items.csv')"
      ],
      "execution_count": 11,
      "outputs": [
        {
          "output_type": "stream",
          "text": [
            "Mounted at /content/drive\n"
          ],
          "name": "stdout"
        }
      ]
    },
    {
      "cell_type": "markdown",
      "metadata": {
        "id": "rYCaaLjRLKeW",
        "colab_type": "text"
      },
      "source": [
        "# Exploratory Data Analysis"
      ]
    },
    {
      "cell_type": "markdown",
      "metadata": {
        "id": "dQZdq3VDV0-c",
        "colab_type": "text"
      },
      "source": [
        "## Items Dataset\n",
        "We have **720 phone models** and **10 features**.  \n",
        "*rating*, *totalReviews*, *price* and *originalPrice* are **numerical**.  \n",
        "All other features are **strings**.   \n",
        "\n",
        "No significant NA's in this dataset.  \n",
        "\n",
        "**Samsung** has the highest # of phones with 346, followed by **Motorola** having 105 and **Apple** has 63 phones.  \n",
        "\n",
        "**Xiaomi** has the best rating of 4.4/5 followed by **HUAWEI** and then **ASUS**."
      ]
    },
    {
      "cell_type": "code",
      "metadata": {
        "id": "b1QY54i5WLtH",
        "colab_type": "code",
        "outputId": "c61ab8ae-e4d9-4379-9b92-cb2a47c17448",
        "colab": {
          "base_uri": "https://localhost:8080/",
          "height": 223
        }
      },
      "source": [
        "items.dtypes"
      ],
      "execution_count": 12,
      "outputs": [
        {
          "output_type": "execute_result",
          "data": {
            "text/plain": [
              "asin              object\n",
              "brand             object\n",
              "title             object\n",
              "url               object\n",
              "image             object\n",
              "rating           float64\n",
              "reviewUrl         object\n",
              "totalReviews       int64\n",
              "price            float64\n",
              "originalPrice    float64\n",
              "dtype: object"
            ]
          },
          "metadata": {
            "tags": []
          },
          "execution_count": 12
        }
      ]
    },
    {
      "cell_type": "code",
      "metadata": {
        "id": "EFn0fpEiOZAq",
        "colab_type": "code",
        "outputId": "7efc27fb-0fb7-472f-8541-357f477e2c7b",
        "colab": {
          "base_uri": "https://localhost:8080/",
          "height": 36
        }
      },
      "source": [
        "items.shape"
      ],
      "execution_count": 13,
      "outputs": [
        {
          "output_type": "execute_result",
          "data": {
            "text/plain": [
              "(720, 10)"
            ]
          },
          "metadata": {
            "tags": []
          },
          "execution_count": 13
        }
      ]
    },
    {
      "cell_type": "code",
      "metadata": {
        "id": "3FW7WPhIWLvx",
        "colab_type": "code",
        "outputId": "48c29ce6-675d-48e9-dad7-b15730759d33",
        "colab": {
          "base_uri": "https://localhost:8080/",
          "height": 223
        }
      },
      "source": [
        "items.isna().sum()"
      ],
      "execution_count": 14,
      "outputs": [
        {
          "output_type": "execute_result",
          "data": {
            "text/plain": [
              "asin             0\n",
              "brand            4\n",
              "title            0\n",
              "url              0\n",
              "image            0\n",
              "rating           0\n",
              "reviewUrl        0\n",
              "totalReviews     0\n",
              "price            0\n",
              "originalPrice    0\n",
              "dtype: int64"
            ]
          },
          "metadata": {
            "tags": []
          },
          "execution_count": 14
        }
      ]
    },
    {
      "cell_type": "code",
      "metadata": {
        "id": "gwdj5f6wWP6v",
        "colab_type": "code",
        "outputId": "e0062f06-baf2-47a7-ba9f-bd31519acba1",
        "colab": {
          "base_uri": "https://localhost:8080/",
          "height": 394
        }
      },
      "source": [
        "item_brand = items.groupby('brand').agg({'asin':['count'], 'rating':['mean'], 'totalReviews':['sum']})\n",
        "item_brand.columns = ['count_phone', 'avg_rating', 'total_reviews']\n",
        "item_brand.sort_values(by=\"count_phone\", ascending=False)"
      ],
      "execution_count": 15,
      "outputs": [
        {
          "output_type": "execute_result",
          "data": {
            "text/html": [
              "<div>\n",
              "<style scoped>\n",
              "    .dataframe tbody tr th:only-of-type {\n",
              "        vertical-align: middle;\n",
              "    }\n",
              "\n",
              "    .dataframe tbody tr th {\n",
              "        vertical-align: top;\n",
              "    }\n",
              "\n",
              "    .dataframe thead th {\n",
              "        text-align: right;\n",
              "    }\n",
              "</style>\n",
              "<table border=\"1\" class=\"dataframe\">\n",
              "  <thead>\n",
              "    <tr style=\"text-align: right;\">\n",
              "      <th></th>\n",
              "      <th>count_phone</th>\n",
              "      <th>avg_rating</th>\n",
              "      <th>total_reviews</th>\n",
              "    </tr>\n",
              "    <tr>\n",
              "      <th>brand</th>\n",
              "      <th></th>\n",
              "      <th></th>\n",
              "      <th></th>\n",
              "    </tr>\n",
              "  </thead>\n",
              "  <tbody>\n",
              "    <tr>\n",
              "      <th>Samsung</th>\n",
              "      <td>346</td>\n",
              "      <td>3.632659</td>\n",
              "      <td>37701</td>\n",
              "    </tr>\n",
              "    <tr>\n",
              "      <th>Motorola</th>\n",
              "      <td>105</td>\n",
              "      <td>3.643810</td>\n",
              "      <td>9419</td>\n",
              "    </tr>\n",
              "    <tr>\n",
              "      <th>Apple</th>\n",
              "      <td>63</td>\n",
              "      <td>3.782540</td>\n",
              "      <td>6315</td>\n",
              "    </tr>\n",
              "    <tr>\n",
              "      <th>Xiaomi</th>\n",
              "      <td>46</td>\n",
              "      <td>4.415217</td>\n",
              "      <td>5574</td>\n",
              "    </tr>\n",
              "    <tr>\n",
              "      <th>Nokia</th>\n",
              "      <td>44</td>\n",
              "      <td>3.386364</td>\n",
              "      <td>6182</td>\n",
              "    </tr>\n",
              "    <tr>\n",
              "      <th>Google</th>\n",
              "      <td>38</td>\n",
              "      <td>3.771053</td>\n",
              "      <td>4238</td>\n",
              "    </tr>\n",
              "    <tr>\n",
              "      <th>HUAWEI</th>\n",
              "      <td>32</td>\n",
              "      <td>4.021875</td>\n",
              "      <td>2467</td>\n",
              "    </tr>\n",
              "    <tr>\n",
              "      <th>Sony</th>\n",
              "      <td>27</td>\n",
              "      <td>3.788889</td>\n",
              "      <td>3312</td>\n",
              "    </tr>\n",
              "    <tr>\n",
              "      <th>OnePlus</th>\n",
              "      <td>10</td>\n",
              "      <td>3.580000</td>\n",
              "      <td>406</td>\n",
              "    </tr>\n",
              "    <tr>\n",
              "      <th>ASUS</th>\n",
              "      <td>5</td>\n",
              "      <td>3.860000</td>\n",
              "      <td>263</td>\n",
              "    </tr>\n",
              "  </tbody>\n",
              "</table>\n",
              "</div>"
            ],
            "text/plain": [
              "          count_phone  avg_rating  total_reviews\n",
              "brand                                           \n",
              "Samsung           346    3.632659          37701\n",
              "Motorola          105    3.643810           9419\n",
              "Apple              63    3.782540           6315\n",
              "Xiaomi             46    4.415217           5574\n",
              "Nokia              44    3.386364           6182\n",
              "Google             38    3.771053           4238\n",
              "HUAWEI             32    4.021875           2467\n",
              "Sony               27    3.788889           3312\n",
              "OnePlus            10    3.580000            406\n",
              "ASUS                5    3.860000            263"
            ]
          },
          "metadata": {
            "tags": []
          },
          "execution_count": 15
        }
      ]
    },
    {
      "cell_type": "code",
      "metadata": {
        "id": "Pawg3-oYgocZ",
        "colab_type": "code",
        "outputId": "87a9f7fb-3743-4b9f-a271-ac1a2f298c6f",
        "colab": {
          "base_uri": "https://localhost:8080/",
          "height": 394
        }
      },
      "source": [
        "item_brand.sort_values(by=\"avg_rating\", ascending=False)"
      ],
      "execution_count": 16,
      "outputs": [
        {
          "output_type": "execute_result",
          "data": {
            "text/html": [
              "<div>\n",
              "<style scoped>\n",
              "    .dataframe tbody tr th:only-of-type {\n",
              "        vertical-align: middle;\n",
              "    }\n",
              "\n",
              "    .dataframe tbody tr th {\n",
              "        vertical-align: top;\n",
              "    }\n",
              "\n",
              "    .dataframe thead th {\n",
              "        text-align: right;\n",
              "    }\n",
              "</style>\n",
              "<table border=\"1\" class=\"dataframe\">\n",
              "  <thead>\n",
              "    <tr style=\"text-align: right;\">\n",
              "      <th></th>\n",
              "      <th>count_phone</th>\n",
              "      <th>avg_rating</th>\n",
              "      <th>total_reviews</th>\n",
              "    </tr>\n",
              "    <tr>\n",
              "      <th>brand</th>\n",
              "      <th></th>\n",
              "      <th></th>\n",
              "      <th></th>\n",
              "    </tr>\n",
              "  </thead>\n",
              "  <tbody>\n",
              "    <tr>\n",
              "      <th>Xiaomi</th>\n",
              "      <td>46</td>\n",
              "      <td>4.415217</td>\n",
              "      <td>5574</td>\n",
              "    </tr>\n",
              "    <tr>\n",
              "      <th>HUAWEI</th>\n",
              "      <td>32</td>\n",
              "      <td>4.021875</td>\n",
              "      <td>2467</td>\n",
              "    </tr>\n",
              "    <tr>\n",
              "      <th>ASUS</th>\n",
              "      <td>5</td>\n",
              "      <td>3.860000</td>\n",
              "      <td>263</td>\n",
              "    </tr>\n",
              "    <tr>\n",
              "      <th>Sony</th>\n",
              "      <td>27</td>\n",
              "      <td>3.788889</td>\n",
              "      <td>3312</td>\n",
              "    </tr>\n",
              "    <tr>\n",
              "      <th>Apple</th>\n",
              "      <td>63</td>\n",
              "      <td>3.782540</td>\n",
              "      <td>6315</td>\n",
              "    </tr>\n",
              "    <tr>\n",
              "      <th>Google</th>\n",
              "      <td>38</td>\n",
              "      <td>3.771053</td>\n",
              "      <td>4238</td>\n",
              "    </tr>\n",
              "    <tr>\n",
              "      <th>Motorola</th>\n",
              "      <td>105</td>\n",
              "      <td>3.643810</td>\n",
              "      <td>9419</td>\n",
              "    </tr>\n",
              "    <tr>\n",
              "      <th>Samsung</th>\n",
              "      <td>346</td>\n",
              "      <td>3.632659</td>\n",
              "      <td>37701</td>\n",
              "    </tr>\n",
              "    <tr>\n",
              "      <th>OnePlus</th>\n",
              "      <td>10</td>\n",
              "      <td>3.580000</td>\n",
              "      <td>406</td>\n",
              "    </tr>\n",
              "    <tr>\n",
              "      <th>Nokia</th>\n",
              "      <td>44</td>\n",
              "      <td>3.386364</td>\n",
              "      <td>6182</td>\n",
              "    </tr>\n",
              "  </tbody>\n",
              "</table>\n",
              "</div>"
            ],
            "text/plain": [
              "          count_phone  avg_rating  total_reviews\n",
              "brand                                           \n",
              "Xiaomi             46    4.415217           5574\n",
              "HUAWEI             32    4.021875           2467\n",
              "ASUS                5    3.860000            263\n",
              "Sony               27    3.788889           3312\n",
              "Apple              63    3.782540           6315\n",
              "Google             38    3.771053           4238\n",
              "Motorola          105    3.643810           9419\n",
              "Samsung           346    3.632659          37701\n",
              "OnePlus            10    3.580000            406\n",
              "Nokia              44    3.386364           6182"
            ]
          },
          "metadata": {
            "tags": []
          },
          "execution_count": 16
        }
      ]
    },
    {
      "cell_type": "markdown",
      "metadata": {
        "id": "yJXEk7wVV9_q",
        "colab_type": "text"
      },
      "source": [
        "## Reviews Dataset\n",
        "We have **67986 reviews** with **8 features**.  \n",
        "*rating* and *helpfulVotes* are **numerical**.  \n",
        "All other features are **strings**.\n",
        "\n",
        "*helpfulVotes* has a lot of NA's.  \n",
        "The other features have very few NA's.  \n",
        "\n",
        "40% of the reviews are for **Samsung**."
      ]
    },
    {
      "cell_type": "code",
      "metadata": {
        "id": "iwYOOw16WFvz",
        "colab_type": "code",
        "outputId": "4c4cc8ca-4ddd-4605-b83a-293b87e844fd",
        "colab": {
          "base_uri": "https://localhost:8080/",
          "height": 185
        }
      },
      "source": [
        "reviews.dtypes"
      ],
      "execution_count": 17,
      "outputs": [
        {
          "output_type": "execute_result",
          "data": {
            "text/plain": [
              "asin             object\n",
              "name             object\n",
              "rating            int64\n",
              "date             object\n",
              "verified           bool\n",
              "title            object\n",
              "body             object\n",
              "helpfulVotes    float64\n",
              "dtype: object"
            ]
          },
          "metadata": {
            "tags": []
          },
          "execution_count": 17
        }
      ]
    },
    {
      "cell_type": "code",
      "metadata": {
        "id": "wAAniTzIWvg2",
        "colab_type": "code",
        "outputId": "7da9bdcf-e434-416e-efd9-e298ce5e2592",
        "colab": {
          "base_uri": "https://localhost:8080/",
          "height": 185
        }
      },
      "source": [
        "reviews.isna().sum()"
      ],
      "execution_count": 18,
      "outputs": [
        {
          "output_type": "execute_result",
          "data": {
            "text/plain": [
              "asin                0\n",
              "name                2\n",
              "rating              0\n",
              "date                0\n",
              "verified            0\n",
              "title              14\n",
              "body               21\n",
              "helpfulVotes    40771\n",
              "dtype: int64"
            ]
          },
          "metadata": {
            "tags": []
          },
          "execution_count": 18
        }
      ]
    },
    {
      "cell_type": "code",
      "metadata": {
        "id": "-EreXKhfsIy0",
        "colab_type": "code",
        "outputId": "5af237f9-ceac-497e-b5a2-707fee034800",
        "colab": {
          "base_uri": "https://localhost:8080/",
          "height": 36
        }
      },
      "source": [
        "reviews.shape"
      ],
      "execution_count": 19,
      "outputs": [
        {
          "output_type": "execute_result",
          "data": {
            "text/plain": [
              "(67986, 8)"
            ]
          },
          "metadata": {
            "tags": []
          },
          "execution_count": 19
        }
      ]
    },
    {
      "cell_type": "code",
      "metadata": {
        "id": "6or48gDFcut4",
        "colab_type": "code",
        "colab": {}
      },
      "source": [
        "#reviews.head(2)\n",
        "#reviews.loc[1,'body']\n",
        "#tb.TextBlob(reviews.loc[1,'title'])\n",
        "#tb.TextBlob(\"Text Messaging Doesn't Work\", analyzer=NaiveBayesAnalyzer()).sentiment"
      ],
      "execution_count": 0,
      "outputs": []
    },
    {
      "cell_type": "markdown",
      "metadata": {
        "id": "dbOayCrlWBfd",
        "colab_type": "text"
      },
      "source": [
        "## Merged Dataset\n",
        "\n",
        "The dataset pulled atleast 80% of data available at that time per brand. **Samsung**, **Motorola** and **Nokia** have 90+% data.  \n",
        "\n",
        "The highest deviation in ratings due to missing reviews is for OnePlus phones at 0.63. **Samsung**, **Motorola**, **Nokia** and **Apple** have less than 0.2 rating deviation.  \n",
        "\n",
        "We see a bi-modal distribution of ratings for all the brands which is also representative of the plot with all brands combined.  \n",
        "\n"
      ]
    },
    {
      "cell_type": "code",
      "metadata": {
        "id": "WB5Zk8GYOk1x",
        "colab_type": "code",
        "outputId": "e40610c8-199b-44f2-cf28-524a91413819",
        "colab": {
          "base_uri": "https://localhost:8080/",
          "height": 363
        }
      },
      "source": [
        "# Create a merged dataframe\n",
        "df = pd.merge(reviews, items, on='asin')\n",
        "\n",
        "# Find brand-wise summary\n",
        "df_brand = df.groupby('brand').agg({'asin':['count'], 'rating_x':['mean']}).reset_index()\n",
        "df_brand.columns = ['brand', 'reviews', 'avg_avlb_rating']\n",
        "df_brand = df_brand.sort_values(by='reviews',ascending=False)\n",
        "brand_summary = pd.merge(df_brand, item_brand, on='brand')\n",
        "brand_summary['data_ratio'] = brand_summary['reviews']/brand_summary['total_reviews']\n",
        "brand_summary['rating_dev'] = brand_summary['avg_avlb_rating'] - brand_summary['avg_rating']\n",
        "brand_summary.to_csv(\"brand_summary.csv\")\n",
        "brand_rating = pd.pivot_table(df, values='asin', index=['brand'], columns=['rating_x'], aggfunc='count')\n",
        "brand_rating.to_csv(\"brand_rating.csv\")\n",
        "# Run this only when you want to overwrite\n",
        "#!cp brand_rating.csv \"drive/My Drive/Amazon_Reviews/\"\n",
        "#!cp brand_summary.csv \"drive/My Drive/Amazon_Reviews/\"\n",
        "brand_summary"
      ],
      "execution_count": 33,
      "outputs": [
        {
          "output_type": "execute_result",
          "data": {
            "text/html": [
              "<div>\n",
              "<style scoped>\n",
              "    .dataframe tbody tr th:only-of-type {\n",
              "        vertical-align: middle;\n",
              "    }\n",
              "\n",
              "    .dataframe tbody tr th {\n",
              "        vertical-align: top;\n",
              "    }\n",
              "\n",
              "    .dataframe thead th {\n",
              "        text-align: right;\n",
              "    }\n",
              "</style>\n",
              "<table border=\"1\" class=\"dataframe\">\n",
              "  <thead>\n",
              "    <tr style=\"text-align: right;\">\n",
              "      <th></th>\n",
              "      <th>brand</th>\n",
              "      <th>reviews</th>\n",
              "      <th>avg_avlb_rating</th>\n",
              "      <th>count_phone</th>\n",
              "      <th>avg_rating</th>\n",
              "      <th>total_reviews</th>\n",
              "      <th>data_ratio</th>\n",
              "      <th>rating_dev</th>\n",
              "    </tr>\n",
              "  </thead>\n",
              "  <tbody>\n",
              "    <tr>\n",
              "      <th>0</th>\n",
              "      <td>Samsung</td>\n",
              "      <td>33629</td>\n",
              "      <td>3.781736</td>\n",
              "      <td>346</td>\n",
              "      <td>3.632659</td>\n",
              "      <td>37701</td>\n",
              "      <td>0.891992</td>\n",
              "      <td>0.149077</td>\n",
              "    </tr>\n",
              "    <tr>\n",
              "      <th>1</th>\n",
              "      <td>Motorola</td>\n",
              "      <td>8880</td>\n",
              "      <td>3.818694</td>\n",
              "      <td>105</td>\n",
              "      <td>3.643810</td>\n",
              "      <td>9419</td>\n",
              "      <td>0.942775</td>\n",
              "      <td>0.174884</td>\n",
              "    </tr>\n",
              "    <tr>\n",
              "      <th>2</th>\n",
              "      <td>Nokia</td>\n",
              "      <td>5915</td>\n",
              "      <td>3.584446</td>\n",
              "      <td>44</td>\n",
              "      <td>3.386364</td>\n",
              "      <td>6182</td>\n",
              "      <td>0.956810</td>\n",
              "      <td>0.198083</td>\n",
              "    </tr>\n",
              "    <tr>\n",
              "      <th>3</th>\n",
              "      <td>Apple</td>\n",
              "      <td>5145</td>\n",
              "      <td>3.701263</td>\n",
              "      <td>63</td>\n",
              "      <td>3.782540</td>\n",
              "      <td>6315</td>\n",
              "      <td>0.814727</td>\n",
              "      <td>-0.081276</td>\n",
              "    </tr>\n",
              "    <tr>\n",
              "      <th>4</th>\n",
              "      <td>Xiaomi</td>\n",
              "      <td>4411</td>\n",
              "      <td>4.371344</td>\n",
              "      <td>46</td>\n",
              "      <td>4.415217</td>\n",
              "      <td>5574</td>\n",
              "      <td>0.791353</td>\n",
              "      <td>-0.043873</td>\n",
              "    </tr>\n",
              "    <tr>\n",
              "      <th>5</th>\n",
              "      <td>Google</td>\n",
              "      <td>3787</td>\n",
              "      <td>3.584896</td>\n",
              "      <td>38</td>\n",
              "      <td>3.771053</td>\n",
              "      <td>4238</td>\n",
              "      <td>0.893582</td>\n",
              "      <td>-0.186157</td>\n",
              "    </tr>\n",
              "    <tr>\n",
              "      <th>6</th>\n",
              "      <td>Sony</td>\n",
              "      <td>3196</td>\n",
              "      <td>3.786921</td>\n",
              "      <td>27</td>\n",
              "      <td>3.788889</td>\n",
              "      <td>3312</td>\n",
              "      <td>0.964976</td>\n",
              "      <td>-0.001968</td>\n",
              "    </tr>\n",
              "    <tr>\n",
              "      <th>7</th>\n",
              "      <td>HUAWEI</td>\n",
              "      <td>2225</td>\n",
              "      <td>4.240899</td>\n",
              "      <td>32</td>\n",
              "      <td>4.021875</td>\n",
              "      <td>2467</td>\n",
              "      <td>0.901905</td>\n",
              "      <td>0.219024</td>\n",
              "    </tr>\n",
              "    <tr>\n",
              "      <th>8</th>\n",
              "      <td>OnePlus</td>\n",
              "      <td>347</td>\n",
              "      <td>4.213256</td>\n",
              "      <td>10</td>\n",
              "      <td>3.580000</td>\n",
              "      <td>406</td>\n",
              "      <td>0.854680</td>\n",
              "      <td>0.633256</td>\n",
              "    </tr>\n",
              "    <tr>\n",
              "      <th>9</th>\n",
              "      <td>ASUS</td>\n",
              "      <td>251</td>\n",
              "      <td>3.721116</td>\n",
              "      <td>5</td>\n",
              "      <td>3.860000</td>\n",
              "      <td>263</td>\n",
              "      <td>0.954373</td>\n",
              "      <td>-0.138884</td>\n",
              "    </tr>\n",
              "  </tbody>\n",
              "</table>\n",
              "</div>"
            ],
            "text/plain": [
              "      brand  reviews  avg_avlb_rating  ...  total_reviews  data_ratio  rating_dev\n",
              "0   Samsung    33629         3.781736  ...          37701    0.891992    0.149077\n",
              "1  Motorola     8880         3.818694  ...           9419    0.942775    0.174884\n",
              "2     Nokia     5915         3.584446  ...           6182    0.956810    0.198083\n",
              "3     Apple     5145         3.701263  ...           6315    0.814727   -0.081276\n",
              "4    Xiaomi     4411         4.371344  ...           5574    0.791353   -0.043873\n",
              "5    Google     3787         3.584896  ...           4238    0.893582   -0.186157\n",
              "6      Sony     3196         3.786921  ...           3312    0.964976   -0.001968\n",
              "7    HUAWEI     2225         4.240899  ...           2467    0.901905    0.219024\n",
              "8   OnePlus      347         4.213256  ...            406    0.854680    0.633256\n",
              "9      ASUS      251         3.721116  ...            263    0.954373   -0.138884\n",
              "\n",
              "[10 rows x 8 columns]"
            ]
          },
          "metadata": {
            "tags": []
          },
          "execution_count": 33
        }
      ]
    },
    {
      "cell_type": "code",
      "metadata": {
        "id": "LcHYfOST4HGw",
        "colab_type": "code",
        "outputId": "9a9cf5ba-e27a-4aff-f922-ae772ce9ae6b",
        "colab": {
          "base_uri": "https://localhost:8080/",
          "height": 394
        }
      },
      "source": [
        "brand_rating"
      ],
      "execution_count": 34,
      "outputs": [
        {
          "output_type": "execute_result",
          "data": {
            "text/html": [
              "<div>\n",
              "<style scoped>\n",
              "    .dataframe tbody tr th:only-of-type {\n",
              "        vertical-align: middle;\n",
              "    }\n",
              "\n",
              "    .dataframe tbody tr th {\n",
              "        vertical-align: top;\n",
              "    }\n",
              "\n",
              "    .dataframe thead th {\n",
              "        text-align: right;\n",
              "    }\n",
              "</style>\n",
              "<table border=\"1\" class=\"dataframe\">\n",
              "  <thead>\n",
              "    <tr style=\"text-align: right;\">\n",
              "      <th>rating_x</th>\n",
              "      <th>1</th>\n",
              "      <th>2</th>\n",
              "      <th>3</th>\n",
              "      <th>4</th>\n",
              "      <th>5</th>\n",
              "    </tr>\n",
              "    <tr>\n",
              "      <th>brand</th>\n",
              "      <th></th>\n",
              "      <th></th>\n",
              "      <th></th>\n",
              "      <th></th>\n",
              "      <th></th>\n",
              "    </tr>\n",
              "  </thead>\n",
              "  <tbody>\n",
              "    <tr>\n",
              "      <th>ASUS</th>\n",
              "      <td>41</td>\n",
              "      <td>23</td>\n",
              "      <td>25</td>\n",
              "      <td>38</td>\n",
              "      <td>124</td>\n",
              "    </tr>\n",
              "    <tr>\n",
              "      <th>Apple</th>\n",
              "      <td>1191</td>\n",
              "      <td>243</td>\n",
              "      <td>322</td>\n",
              "      <td>545</td>\n",
              "      <td>2844</td>\n",
              "    </tr>\n",
              "    <tr>\n",
              "      <th>Google</th>\n",
              "      <td>883</td>\n",
              "      <td>286</td>\n",
              "      <td>267</td>\n",
              "      <td>435</td>\n",
              "      <td>1916</td>\n",
              "    </tr>\n",
              "    <tr>\n",
              "      <th>HUAWEI</th>\n",
              "      <td>246</td>\n",
              "      <td>63</td>\n",
              "      <td>124</td>\n",
              "      <td>268</td>\n",
              "      <td>1524</td>\n",
              "    </tr>\n",
              "    <tr>\n",
              "      <th>Motorola</th>\n",
              "      <td>1562</td>\n",
              "      <td>542</td>\n",
              "      <td>653</td>\n",
              "      <td>1310</td>\n",
              "      <td>4813</td>\n",
              "    </tr>\n",
              "    <tr>\n",
              "      <th>Nokia</th>\n",
              "      <td>1253</td>\n",
              "      <td>457</td>\n",
              "      <td>540</td>\n",
              "      <td>910</td>\n",
              "      <td>2755</td>\n",
              "    </tr>\n",
              "    <tr>\n",
              "      <th>OnePlus</th>\n",
              "      <td>46</td>\n",
              "      <td>6</td>\n",
              "      <td>13</td>\n",
              "      <td>45</td>\n",
              "      <td>237</td>\n",
              "    </tr>\n",
              "    <tr>\n",
              "      <th>Samsung</th>\n",
              "      <td>6646</td>\n",
              "      <td>1891</td>\n",
              "      <td>2292</td>\n",
              "      <td>4128</td>\n",
              "      <td>18672</td>\n",
              "    </tr>\n",
              "    <tr>\n",
              "      <th>Sony</th>\n",
              "      <td>511</td>\n",
              "      <td>259</td>\n",
              "      <td>280</td>\n",
              "      <td>496</td>\n",
              "      <td>1650</td>\n",
              "    </tr>\n",
              "    <tr>\n",
              "      <th>Xiaomi</th>\n",
              "      <td>334</td>\n",
              "      <td>126</td>\n",
              "      <td>222</td>\n",
              "      <td>615</td>\n",
              "      <td>3114</td>\n",
              "    </tr>\n",
              "  </tbody>\n",
              "</table>\n",
              "</div>"
            ],
            "text/plain": [
              "rating_x     1     2     3     4      5\n",
              "brand                                  \n",
              "ASUS        41    23    25    38    124\n",
              "Apple     1191   243   322   545   2844\n",
              "Google     883   286   267   435   1916\n",
              "HUAWEI     246    63   124   268   1524\n",
              "Motorola  1562   542   653  1310   4813\n",
              "Nokia     1253   457   540   910   2755\n",
              "OnePlus     46     6    13    45    237\n",
              "Samsung   6646  1891  2292  4128  18672\n",
              "Sony       511   259   280   496   1650\n",
              "Xiaomi     334   126   222   615   3114"
            ]
          },
          "metadata": {
            "tags": []
          },
          "execution_count": 34
        }
      ]
    },
    {
      "cell_type": "code",
      "metadata": {
        "id": "jFudd7JlACvG",
        "colab_type": "code",
        "outputId": "d746da4f-e497-4bdf-b26e-f10d9a42651d",
        "colab": {
          "base_uri": "https://localhost:8080/",
          "height": 580
        }
      },
      "source": [
        "brand_rating = brand_rating.div(brand_rating.sum(axis=1), axis=0)\n",
        "brand_rating.plot(kind='bar', figsize=(10,8))"
      ],
      "execution_count": 28,
      "outputs": [
        {
          "output_type": "execute_result",
          "data": {
            "text/plain": [
              "<matplotlib.axes._subplots.AxesSubplot at 0x7f4211afd9b0>"
            ]
          },
          "metadata": {
            "tags": []
          },
          "execution_count": 28
        },
        {
          "output_type": "display_data",
          "data": {
            "image/png": "[encoded data removed]",
            "text/plain": [
              "<Figure size 720x576 with 1 Axes>"
            ]
          },
          "metadata": {
            "tags": []
          }
        }
      ]
    },
    {
      "cell_type": "code",
      "metadata": {
        "id": "VIn_JDG1Lu4V",
        "colab_type": "code",
        "outputId": "252f2134-43f1-4020-e318-e180e25646d7",
        "colab": {
          "base_uri": "https://localhost:8080/",
          "height": 522
        }
      },
      "source": [
        "pd.DataFrame(df['rating_x'].value_counts()).reset_index().sort_values(by=\"index\").plot(kind=\"bar\", x=\"index\", figsize=(10,8))"
      ],
      "execution_count": 29,
      "outputs": [
        {
          "output_type": "execute_result",
          "data": {
            "text/plain": [
              "<matplotlib.axes._subplots.AxesSubplot at 0x7f422c5445f8>"
            ]
          },
          "metadata": {
            "tags": []
          },
          "execution_count": 29
        },
        {
          "output_type": "display_data",
          "data": {
            "image/png": "[encoded data removed]",
            "text/plain": [
              "<Figure size 720x576 with 1 Axes>"
            ]
          },
          "metadata": {
            "tags": []
          }
        }
      ]
    },
    {
      "cell_type": "markdown",
      "metadata": {
        "id": "qjXKIAL4g97V",
        "colab_type": "text"
      },
      "source": [
        "# Sentiment Analysis"
      ]
    },
    {
      "cell_type": "markdown",
      "metadata": {
        "id": "wy86YY-MYDxh",
        "colab_type": "text"
      },
      "source": [
        "def sentimental(sentence):\n",
        "    analyzer = SentimentIntensityAnalyzer()\n",
        "    vs = analyzer.polarity_scores(sentence)\n",
        "    score=vs['compound']\n",
        "    return score\n",
        "\n",
        "def sentimental_Score(sentence):\n",
        "    analyzer = SentimentIntensityAnalyzer()\n",
        "    vs = analyzer.polarity_scores(sentence)\n",
        "    score=vs['compound']\n",
        "    if score >= 0.5:\n",
        "        return 'pos'\n",
        "    elif (score > -0.5) and (score < 0.5):\n",
        "        return 'neu'\n",
        "    elif score <= -0.5:\n",
        "        return 'neg'\n",
        "\n",
        "def NaiveBaiyes_Sentimental(sentence):\n",
        "    blob = TextBlob(sentence, analyzer=NaiveBayesAnalyzer())\n",
        "    NaiveBayes_SentimentScore=blob.sentiment.classification\n",
        "    return NaiveBayes_SentimentScore"
      ]
    },
    {
      "cell_type": "code",
      "metadata": {
        "id": "_5l5yTBhD2Ym",
        "colab_type": "code",
        "cellView": "form",
        "colab": {
          "base_uri": "https://localhost:8080/",
          "height": 36
        },
        "outputId": "e2c14962-740e-4fa7-f391-c222cacae424"
      },
      "source": [
        "#@title Review Data\n",
        "#@markdown Select the following option if you want to read the file that was already generated to save time. \\\n",
        "\n",
        "pick_from_drive = True #@param {type:\"boolean\"}\n",
        "if pick_from_drive:\n",
        "  file_id = '1-FKpLOlBGNMn8aclDygJ460dIJt-N9Q-'\n",
        "  downloaded = drive.CreateFile({'id': file_id})\n",
        "  downloaded.GetContentFile('reviews.csv')\n",
        "  df_reviews = pd.read_csv(\"df_reviews.csv\")\n",
        "  print(\"File read from drive\")\n",
        "else:\n",
        "  df_reviews = df[['body', 'brand']].reset_index()\n",
        "  df_reviews['body'] = df_reviews['body'].fillna(\"\")\n",
        "  df_reviews['word_count'] = 0\n",
        "  df_reviews['most_common'] = \"\"\n",
        "  df_reviews['common_count'] = 0\n",
        "  df_reviews['body_clean'] = \"\"\n",
        "  stop_words = set(stopwords.words(\"english\"))\n",
        "  for i in range(df_reviews.shape[0]):\n",
        "    #Pick reviews one-by-one\n",
        "    rev = df_reviews.iloc[i,1]\n",
        "    \n",
        "    # Make text lowercase, remove punctuation and remove words containing numbers\n",
        "    rev = rev.lower()\n",
        "    rev = rev.replace(\".\",\" .\")\n",
        "    rev = rev.replace(\"’\",\" ’\")\n",
        "    rev = re.sub('[%s]' % re.escape(string.punctuation), '', rev)\n",
        "    rev = re.sub('\\w*\\d\\w*', '', rev)\n",
        "\n",
        "    # Tokenize the review\n",
        "    tok_rev = word_tokenize(rev)\n",
        "    \n",
        "    #remove stop words\n",
        "    filtered_rev = []\n",
        "    for w in tok_rev:\n",
        "        if w not in stop_words:\n",
        "            filtered_rev.append(w)\n",
        "    \n",
        "    # store cleaned words\n",
        "    df_reviews.iloc[i,6] = ' '.join(filtered_rev)\n",
        "\n",
        "    #Compute number of words\n",
        "    df_reviews.iloc[i,3] = len(filtered_rev)\n",
        "    \n",
        "    #Find the most common word and its count\n",
        "    fdist = FreqDist(filtered_rev)\n",
        "    \n",
        "    if len(filtered_rev) > 1:\n",
        "        df_reviews.iloc[i,4] = fdist.most_common(1)[0][0]\n",
        "        df_reviews.iloc[i,5] = fdist.most_common(1)[0][1]\n",
        "    else:\n",
        "        df_reviews.iloc[i,4] = \"\"\n",
        "        df_reviews.iloc[i,5] = 0\n",
        "  df_reviews.head()\n",
        "  df_reviews.to_csv(\"df_reviews.csv\")\n",
        "  !cp df_reviews.csv \"drive/My Drive/Amazon_Reviews/\"\n",
        "#df_reviews['word_count'].mean()\n",
        "### example usage ###\n",
        "#tb.TextBlob(\"good is good\", analyzer=NaiveBayesAnalyzer()).sentiment\n",
        "#sent = \"good bad\"\n",
        "#analyzer = SentimentIntensityAnalyzer()\n",
        "#analyzer.polarity_scores(sent)['compound']\n",
        "\n",
        "#df_sent.to_csv(\"df_sent_0.csv\")\n",
        "#!cp df_sent_0.csv \"drive/My Drive/Amazon_Reviews/\""
      ],
      "execution_count": 49,
      "outputs": [
        {
          "output_type": "stream",
          "text": [
            "File read from drive\n"
          ],
          "name": "stdout"
        }
      ]
    },
    {
      "cell_type": "code",
      "metadata": {
        "id": "vrEzIuO1CvXo",
        "colab_type": "code",
        "colab": {
          "base_uri": "https://localhost:8080/",
          "height": 36
        },
        "cellView": "form",
        "outputId": "329b6a99-3029-44bf-e378-debd152d2045"
      },
      "source": [
        "#@title Sentiment Data\n",
        "#@markdown Select the following option if you want to read the file that was already generated to save time. \\\n",
        "pick_from_drive = True #@param {type:\"boolean\"}\n",
        "\n",
        "if pick_from_drive:\n",
        "  file_id = '1-hAZqHhS8pmiX3nJGV_WjQ_GG_cr9LRf'\n",
        "  downloaded = drive.CreateFile({'id': file_id})\n",
        "  downloaded.GetContentFile('df_sent_hybrid.csv')\n",
        "  df_sent = pd.read_csv(\"df_sent_hybrid.csv\")\n",
        "  print(\"File read from drive\")\n",
        "else:\n",
        "  # Create basic template of df for Sentiment Analysis\n",
        "  df_sent = df_reviews[['body', 'brand', 'rating_x']].reset_index()\n",
        "  df_sent['sent_tb'] = 0\n",
        "  df_sent['tb_p'] = 0\n",
        "  df_sent['tb_n'] = 0\n",
        "  df_sent['tbnb_p'] = 0\n",
        "  df_sent['tbnb_n'] = 0\n",
        "  df_sent['sent_vader'] = 0\n",
        "  df_sent['vader_p'] = 0\n",
        "  df_sent['vader_n'] = 0"
      ],
      "execution_count": 54,
      "outputs": [
        {
          "output_type": "stream",
          "text": [
            "File read from drive\n"
          ],
          "name": "stdout"
        }
      ]
    },
    {
      "cell_type": "code",
      "metadata": {
        "id": "0whKJPKyTtlj",
        "colab_type": "code",
        "cellView": "form",
        "colab": {
          "base_uri": "https://localhost:8080/",
          "height": 36
        },
        "outputId": "c77a09b2-bd6e-44f9-e048-35e1a57530bd"
      },
      "source": [
        "#@title Simple TextBlob Analyzer\n",
        "cutoff_sent =  0#@param {type:\"number\"}\n",
        "\n",
        "if pick_from_drive:\n",
        "  print(\"Data picked from drive\")\n",
        "else:\n",
        "  for i in range(df_sent.shape[0]):\n",
        "    #Pick a review\n",
        "    rev = str(df_sent.iloc[i,1])\n",
        "\n",
        "    # TextBlob Sentiment Analyzer\n",
        "    df_sent.iloc[i,4] = tb.TextBlob(rev).sentiment.polarity\n",
        "\n",
        "    # Pessimistic approach, neutral sentiment => bad review\n",
        "    if df_sent.iloc[i,4] > cutoff_sent:\n",
        "      df_sent.iloc[i,5] = 1\n",
        "    else:\n",
        "      df_sent.iloc[i,6] = 1"
      ],
      "execution_count": 55,
      "outputs": [
        {
          "output_type": "stream",
          "text": [
            "Data picked from drive\n"
          ],
          "name": "stdout"
        }
      ]
    },
    {
      "cell_type": "code",
      "metadata": {
        "id": "2zML1lU-K-LV",
        "colab_type": "code",
        "cellView": "form",
        "colab": {
          "base_uri": "https://localhost:8080/",
          "height": 36
        },
        "outputId": "13257882-cf63-432f-c3a8-a31eab9afdb7"
      },
      "source": [
        "#@title TextBlob Analyzer: NaiveBayesAnalyzer\n",
        "cutoff_sent = 0 #@param {type:\"number\"}\n",
        "\n",
        "if pick_from_drive:\n",
        "  print(\"Data picked from drive\")\n",
        "else:\n",
        "  for i in range(df_sent.shape[0]):\n",
        "    #Pick a review\n",
        "    rev = str(df_sent.iloc[i,1])\n",
        "\n",
        "    # TextBlob Sentiment Analyzer with Naive Bayes\n",
        "    tb_sent_class = tb.TextBlob(rev, analyzer=NaiveBayesAnalyzer()).sentiment.classification\n",
        "\n",
        "    # TextBlob with Naive Bayes Analyzer\n",
        "    if tb_sent_class == \"pos\":\n",
        "      df_sent.iloc[i,7] = 1\n",
        "    else:\n",
        "      df_sent.iloc[i,8] = 1"
      ],
      "execution_count": 56,
      "outputs": [
        {
          "output_type": "stream",
          "text": [
            "Data picked from drive\n"
          ],
          "name": "stdout"
        }
      ]
    },
    {
      "cell_type": "code",
      "metadata": {
        "id": "R6DCq4kMLSe3",
        "colab_type": "code",
        "cellView": "form",
        "colab": {
          "base_uri": "https://localhost:8080/",
          "height": 36
        },
        "outputId": "0ec4151c-d7c4-4c4d-f4d6-877699312879"
      },
      "source": [
        "#@title VADER Analyzer\n",
        "cutoff_sent =  0#@param {type:\"number\"}\n",
        "\n",
        "if pick_from_drive:\n",
        "  print(\"Data picked from drive\")\n",
        "else:\n",
        "  for i in range(df_sent.shape[0]):\n",
        "    # Pick a review\n",
        "    rev = str(df_sent.iloc[i,1])\n",
        "\n",
        "    # VADER Sentiment Analyzer\n",
        "    analyzer = SentimentIntensityAnalyzer()\n",
        "    vs = analyzer.polarity_scores(rev)\n",
        "    score = vs['compound']\n",
        "    df_sent.iloc[i,9] = score\n",
        "    if df_sent.iloc[i,3] == 5:\n",
        "      if score > 0.5:\n",
        "        df_sent.iloc[i,10] = 1\n",
        "      else:\n",
        "        df_sent.iloc[i,11] = 1\n",
        "    else:\n",
        "      if score >= 0:\n",
        "        df_sent.iloc[i,10] = 1\n",
        "      else:\n",
        "        df_sent.iloc[i,11] = 1\n",
        "  df_sent.to_csv(\"df_sent_hybrid.csv\")\n",
        "  !cp df_sent_hybrid.csv \"drive/My Drive/Amazon_Reviews/\"\n",
        "  #pd.concat([df_reviews, df['rating_x']], axis=1)"
      ],
      "execution_count": 57,
      "outputs": [
        {
          "output_type": "stream",
          "text": [
            "Data picked from drive\n"
          ],
          "name": "stdout"
        }
      ]
    },
    {
      "cell_type": "code",
      "metadata": {
        "id": "qpyj-iCeWEqT",
        "colab_type": "code",
        "outputId": "016bfad2-cc65-403b-98a7-a0901ca0f8d9",
        "colab": {
          "base_uri": "https://localhost:8080/",
          "height": 363
        },
        "cellView": "form"
      },
      "source": [
        "#@title Brand-wise Sentiments\n",
        "review_sentiment = df_sent.groupby('brand').agg({'sent_tb':['mean'], \n",
        "                                                 'tb_p':['sum'],\n",
        "                                                 'tb_n':['sum'],\n",
        "                                                 'sent_vader':['mean'],\n",
        "                                                 'vader_p':['sum'],\n",
        "                                                 'vader_n':['sum']}).reset_index()\n",
        "review_sentiment.columns = ['brand', 'avg_sent_tb', 'tb_p', 'tb_n', 'avg_sent_vader', 'vader_p', 'vader_n']\n",
        "review_sentiment"
      ],
      "execution_count": 58,
      "outputs": [
        {
          "output_type": "execute_result",
          "data": {
            "text/html": [
              "<div>\n",
              "<style scoped>\n",
              "    .dataframe tbody tr th:only-of-type {\n",
              "        vertical-align: middle;\n",
              "    }\n",
              "\n",
              "    .dataframe tbody tr th {\n",
              "        vertical-align: top;\n",
              "    }\n",
              "\n",
              "    .dataframe thead th {\n",
              "        text-align: right;\n",
              "    }\n",
              "</style>\n",
              "<table border=\"1\" class=\"dataframe\">\n",
              "  <thead>\n",
              "    <tr style=\"text-align: right;\">\n",
              "      <th></th>\n",
              "      <th>brand</th>\n",
              "      <th>avg_sent_tb</th>\n",
              "      <th>tb_p</th>\n",
              "      <th>tb_n</th>\n",
              "      <th>avg_sent_vader</th>\n",
              "      <th>vader_p</th>\n",
              "      <th>vader_n</th>\n",
              "    </tr>\n",
              "  </thead>\n",
              "  <tbody>\n",
              "    <tr>\n",
              "      <th>0</th>\n",
              "      <td>ASUS</td>\n",
              "      <td>0</td>\n",
              "      <td>0</td>\n",
              "      <td>0</td>\n",
              "      <td>0.450343</td>\n",
              "      <td>177</td>\n",
              "      <td>74</td>\n",
              "    </tr>\n",
              "    <tr>\n",
              "      <th>1</th>\n",
              "      <td>Apple</td>\n",
              "      <td>0</td>\n",
              "      <td>0</td>\n",
              "      <td>0</td>\n",
              "      <td>0.303738</td>\n",
              "      <td>3124</td>\n",
              "      <td>2021</td>\n",
              "    </tr>\n",
              "    <tr>\n",
              "      <th>2</th>\n",
              "      <td>Google</td>\n",
              "      <td>0</td>\n",
              "      <td>0</td>\n",
              "      <td>0</td>\n",
              "      <td>0.371158</td>\n",
              "      <td>2549</td>\n",
              "      <td>1238</td>\n",
              "    </tr>\n",
              "    <tr>\n",
              "      <th>3</th>\n",
              "      <td>HUAWEI</td>\n",
              "      <td>0</td>\n",
              "      <td>0</td>\n",
              "      <td>0</td>\n",
              "      <td>0.456779</td>\n",
              "      <td>1499</td>\n",
              "      <td>726</td>\n",
              "    </tr>\n",
              "    <tr>\n",
              "      <th>4</th>\n",
              "      <td>Motorola</td>\n",
              "      <td>0</td>\n",
              "      <td>0</td>\n",
              "      <td>0</td>\n",
              "      <td>0.405286</td>\n",
              "      <td>6120</td>\n",
              "      <td>2760</td>\n",
              "    </tr>\n",
              "    <tr>\n",
              "      <th>5</th>\n",
              "      <td>Nokia</td>\n",
              "      <td>0</td>\n",
              "      <td>0</td>\n",
              "      <td>0</td>\n",
              "      <td>0.373347</td>\n",
              "      <td>4018</td>\n",
              "      <td>1897</td>\n",
              "    </tr>\n",
              "    <tr>\n",
              "      <th>6</th>\n",
              "      <td>OnePlus</td>\n",
              "      <td>0</td>\n",
              "      <td>0</td>\n",
              "      <td>0</td>\n",
              "      <td>0.488430</td>\n",
              "      <td>244</td>\n",
              "      <td>103</td>\n",
              "    </tr>\n",
              "    <tr>\n",
              "      <th>7</th>\n",
              "      <td>Samsung</td>\n",
              "      <td>0</td>\n",
              "      <td>0</td>\n",
              "      <td>0</td>\n",
              "      <td>0.361681</td>\n",
              "      <td>22199</td>\n",
              "      <td>11430</td>\n",
              "    </tr>\n",
              "    <tr>\n",
              "      <th>8</th>\n",
              "      <td>Sony</td>\n",
              "      <td>0</td>\n",
              "      <td>0</td>\n",
              "      <td>0</td>\n",
              "      <td>0.447593</td>\n",
              "      <td>2263</td>\n",
              "      <td>933</td>\n",
              "    </tr>\n",
              "    <tr>\n",
              "      <th>9</th>\n",
              "      <td>Xiaomi</td>\n",
              "      <td>0</td>\n",
              "      <td>0</td>\n",
              "      <td>0</td>\n",
              "      <td>0.396646</td>\n",
              "      <td>2592</td>\n",
              "      <td>1819</td>\n",
              "    </tr>\n",
              "  </tbody>\n",
              "</table>\n",
              "</div>"
            ],
            "text/plain": [
              "      brand  avg_sent_tb  tb_p  tb_n  avg_sent_vader  vader_p  vader_n\n",
              "0      ASUS            0     0     0        0.450343      177       74\n",
              "1     Apple            0     0     0        0.303738     3124     2021\n",
              "2    Google            0     0     0        0.371158     2549     1238\n",
              "3    HUAWEI            0     0     0        0.456779     1499      726\n",
              "4  Motorola            0     0     0        0.405286     6120     2760\n",
              "5     Nokia            0     0     0        0.373347     4018     1897\n",
              "6   OnePlus            0     0     0        0.488430      244      103\n",
              "7   Samsung            0     0     0        0.361681    22199    11430\n",
              "8      Sony            0     0     0        0.447593     2263      933\n",
              "9    Xiaomi            0     0     0        0.396646     2592     1819"
            ]
          },
          "metadata": {
            "tags": []
          },
          "execution_count": 58
        }
      ]
    },
    {
      "cell_type": "code",
      "metadata": {
        "id": "q3cOX2FNyS0v",
        "colab_type": "code",
        "outputId": "d1f4b952-00ef-45de-853b-5122bd3e1195",
        "colab": {
          "base_uri": "https://localhost:8080/",
          "height": 771
        },
        "cellView": "form"
      },
      "source": [
        "#@title Classification tables\n",
        "sentiment = \"positive\" #@param {type:\"string\"} ['positive', 'negative']\n",
        "rating = \"1 or 2\" #@param {type:\"string\"} ['1 or 2', '3', '4 or 5']\n",
        "\n",
        "temp_df = pd.DataFrame()\n",
        "if sentiment == \"positive\":\n",
        "  if rating == \"1 or 2\":\n",
        "    temp_df = df_sent[(df_sent['vader_p'] == 1) & (df_sent['rating_x'] < 3)]\n",
        "  elif rating == \"3\":\n",
        "    temp_df = df_sent[(df_sent['vader_p'] == 1) & (df_sent['rating_x'] == 3)]\n",
        "  else:\n",
        "    temp_df = df_sent[(df_sent['vader_p'] == 1) & (df_sent['rating_x'] > 3)]\n",
        "else:\n",
        "  if rating == \"1 or 2\":\n",
        "    temp_df = df_sent[(df_sent['vader_n'] == 1) & (df_sent['rating_x'] < 3)]\n",
        "  elif rating == \"3\":\n",
        "    temp_df = df_sent[(df_sent['vader_n'] == 1) & (df_sent['rating_x'] == 3)]\n",
        "  else:\n",
        "    temp_df = df_sent[(df_sent['vader_n'] == 1) & (df_sent['rating_x'] > 3)]\n",
        "temp_df"
      ],
      "execution_count": 61,
      "outputs": [
        {
          "output_type": "execute_result",
          "data": {
            "text/html": [
              "<div>\n",
              "<style scoped>\n",
              "    .dataframe tbody tr th:only-of-type {\n",
              "        vertical-align: middle;\n",
              "    }\n",
              "\n",
              "    .dataframe tbody tr th {\n",
              "        vertical-align: top;\n",
              "    }\n",
              "\n",
              "    .dataframe thead th {\n",
              "        text-align: right;\n",
              "    }\n",
              "</style>\n",
              "<table border=\"1\" class=\"dataframe\">\n",
              "  <thead>\n",
              "    <tr style=\"text-align: right;\">\n",
              "      <th></th>\n",
              "      <th>Unnamed: 0</th>\n",
              "      <th>index</th>\n",
              "      <th>body</th>\n",
              "      <th>brand</th>\n",
              "      <th>rating_x</th>\n",
              "      <th>sent_tb</th>\n",
              "      <th>tb_p</th>\n",
              "      <th>tb_n</th>\n",
              "      <th>tbnb_p</th>\n",
              "      <th>tbnb_n</th>\n",
              "      <th>sent_vader</th>\n",
              "      <th>vader_p</th>\n",
              "      <th>vader_n</th>\n",
              "    </tr>\n",
              "  </thead>\n",
              "  <tbody>\n",
              "    <tr>\n",
              "      <th>1</th>\n",
              "      <td>1</td>\n",
              "      <td>1</td>\n",
              "      <td>Due to a software issue between Nokia and Spri...</td>\n",
              "      <td>NaN</td>\n",
              "      <td>1</td>\n",
              "      <td>0</td>\n",
              "      <td>0</td>\n",
              "      <td>0</td>\n",
              "      <td>0</td>\n",
              "      <td>0</td>\n",
              "      <td>0.8720</td>\n",
              "      <td>1</td>\n",
              "      <td>0</td>\n",
              "    </tr>\n",
              "    <tr>\n",
              "      <th>11</th>\n",
              "      <td>11</td>\n",
              "      <td>11</td>\n",
              "      <td>1.) Slow - If you want to check your missed ca...</td>\n",
              "      <td>NaN</td>\n",
              "      <td>1</td>\n",
              "      <td>0</td>\n",
              "      <td>0</td>\n",
              "      <td>0</td>\n",
              "      <td>0</td>\n",
              "      <td>0</td>\n",
              "      <td>0.5457</td>\n",
              "      <td>1</td>\n",
              "      <td>0</td>\n",
              "    </tr>\n",
              "    <tr>\n",
              "      <th>14</th>\n",
              "      <td>14</td>\n",
              "      <td>14</td>\n",
              "      <td>DON'T BUY OUT OF SERVICE</td>\n",
              "      <td>Motorola</td>\n",
              "      <td>1</td>\n",
              "      <td>0</td>\n",
              "      <td>0</td>\n",
              "      <td>0</td>\n",
              "      <td>0</td>\n",
              "      <td>0</td>\n",
              "      <td>0.0000</td>\n",
              "      <td>1</td>\n",
              "      <td>0</td>\n",
              "    </tr>\n",
              "    <tr>\n",
              "      <th>22</th>\n",
              "      <td>22</td>\n",
              "      <td>22</td>\n",
              "      <td>I purchased this phone for my AT&amp;T phone repla...</td>\n",
              "      <td>Motorola</td>\n",
              "      <td>1</td>\n",
              "      <td>0</td>\n",
              "      <td>0</td>\n",
              "      <td>0</td>\n",
              "      <td>0</td>\n",
              "      <td>0</td>\n",
              "      <td>0.0000</td>\n",
              "      <td>1</td>\n",
              "      <td>0</td>\n",
              "    </tr>\n",
              "    <tr>\n",
              "      <th>23</th>\n",
              "      <td>23</td>\n",
              "      <td>23</td>\n",
              "      <td>The phone did not come with a charger and didn...</td>\n",
              "      <td>Motorola</td>\n",
              "      <td>1</td>\n",
              "      <td>0</td>\n",
              "      <td>0</td>\n",
              "      <td>0</td>\n",
              "      <td>0</td>\n",
              "      <td>0</td>\n",
              "      <td>0.0000</td>\n",
              "      <td>1</td>\n",
              "      <td>0</td>\n",
              "    </tr>\n",
              "    <tr>\n",
              "      <th>...</th>\n",
              "      <td>...</td>\n",
              "      <td>...</td>\n",
              "      <td>...</td>\n",
              "      <td>...</td>\n",
              "      <td>...</td>\n",
              "      <td>...</td>\n",
              "      <td>...</td>\n",
              "      <td>...</td>\n",
              "      <td>...</td>\n",
              "      <td>...</td>\n",
              "      <td>...</td>\n",
              "      <td>...</td>\n",
              "      <td>...</td>\n",
              "    </tr>\n",
              "    <tr>\n",
              "      <th>67869</th>\n",
              "      <td>67869</td>\n",
              "      <td>67869</td>\n",
              "      <td>Charger can not connect to the wall outlet</td>\n",
              "      <td>Samsung</td>\n",
              "      <td>2</td>\n",
              "      <td>0</td>\n",
              "      <td>0</td>\n",
              "      <td>0</td>\n",
              "      <td>0</td>\n",
              "      <td>0</td>\n",
              "      <td>0.0000</td>\n",
              "      <td>1</td>\n",
              "      <td>0</td>\n",
              "    </tr>\n",
              "    <tr>\n",
              "      <th>67907</th>\n",
              "      <td>67907</td>\n",
              "      <td>67907</td>\n",
              "      <td>This phone isnt worth the price. While it has ...</td>\n",
              "      <td>OnePlus</td>\n",
              "      <td>1</td>\n",
              "      <td>0</td>\n",
              "      <td>0</td>\n",
              "      <td>0</td>\n",
              "      <td>0</td>\n",
              "      <td>0</td>\n",
              "      <td>0.9802</td>\n",
              "      <td>1</td>\n",
              "      <td>0</td>\n",
              "    </tr>\n",
              "    <tr>\n",
              "      <th>67935</th>\n",
              "      <td>67935</td>\n",
              "      <td>67935</td>\n",
              "      <td>The Smartphone seems to be OK but no signature...</td>\n",
              "      <td>Sony</td>\n",
              "      <td>1</td>\n",
              "      <td>0</td>\n",
              "      <td>0</td>\n",
              "      <td>0</td>\n",
              "      <td>0</td>\n",
              "      <td>0</td>\n",
              "      <td>0.4618</td>\n",
              "      <td>1</td>\n",
              "      <td>0</td>\n",
              "    </tr>\n",
              "    <tr>\n",
              "      <th>67955</th>\n",
              "      <td>67955</td>\n",
              "      <td>67955</td>\n",
              "      <td>say what you want, Sony makes the best Android...</td>\n",
              "      <td>Sony</td>\n",
              "      <td>2</td>\n",
              "      <td>0</td>\n",
              "      <td>0</td>\n",
              "      <td>0</td>\n",
              "      <td>0</td>\n",
              "      <td>0</td>\n",
              "      <td>0.9614</td>\n",
              "      <td>1</td>\n",
              "      <td>0</td>\n",
              "    </tr>\n",
              "    <tr>\n",
              "      <th>67970</th>\n",
              "      <td>67970</td>\n",
              "      <td>67970</td>\n",
              "      <td>update Nov 4, 2019 This phone is crap if you a...</td>\n",
              "      <td>Sony</td>\n",
              "      <td>1</td>\n",
              "      <td>0</td>\n",
              "      <td>0</td>\n",
              "      <td>0</td>\n",
              "      <td>0</td>\n",
              "      <td>0</td>\n",
              "      <td>0.9733</td>\n",
              "      <td>1</td>\n",
              "      <td>0</td>\n",
              "    </tr>\n",
              "  </tbody>\n",
              "</table>\n",
              "<p>7507 rows × 13 columns</p>\n",
              "</div>"
            ],
            "text/plain": [
              "       Unnamed: 0  index  ... vader_p vader_n\n",
              "1               1      1  ...       1       0\n",
              "11             11     11  ...       1       0\n",
              "14             14     14  ...       1       0\n",
              "22             22     22  ...       1       0\n",
              "23             23     23  ...       1       0\n",
              "...           ...    ...  ...     ...     ...\n",
              "67869       67869  67869  ...       1       0\n",
              "67907       67907  67907  ...       1       0\n",
              "67935       67935  67935  ...       1       0\n",
              "67955       67955  67955  ...       1       0\n",
              "67970       67970  67970  ...       1       0\n",
              "\n",
              "[7507 rows x 13 columns]"
            ]
          },
          "metadata": {
            "tags": []
          },
          "execution_count": 61
        }
      ]
    },
    {
      "cell_type": "markdown",
      "metadata": {
        "id": "2DCHI1jVgbQz",
        "colab_type": "text"
      },
      "source": [
        "# Topic Modeling"
      ]
    },
    {
      "cell_type": "markdown",
      "metadata": {
        "id": "pNyhhyKGkODF",
        "colab_type": "text"
      },
      "source": [
        "Just importing, imputing and cleaning the data again. Not required but for testing purposes"
      ]
    },
    {
      "cell_type": "code",
      "metadata": {
        "id": "uQkVv6DohwH1",
        "colab_type": "code",
        "outputId": "941fac5f-10ce-4285-8f7d-d237e9daf445",
        "colab": {
          "base_uri": "https://localhost:8080/",
          "height": 357
        }
      },
      "source": [
        "items_df=items.copy()\n",
        "reviews_df=reviews.copy()\n",
        "items_df['brand'] = np.where((items_df.asin == 'B0000SX2UC'),'Nokia',items_df.brand)\n",
        "items_df['brand'] = np.where((items_df.asin == 'B01EWKHIAI'),'Nokia',items_df.brand)\n",
        "items_df['brand'] = np.where((items_df.asin == 'B07JHXX5YR'),'ASUS',items_df.brand)\n",
        "items_df['brand'] = np.where((items_df.asin == 'B07T3KMJW8'),'Xiaomi',items_df.brand)\n",
        "merged_data=pd.merge (items_df,reviews_df,how='left',on='asin')\n",
        "merged_data.shape"
      ],
      "execution_count": 0,
      "outputs": [
        {
          "output_type": "error",
          "ename": "KeyError",
          "evalue": "ignored",
          "traceback": [
            "\u001b[0;31m---------------------------------------------------------------------------\u001b[0m",
            "\u001b[0;31mKeyError\u001b[0m                                  Traceback (most recent call last)",
            "\u001b[0;32m<ipython-input-36-bc1fde6c4c34>\u001b[0m in \u001b[0;36m<module>\u001b[0;34m()\u001b[0m\n\u001b[1;32m      5\u001b[0m \u001b[0mitems_df\u001b[0m\u001b[0;34m[\u001b[0m\u001b[0;34m'brand'\u001b[0m\u001b[0;34m]\u001b[0m \u001b[0;34m=\u001b[0m \u001b[0mnp\u001b[0m\u001b[0;34m.\u001b[0m\u001b[0mwhere\u001b[0m\u001b[0;34m(\u001b[0m\u001b[0;34m(\u001b[0m\u001b[0mitems_df\u001b[0m\u001b[0;34m.\u001b[0m\u001b[0masin\u001b[0m \u001b[0;34m==\u001b[0m \u001b[0;34m'B07JHXX5YR'\u001b[0m\u001b[0;34m)\u001b[0m\u001b[0;34m,\u001b[0m\u001b[0;34m'ASUS'\u001b[0m\u001b[0;34m,\u001b[0m\u001b[0mitems_df\u001b[0m\u001b[0;34m.\u001b[0m\u001b[0mbrand\u001b[0m\u001b[0;34m)\u001b[0m\u001b[0;34m\u001b[0m\u001b[0;34m\u001b[0m\u001b[0m\n\u001b[1;32m      6\u001b[0m \u001b[0mitems_df\u001b[0m\u001b[0;34m[\u001b[0m\u001b[0;34m'brand'\u001b[0m\u001b[0;34m]\u001b[0m \u001b[0;34m=\u001b[0m \u001b[0mnp\u001b[0m\u001b[0;34m.\u001b[0m\u001b[0mwhere\u001b[0m\u001b[0;34m(\u001b[0m\u001b[0;34m(\u001b[0m\u001b[0mitems_df\u001b[0m\u001b[0;34m.\u001b[0m\u001b[0masin\u001b[0m \u001b[0;34m==\u001b[0m \u001b[0;34m'B07T3KMJW8'\u001b[0m\u001b[0;34m)\u001b[0m\u001b[0;34m,\u001b[0m\u001b[0;34m'Xiaomi'\u001b[0m\u001b[0;34m,\u001b[0m\u001b[0mitems_df\u001b[0m\u001b[0;34m.\u001b[0m\u001b[0mbrand\u001b[0m\u001b[0;34m)\u001b[0m\u001b[0;34m\u001b[0m\u001b[0;34m\u001b[0m\u001b[0m\n\u001b[0;32m----> 7\u001b[0;31m \u001b[0mmerged_data\u001b[0m\u001b[0;34m=\u001b[0m\u001b[0mpd\u001b[0m\u001b[0;34m.\u001b[0m\u001b[0mmerge\u001b[0m \u001b[0;34m(\u001b[0m\u001b[0mitems_df\u001b[0m\u001b[0;34m,\u001b[0m\u001b[0mreviews_df\u001b[0m\u001b[0;34m,\u001b[0m\u001b[0mhow\u001b[0m\u001b[0;34m=\u001b[0m\u001b[0;34m'left'\u001b[0m\u001b[0;34m,\u001b[0m\u001b[0mon\u001b[0m\u001b[0;34m=\u001b[0m\u001b[0;34m'asin'\u001b[0m\u001b[0;34m)\u001b[0m\u001b[0;34m\u001b[0m\u001b[0;34m\u001b[0m\u001b[0m\n\u001b[0m\u001b[1;32m      8\u001b[0m \u001b[0mmerged_data\u001b[0m\u001b[0;34m.\u001b[0m\u001b[0mshape\u001b[0m\u001b[0;34m\u001b[0m\u001b[0;34m\u001b[0m\u001b[0m\n",
            "\u001b[0;32m/usr/local/lib/python3.6/dist-packages/pandas/core/reshape/merge.py\u001b[0m in \u001b[0;36mmerge\u001b[0;34m(left, right, how, on, left_on, right_on, left_index, right_index, sort, suffixes, copy, indicator, validate)\u001b[0m\n\u001b[1;32m     84\u001b[0m         \u001b[0mcopy\u001b[0m\u001b[0;34m=\u001b[0m\u001b[0mcopy\u001b[0m\u001b[0;34m,\u001b[0m\u001b[0;34m\u001b[0m\u001b[0;34m\u001b[0m\u001b[0m\n\u001b[1;32m     85\u001b[0m         \u001b[0mindicator\u001b[0m\u001b[0;34m=\u001b[0m\u001b[0mindicator\u001b[0m\u001b[0;34m,\u001b[0m\u001b[0;34m\u001b[0m\u001b[0;34m\u001b[0m\u001b[0m\n\u001b[0;32m---> 86\u001b[0;31m         \u001b[0mvalidate\u001b[0m\u001b[0;34m=\u001b[0m\u001b[0mvalidate\u001b[0m\u001b[0;34m,\u001b[0m\u001b[0;34m\u001b[0m\u001b[0;34m\u001b[0m\u001b[0m\n\u001b[0m\u001b[1;32m     87\u001b[0m     )\n\u001b[1;32m     88\u001b[0m     \u001b[0;32mreturn\u001b[0m \u001b[0mop\u001b[0m\u001b[0;34m.\u001b[0m\u001b[0mget_result\u001b[0m\u001b[0;34m(\u001b[0m\u001b[0;34m)\u001b[0m\u001b[0;34m\u001b[0m\u001b[0;34m\u001b[0m\u001b[0m\n",
            "\u001b[0;32m/usr/local/lib/python3.6/dist-packages/pandas/core/reshape/merge.py\u001b[0m in \u001b[0;36m__init__\u001b[0;34m(self, left, right, how, on, left_on, right_on, axis, left_index, right_index, sort, suffixes, copy, indicator, validate)\u001b[0m\n\u001b[1;32m    625\u001b[0m             \u001b[0mself\u001b[0m\u001b[0;34m.\u001b[0m\u001b[0mright_join_keys\u001b[0m\u001b[0;34m,\u001b[0m\u001b[0;34m\u001b[0m\u001b[0;34m\u001b[0m\u001b[0m\n\u001b[1;32m    626\u001b[0m             \u001b[0mself\u001b[0m\u001b[0;34m.\u001b[0m\u001b[0mjoin_names\u001b[0m\u001b[0;34m,\u001b[0m\u001b[0;34m\u001b[0m\u001b[0;34m\u001b[0m\u001b[0m\n\u001b[0;32m--> 627\u001b[0;31m         ) = self._get_merge_keys()\n\u001b[0m\u001b[1;32m    628\u001b[0m \u001b[0;34m\u001b[0m\u001b[0m\n\u001b[1;32m    629\u001b[0m         \u001b[0;31m# validate the merge keys dtypes. We may need to coerce\u001b[0m\u001b[0;34m\u001b[0m\u001b[0;34m\u001b[0m\u001b[0;34m\u001b[0m\u001b[0m\n",
            "\u001b[0;32m/usr/local/lib/python3.6/dist-packages/pandas/core/reshape/merge.py\u001b[0m in \u001b[0;36m_get_merge_keys\u001b[0;34m(self)\u001b[0m\n\u001b[1;32m    981\u001b[0m                     \u001b[0;32mif\u001b[0m \u001b[0;32mnot\u001b[0m \u001b[0mis_rkey\u001b[0m\u001b[0;34m(\u001b[0m\u001b[0mrk\u001b[0m\u001b[0;34m)\u001b[0m\u001b[0;34m:\u001b[0m\u001b[0;34m\u001b[0m\u001b[0;34m\u001b[0m\u001b[0m\n\u001b[1;32m    982\u001b[0m                         \u001b[0;32mif\u001b[0m \u001b[0mrk\u001b[0m \u001b[0;32mis\u001b[0m \u001b[0;32mnot\u001b[0m \u001b[0;32mNone\u001b[0m\u001b[0;34m:\u001b[0m\u001b[0;34m\u001b[0m\u001b[0;34m\u001b[0m\u001b[0m\n\u001b[0;32m--> 983\u001b[0;31m                             \u001b[0mright_keys\u001b[0m\u001b[0;34m.\u001b[0m\u001b[0mappend\u001b[0m\u001b[0;34m(\u001b[0m\u001b[0mright\u001b[0m\u001b[0;34m.\u001b[0m\u001b[0m_get_label_or_level_values\u001b[0m\u001b[0;34m(\u001b[0m\u001b[0mrk\u001b[0m\u001b[0;34m)\u001b[0m\u001b[0;34m)\u001b[0m\u001b[0;34m\u001b[0m\u001b[0;34m\u001b[0m\u001b[0m\n\u001b[0m\u001b[1;32m    984\u001b[0m                         \u001b[0;32melse\u001b[0m\u001b[0;34m:\u001b[0m\u001b[0;34m\u001b[0m\u001b[0;34m\u001b[0m\u001b[0m\n\u001b[1;32m    985\u001b[0m                             \u001b[0;31m# work-around for merge_asof(right_index=True)\u001b[0m\u001b[0;34m\u001b[0m\u001b[0;34m\u001b[0m\u001b[0;34m\u001b[0m\u001b[0m\n",
            "\u001b[0;32m/usr/local/lib/python3.6/dist-packages/pandas/core/generic.py\u001b[0m in \u001b[0;36m_get_label_or_level_values\u001b[0;34m(self, key, axis)\u001b[0m\n\u001b[1;32m   1690\u001b[0m             \u001b[0mvalues\u001b[0m \u001b[0;34m=\u001b[0m \u001b[0mself\u001b[0m\u001b[0;34m.\u001b[0m\u001b[0maxes\u001b[0m\u001b[0;34m[\u001b[0m\u001b[0maxis\u001b[0m\u001b[0;34m]\u001b[0m\u001b[0;34m.\u001b[0m\u001b[0mget_level_values\u001b[0m\u001b[0;34m(\u001b[0m\u001b[0mkey\u001b[0m\u001b[0;34m)\u001b[0m\u001b[0;34m.\u001b[0m\u001b[0m_values\u001b[0m\u001b[0;34m\u001b[0m\u001b[0;34m\u001b[0m\u001b[0m\n\u001b[1;32m   1691\u001b[0m         \u001b[0;32melse\u001b[0m\u001b[0;34m:\u001b[0m\u001b[0;34m\u001b[0m\u001b[0;34m\u001b[0m\u001b[0m\n\u001b[0;32m-> 1692\u001b[0;31m             \u001b[0;32mraise\u001b[0m \u001b[0mKeyError\u001b[0m\u001b[0;34m(\u001b[0m\u001b[0mkey\u001b[0m\u001b[0;34m)\u001b[0m\u001b[0;34m\u001b[0m\u001b[0;34m\u001b[0m\u001b[0m\n\u001b[0m\u001b[1;32m   1693\u001b[0m \u001b[0;34m\u001b[0m\u001b[0m\n\u001b[1;32m   1694\u001b[0m         \u001b[0;31m# Check for duplicates\u001b[0m\u001b[0;34m\u001b[0m\u001b[0;34m\u001b[0m\u001b[0;34m\u001b[0m\u001b[0m\n",
            "\u001b[0;31mKeyError\u001b[0m: 'asin'"
          ]
        }
      ]
    },
    {
      "cell_type": "code",
      "metadata": {
        "id": "R_z521PL1piU",
        "colab_type": "code",
        "colab": {}
      },
      "source": [
        "merged_data=merged_data.rename(columns={'rating_x': 'Average_Rating','rating_y':'Customer_Rating','title_x':'Product_Name','title_y':'Review_title'})"
      ],
      "execution_count": 0,
      "outputs": []
    },
    {
      "cell_type": "markdown",
      "metadata": {
        "id": "B5mhcuH0kaZd",
        "colab_type": "text"
      },
      "source": [
        "Cleaning using NLTK"
      ]
    },
    {
      "cell_type": "markdown",
      "metadata": {
        "id": "mv9hXVOFILgt",
        "colab_type": "text"
      },
      "source": [
        ""
      ]
    },
    {
      "cell_type": "markdown",
      "metadata": {
        "id": "ei1sLfFfkjkS",
        "colab_type": "text"
      },
      "source": [
        "Need to clean the reviews - lower case,remove punctuations and keywords like brand name, phone and finally lemmatize"
      ]
    },
    {
      "cell_type": "code",
      "metadata": {
        "id": "kBF6iF4Qf5L4",
        "colab_type": "code",
        "colab": {}
      },
      "source": [
        "merged_data[\"body\"] = merged_data[\"body\"].astype(\"str\")\n",
        "merged_data[\"clean_text\"] = merged_data[\"body\"].apply(clean_text)\n",
        "merged_data[\"positivity\"] = merged_data[\"Customer_Rating\"].apply(lambda x: 1 if x>3 else(0 if x==3 else -1))"
      ],
      "execution_count": 0,
      "outputs": []
    },
    {
      "cell_type": "markdown",
      "metadata": {
        "id": "IcJCKBN-kr5I",
        "colab_type": "text"
      },
      "source": [
        "Creating an Apple only dataset"
      ]
    },
    {
      "cell_type": "code",
      "metadata": {
        "id": "acRk9nIujYS1",
        "colab_type": "code",
        "colab": {}
      },
      "source": [
        "merged_data[\"clean_text\"].head().values\n",
        "apple = merged_data[merged_data[\"brand\"]==\"Apple\"].sort_values(by=[\"date\"], ascending=False)\n",
        "apple[\"renewed\"] = apple[\"Product_Name\"].apply(lambda x: (\"Renewed\" in x) | (\"Refurbished\" in x))"
      ],
      "execution_count": 0,
      "outputs": []
    },
    {
      "cell_type": "code",
      "metadata": {
        "id": "b5hN8VtwgmYI",
        "colab_type": "code",
        "outputId": "1a273b41-ca12-4a64-fe5a-8937e6bafe95",
        "colab": {
          "base_uri": "https://localhost:8080/",
          "height": 1000
        }
      },
      "source": [
        "apple[apple['renewed']==True]\n",
        "#apple.shape"
      ],
      "execution_count": 0,
      "outputs": [
        {
          "output_type": "execute_result",
          "data": {
            "text/html": [
              "<div>\n",
              "<style scoped>\n",
              "    .dataframe tbody tr th:only-of-type {\n",
              "        vertical-align: middle;\n",
              "    }\n",
              "\n",
              "    .dataframe tbody tr th {\n",
              "        vertical-align: top;\n",
              "    }\n",
              "\n",
              "    .dataframe thead th {\n",
              "        text-align: right;\n",
              "    }\n",
              "</style>\n",
              "<table border=\"1\" class=\"dataframe\">\n",
              "  <thead>\n",
              "    <tr style=\"text-align: right;\">\n",
              "      <th></th>\n",
              "      <th>asin</th>\n",
              "      <th>brand</th>\n",
              "      <th>Product_Name</th>\n",
              "      <th>url</th>\n",
              "      <th>image</th>\n",
              "      <th>Average_Rating</th>\n",
              "      <th>reviewUrl</th>\n",
              "      <th>totalReviews</th>\n",
              "      <th>price</th>\n",
              "      <th>originalPrice</th>\n",
              "      <th>name</th>\n",
              "      <th>Customer_Rating</th>\n",
              "      <th>date</th>\n",
              "      <th>verified</th>\n",
              "      <th>Review_title</th>\n",
              "      <th>body</th>\n",
              "      <th>helpfulVotes</th>\n",
              "      <th>clean_text</th>\n",
              "      <th>positivity</th>\n",
              "      <th>renewed</th>\n",
              "    </tr>\n",
              "  </thead>\n",
              "  <tbody>\n",
              "    <tr>\n",
              "      <th>37805</th>\n",
              "      <td>B0731HBTZ7</td>\n",
              "      <td>Apple</td>\n",
              "      <td>Apple iPhone 7 32GB, Rose Gold (Renewed)</td>\n",
              "      <td>https://www.amazon.com/Apple-iPhone-32GB-Rose-...</td>\n",
              "      <td>https://m.media-amazon.com/images/I/51cRE43zKw...</td>\n",
              "      <td>3.8</td>\n",
              "      <td>https://www.amazon.com/product-reviews/B0731HBTZ7</td>\n",
              "      <td>452</td>\n",
              "      <td>199.95</td>\n",
              "      <td>210.00</td>\n",
              "      <td>Zoriah Bradshaw</td>\n",
              "      <td>5</td>\n",
              "      <td>September 9, 2019</td>\n",
              "      <td>True</td>\n",
              "      <td>Works fine</td>\n",
              "      <td>Works fine</td>\n",
              "      <td>NaN</td>\n",
              "      <td>work fine</td>\n",
              "      <td>1</td>\n",
              "      <td>True</td>\n",
              "    </tr>\n",
              "    <tr>\n",
              "      <th>42149</th>\n",
              "      <td>B07755LZ67</td>\n",
              "      <td>Apple</td>\n",
              "      <td>Apple iPhone 8 Plus 64GB Unlocked GSM Phone - ...</td>\n",
              "      <td>https://www.amazon.com/Apple-iPhone-Unlocked-G...</td>\n",
              "      <td>https://m.media-amazon.com/images/I/810MbmOEoq...</td>\n",
              "      <td>4.0</td>\n",
              "      <td>https://www.amazon.com/product-reviews/B07755LZ67</td>\n",
              "      <td>176</td>\n",
              "      <td>374.99</td>\n",
              "      <td>0.00</td>\n",
              "      <td>Timothy</td>\n",
              "      <td>5</td>\n",
              "      <td>September 9, 2019</td>\n",
              "      <td>True</td>\n",
              "      <td>I like my new iPhone</td>\n",
              "      <td>It did not come with an AC charger</td>\n",
              "      <td>NaN</td>\n",
              "      <td>come ac charger</td>\n",
              "      <td>1</td>\n",
              "      <td>True</td>\n",
              "    </tr>\n",
              "    <tr>\n",
              "      <th>41893</th>\n",
              "      <td>B0775451TT</td>\n",
              "      <td>Apple</td>\n",
              "      <td>Apple iPhone X, 256GB, Silver - For AT&amp;T / T-M...</td>\n",
              "      <td>https://www.amazon.com/Apple-iPhone-Fully-Unlo...</td>\n",
              "      <td>https://m.media-amazon.com/images/I/81yZOQEC+N...</td>\n",
              "      <td>3.9</td>\n",
              "      <td>https://www.amazon.com/product-reviews/B0775451TT</td>\n",
              "      <td>436</td>\n",
              "      <td>479.00</td>\n",
              "      <td>749.99</td>\n",
              "      <td>Amazon Customer</td>\n",
              "      <td>5</td>\n",
              "      <td>September 9, 2019</td>\n",
              "      <td>True</td>\n",
              "      <td>Awesome !</td>\n",
              "      <td>Phone works perfect! Looks brand new ! No scra...</td>\n",
              "      <td>NaN</td>\n",
              "      <td>work perfect look brand new  scratch fresh store</td>\n",
              "      <td>1</td>\n",
              "      <td>True</td>\n",
              "    </tr>\n",
              "    <tr>\n",
              "      <th>35704</th>\n",
              "      <td>B071JPQYGK</td>\n",
              "      <td>Apple</td>\n",
              "      <td>Apple iPhone 7 Plus, AT&amp;T Locked, 128GB - Jet ...</td>\n",
              "      <td>https://www.amazon.com/Apple-iPhone-Plus-128GB...</td>\n",
              "      <td>https://m.media-amazon.com/images/I/61dI0syR1r...</td>\n",
              "      <td>3.5</td>\n",
              "      <td>https://www.amazon.com/product-reviews/B071JPQYGK</td>\n",
              "      <td>12</td>\n",
              "      <td>284.99</td>\n",
              "      <td>549.99</td>\n",
              "      <td>Amazon Customer</td>\n",
              "      <td>1</td>\n",
              "      <td>September 9, 2019</td>\n",
              "      <td>True</td>\n",
              "      <td>This product was a scam</td>\n",
              "      <td>The phone was either stolen or tossed by the o...</td>\n",
              "      <td>NaN</td>\n",
              "      <td>stolen tossed owner att stated owner owes unlo...</td>\n",
              "      <td>-1</td>\n",
              "      <td>True</td>\n",
              "    </tr>\n",
              "    <tr>\n",
              "      <th>48696</th>\n",
              "      <td>B07D6TQP6F</td>\n",
              "      <td>Apple</td>\n",
              "      <td>Apple iPhone X, 256GB, Silver - For AT&amp;T (Rene...</td>\n",
              "      <td>https://www.amazon.com/Apple-iPhone-AT-256GB-R...</td>\n",
              "      <td>https://m.media-amazon.com/images/I/81yZOQEC+N...</td>\n",
              "      <td>3.9</td>\n",
              "      <td>https://www.amazon.com/product-reviews/B07D6TQP6F</td>\n",
              "      <td>436</td>\n",
              "      <td>476.00</td>\n",
              "      <td>0.00</td>\n",
              "      <td>Amazon Customer</td>\n",
              "      <td>5</td>\n",
              "      <td>September 9, 2019</td>\n",
              "      <td>True</td>\n",
              "      <td>Awesome !</td>\n",
              "      <td>Phone works perfect! Looks brand new ! No scra...</td>\n",
              "      <td>NaN</td>\n",
              "      <td>work perfect look brand new  scratch fresh store</td>\n",
              "      <td>1</td>\n",
              "      <td>True</td>\n",
              "    </tr>\n",
              "    <tr>\n",
              "      <th>...</th>\n",
              "      <td>...</td>\n",
              "      <td>...</td>\n",
              "      <td>...</td>\n",
              "      <td>...</td>\n",
              "      <td>...</td>\n",
              "      <td>...</td>\n",
              "      <td>...</td>\n",
              "      <td>...</td>\n",
              "      <td>...</td>\n",
              "      <td>...</td>\n",
              "      <td>...</td>\n",
              "      <td>...</td>\n",
              "      <td>...</td>\n",
              "      <td>...</td>\n",
              "      <td>...</td>\n",
              "      <td>...</td>\n",
              "      <td>...</td>\n",
              "      <td>...</td>\n",
              "      <td>...</td>\n",
              "      <td>...</td>\n",
              "    </tr>\n",
              "    <tr>\n",
              "      <th>37581</th>\n",
              "      <td>B0731HBTZ7</td>\n",
              "      <td>Apple</td>\n",
              "      <td>Apple iPhone 7 32GB, Rose Gold (Renewed)</td>\n",
              "      <td>https://www.amazon.com/Apple-iPhone-32GB-Rose-...</td>\n",
              "      <td>https://m.media-amazon.com/images/I/51cRE43zKw...</td>\n",
              "      <td>3.8</td>\n",
              "      <td>https://www.amazon.com/product-reviews/B0731HBTZ7</td>\n",
              "      <td>452</td>\n",
              "      <td>199.95</td>\n",
              "      <td>210.00</td>\n",
              "      <td>Greg</td>\n",
              "      <td>5</td>\n",
              "      <td>April 1, 2019</td>\n",
              "      <td>True</td>\n",
              "      <td>Seems like a great buy</td>\n",
              "      <td>I bought this for my daughter and she seems ve...</td>\n",
              "      <td>NaN</td>\n",
              "      <td>bought daughter pleased use ting service super...</td>\n",
              "      <td>1</td>\n",
              "      <td>True</td>\n",
              "    </tr>\n",
              "    <tr>\n",
              "      <th>37616</th>\n",
              "      <td>B0731HBTZ7</td>\n",
              "      <td>Apple</td>\n",
              "      <td>Apple iPhone 7 32GB, Rose Gold (Renewed)</td>\n",
              "      <td>https://www.amazon.com/Apple-iPhone-32GB-Rose-...</td>\n",
              "      <td>https://m.media-amazon.com/images/I/51cRE43zKw...</td>\n",
              "      <td>3.8</td>\n",
              "      <td>https://www.amazon.com/product-reviews/B0731HBTZ7</td>\n",
              "      <td>452</td>\n",
              "      <td>199.95</td>\n",
              "      <td>210.00</td>\n",
              "      <td>Michelle elder</td>\n",
              "      <td>4</td>\n",
              "      <td>April 1, 2019</td>\n",
              "      <td>True</td>\n",
              "      <td>Gets hot easy.. Kinda worried and honna keep a...</td>\n",
              "      <td>Works with safelink wireless. Put in sim card ...</td>\n",
              "      <td>NaN</td>\n",
              "      <td>work safelink wireless sim card old  worked im...</td>\n",
              "      <td>1</td>\n",
              "      <td>True</td>\n",
              "    </tr>\n",
              "    <tr>\n",
              "      <th>31785</th>\n",
              "      <td>B06XRJQX91</td>\n",
              "      <td>Apple</td>\n",
              "      <td>Apple iPhone 6S, 64GB, Rose Gold - For AT&amp;T / ...</td>\n",
              "      <td>https://www.amazon.com/Apple-iPhone-Unlocked-D...</td>\n",
              "      <td>https://m.media-amazon.com/images/I/61+mrwyL24...</td>\n",
              "      <td>3.6</td>\n",
              "      <td>https://www.amazon.com/product-reviews/B06XRJQX91</td>\n",
              "      <td>427</td>\n",
              "      <td>158.88</td>\n",
              "      <td>271.84</td>\n",
              "      <td>Insiya Hasan</td>\n",
              "      <td>3</td>\n",
              "      <td>April 1, 2018</td>\n",
              "      <td>True</td>\n",
              "      <td>Three Stars</td>\n",
              "      <td>The phone did have scratches and a dent on it ...</td>\n",
              "      <td>2.0</td>\n",
              "      <td>scratch dent tends overheat</td>\n",
              "      <td>0</td>\n",
              "      <td>True</td>\n",
              "    </tr>\n",
              "    <tr>\n",
              "      <th>42977</th>\n",
              "      <td>B077XM1GZM</td>\n",
              "      <td>Apple</td>\n",
              "      <td>Apple iPhone 6S Plus, 64GB, Silver - Fully Unl...</td>\n",
              "      <td>https://www.amazon.com/Apple-iPhone-a1687-Unlo...</td>\n",
              "      <td>https://m.media-amazon.com/images/I/81ia5dHUn3...</td>\n",
              "      <td>3.8</td>\n",
              "      <td>https://www.amazon.com/product-reviews/B077XM1GZM</td>\n",
              "      <td>12</td>\n",
              "      <td>258.80</td>\n",
              "      <td>349.99</td>\n",
              "      <td>Cheesey</td>\n",
              "      <td>5</td>\n",
              "      <td>April 1, 2018</td>\n",
              "      <td>True</td>\n",
              "      <td>Quality</td>\n",
              "      <td>Quality refurbished phone. Looks and works lik...</td>\n",
              "      <td>5.0</td>\n",
              "      <td>quality refurbished look work like brand new f...</td>\n",
              "      <td>1</td>\n",
              "      <td>True</td>\n",
              "    </tr>\n",
              "    <tr>\n",
              "      <th>29713</th>\n",
              "      <td>B01N9YO1DS</td>\n",
              "      <td>Apple</td>\n",
              "      <td>Apple iPhone 7, 128GB, Gold - For AT&amp;T / T-Mob...</td>\n",
              "      <td>https://www.amazon.com/Apple-iPhone-GSM-Unlock...</td>\n",
              "      <td>https://m.media-amazon.com/images/I/71RYhD1uzp...</td>\n",
              "      <td>3.5</td>\n",
              "      <td>https://www.amazon.com/product-reviews/B01N9YO1DS</td>\n",
              "      <td>227</td>\n",
              "      <td>215.00</td>\n",
              "      <td>399.99</td>\n",
              "      <td>Amazon Customer</td>\n",
              "      <td>1</td>\n",
              "      <td>April 1, 2018</td>\n",
              "      <td>True</td>\n",
              "      <td>Horrible phone, your better off paying $100 mo...</td>\n",
              "      <td>Horrible phone, your better off paying $100 mo...</td>\n",
              "      <td>NaN</td>\n",
              "      <td>horrible better paying 100  buying brand new 1...</td>\n",
              "      <td>-1</td>\n",
              "      <td>True</td>\n",
              "    </tr>\n",
              "  </tbody>\n",
              "</table>\n",
              "<p>5143 rows × 20 columns</p>\n",
              "</div>"
            ],
            "text/plain": [
              "             asin  brand  ... positivity renewed\n",
              "37805  B0731HBTZ7  Apple  ...          1    True\n",
              "42149  B07755LZ67  Apple  ...          1    True\n",
              "41893  B0775451TT  Apple  ...          1    True\n",
              "35704  B071JPQYGK  Apple  ...         -1    True\n",
              "48696  B07D6TQP6F  Apple  ...          1    True\n",
              "...           ...    ...  ...        ...     ...\n",
              "37581  B0731HBTZ7  Apple  ...          1    True\n",
              "37616  B0731HBTZ7  Apple  ...          1    True\n",
              "31785  B06XRJQX91  Apple  ...          0    True\n",
              "42977  B077XM1GZM  Apple  ...          1    True\n",
              "29713  B01N9YO1DS  Apple  ...         -1    True\n",
              "\n",
              "[5143 rows x 20 columns]"
            ]
          },
          "metadata": {
            "tags": []
          },
          "execution_count": 14
        }
      ]
    },
    {
      "cell_type": "markdown",
      "metadata": {
        "id": "styoqGIoWhoh",
        "colab_type": "text"
      },
      "source": [
        "Ngrams and Wordclouds\n"
      ]
    },
    {
      "cell_type": "code",
      "metadata": {
        "id": "eXJ-9VhrBIH2",
        "colab_type": "code",
        "outputId": "b2cc7697-e164-41f1-fdcd-b400e4f030e0",
        "colab": {
          "base_uri": "https://localhost:8080/",
          "height": 187
        }
      },
      "source": [
        "def get_top_n_bigram(corpus, n=None):\n",
        "    vec = CountVectorizer(ngram_range=(2, 2), stop_words='english').fit(corpus)\n",
        "    bag_of_words = vec.transform(corpus)\n",
        "    sum_words = bag_of_words.sum(axis=0) \n",
        "    words_freq = [(word, sum_words[0, idx]) for word, idx in vec.vocabulary_.items()]\n",
        "    words_freq =sorted(words_freq, key = lambda x: x[1], reverse=True)\n",
        "    return words_freq[:n]\n",
        "common_words = get_top_n_bigram(apple[\"clean_text\"], 10)\n",
        "for word, freq in common_words:\n",
        "    print(word, freq)\n",
        "\n"
      ],
      "execution_count": 0,
      "outputs": [
        {
          "output_type": "stream",
          "text": [
            "brand new 366\n",
            "battery life 359\n",
            "like new 318\n",
            "sim card 214\n",
            "work great 176\n",
            "screen protector 150\n",
            "perfect condition 117\n",
            "look like 111\n",
            "battery health 100\n",
            "good condition 92\n"
          ],
          "name": "stdout"
        }
      ]
    },
    {
      "cell_type": "code",
      "metadata": {
        "id": "Ogg3xvOfF8JT",
        "colab_type": "code",
        "outputId": "7efa26a5-9d12-4561-97e8-34c3aa82b718",
        "colab": {
          "base_uri": "https://localhost:8080/",
          "height": 204
        }
      },
      "source": [
        "df4 = pd.DataFrame(common_words, columns = ['Bigrams' , 'count'])\n",
        "df4.head()"
      ],
      "execution_count": 0,
      "outputs": [
        {
          "output_type": "execute_result",
          "data": {
            "text/html": [
              "<div>\n",
              "<style scoped>\n",
              "    .dataframe tbody tr th:only-of-type {\n",
              "        vertical-align: middle;\n",
              "    }\n",
              "\n",
              "    .dataframe tbody tr th {\n",
              "        vertical-align: top;\n",
              "    }\n",
              "\n",
              "    .dataframe thead th {\n",
              "        text-align: right;\n",
              "    }\n",
              "</style>\n",
              "<table border=\"1\" class=\"dataframe\">\n",
              "  <thead>\n",
              "    <tr style=\"text-align: right;\">\n",
              "      <th></th>\n",
              "      <th>Bigrams</th>\n",
              "      <th>count</th>\n",
              "    </tr>\n",
              "  </thead>\n",
              "  <tbody>\n",
              "    <tr>\n",
              "      <th>0</th>\n",
              "      <td>brand new</td>\n",
              "      <td>366</td>\n",
              "    </tr>\n",
              "    <tr>\n",
              "      <th>1</th>\n",
              "      <td>battery life</td>\n",
              "      <td>359</td>\n",
              "    </tr>\n",
              "    <tr>\n",
              "      <th>2</th>\n",
              "      <td>like new</td>\n",
              "      <td>318</td>\n",
              "    </tr>\n",
              "    <tr>\n",
              "      <th>3</th>\n",
              "      <td>sim card</td>\n",
              "      <td>214</td>\n",
              "    </tr>\n",
              "    <tr>\n",
              "      <th>4</th>\n",
              "      <td>work great</td>\n",
              "      <td>176</td>\n",
              "    </tr>\n",
              "  </tbody>\n",
              "</table>\n",
              "</div>"
            ],
            "text/plain": [
              "        Bigrams  count\n",
              "0     brand new    366\n",
              "1  battery life    359\n",
              "2      like new    318\n",
              "3      sim card    214\n",
              "4    work great    176"
            ]
          },
          "metadata": {
            "tags": []
          },
          "execution_count": 18
        }
      ]
    },
    {
      "cell_type": "code",
      "metadata": {
        "id": "U9-xEv4aIXTb",
        "colab_type": "code",
        "outputId": "adc6fe3b-30d1-4e16-b2f2-abb1c72920d9",
        "colab": {
          "base_uri": "https://localhost:8080/",
          "height": 422
        }
      },
      "source": [
        "plt.figure(figsize=(25,5))\n",
        "sns.barplot(x='Bigrams',y='count',data=df4,color=\"salmon\")\n",
        "plt.xlabel('Top 10 Bigrams')\n",
        "plt.ylabel('Count')\n",
        "plt.title('Top 10 bigrams in review after removing stop words')\n",
        "plt.xticks(rotation=30);\n"
      ],
      "execution_count": 0,
      "outputs": [
        {
          "output_type": "display_data",
          "data": {
            "image/png": "[encoded data removed]",
            "text/plain": [
              "<Figure size 1800x360 with 1 Axes>"
            ]
          },
          "metadata": {
            "tags": []
          }
        }
      ]
    },
    {
      "cell_type": "code",
      "metadata": {
        "id": "k4HX17PmScm-",
        "colab_type": "code",
        "outputId": "5c05b8b9-44b0-489e-ebf0-0bb5fadd19c1",
        "colab": {
          "base_uri": "https://localhost:8080/",
          "height": 374
        }
      },
      "source": [
        "def get_top_n_trigram(corpus, n=None):\n",
        "    vec = CountVectorizer(ngram_range=(3, 3), stop_words='english').fit(corpus)\n",
        "    bag_of_words = vec.transform(corpus)\n",
        "    sum_words = bag_of_words.sum(axis=0) \n",
        "    words_freq = [(word, sum_words[0, idx]) for word, idx in vec.vocabulary_.items()]\n",
        "    words_freq =sorted(words_freq, key = lambda x: x[1], reverse=True)\n",
        "    return words_freq[:n]\n",
        "common_words_trigrams = get_top_n_trigram(apple[\"clean_text\"], 10)\n",
        "for word, freq in common_words_trigrams:\n",
        "    print(word, freq)\n",
        "\n",
        "df5 = pd.DataFrame(common_words_trigrams, columns = ['Trigrams' , 'count'])\n",
        "df5.head()"
      ],
      "execution_count": 0,
      "outputs": [
        {
          "output_type": "stream",
          "text": [
            "like brand new 84\n",
            "look brand new 83\n",
            "look like new 61\n",
            "work like new 57\n",
            "looked brand new 37\n",
            "came screen protector 35\n",
            "like new condition 26\n",
            "brand new scratch 23\n",
            "came perfect condition 23\n",
            "glass screen protector 21\n"
          ],
          "name": "stdout"
        },
        {
          "output_type": "execute_result",
          "data": {
            "text/html": [
              "<div>\n",
              "<style scoped>\n",
              "    .dataframe tbody tr th:only-of-type {\n",
              "        vertical-align: middle;\n",
              "    }\n",
              "\n",
              "    .dataframe tbody tr th {\n",
              "        vertical-align: top;\n",
              "    }\n",
              "\n",
              "    .dataframe thead th {\n",
              "        text-align: right;\n",
              "    }\n",
              "</style>\n",
              "<table border=\"1\" class=\"dataframe\">\n",
              "  <thead>\n",
              "    <tr style=\"text-align: right;\">\n",
              "      <th></th>\n",
              "      <th>Trigrams</th>\n",
              "      <th>count</th>\n",
              "    </tr>\n",
              "  </thead>\n",
              "  <tbody>\n",
              "    <tr>\n",
              "      <th>0</th>\n",
              "      <td>like brand new</td>\n",
              "      <td>84</td>\n",
              "    </tr>\n",
              "    <tr>\n",
              "      <th>1</th>\n",
              "      <td>look brand new</td>\n",
              "      <td>83</td>\n",
              "    </tr>\n",
              "    <tr>\n",
              "      <th>2</th>\n",
              "      <td>look like new</td>\n",
              "      <td>61</td>\n",
              "    </tr>\n",
              "    <tr>\n",
              "      <th>3</th>\n",
              "      <td>work like new</td>\n",
              "      <td>57</td>\n",
              "    </tr>\n",
              "    <tr>\n",
              "      <th>4</th>\n",
              "      <td>looked brand new</td>\n",
              "      <td>37</td>\n",
              "    </tr>\n",
              "  </tbody>\n",
              "</table>\n",
              "</div>"
            ],
            "text/plain": [
              "           Trigrams  count\n",
              "0    like brand new     84\n",
              "1    look brand new     83\n",
              "2     look like new     61\n",
              "3     work like new     57\n",
              "4  looked brand new     37"
            ]
          },
          "metadata": {
            "tags": []
          },
          "execution_count": 21
        }
      ]
    },
    {
      "cell_type": "code",
      "metadata": {
        "id": "TuunZPdXS055",
        "colab_type": "code",
        "outputId": "0297f833-cf3b-4cd1-a5dc-d6c4c3dfa61f",
        "colab": {
          "base_uri": "https://localhost:8080/",
          "height": 444
        }
      },
      "source": [
        "plt.figure(figsize=(25,5))\n",
        "sns.barplot(x='Trigrams',y='count',data=df5,color=\"salmon\")\n",
        "plt.xlabel('Top 10 Trigrams')\n",
        "plt.ylabel('Count')\n",
        "plt.title('Top 10 Trigrams in reviews after removing stop words')\n",
        "plt.xticks(rotation=30);"
      ],
      "execution_count": 0,
      "outputs": [
        {
          "output_type": "display_data",
          "data": {
            "image/png": "[encoded data removed]",
            "text/plain": [
              "<Figure size 1800x360 with 1 Axes>"
            ]
          },
          "metadata": {
            "tags": []
          }
        }
      ]
    },
    {
      "cell_type": "code",
      "metadata": {
        "id": "11sf4-kGyY40",
        "colab_type": "code",
        "colab": {}
      },
      "source": [
        "from wordcloud import WordCloud, ImageColorGenerator\n",
        "\n",
        "# Define a function to create a wordcloud from dictionary of word frequency\n",
        "def wordcloud_from_frequency(word_freq_dict, title, figure_size=(10, 6)):\n",
        "    wordcloud.generate_from_frequencies(word_freq_dict)\n",
        "    plt.figure(figsize=figure_size)\n",
        "    plt.imshow(wordcloud)\n",
        "    plt.axis(\"off\")\n",
        "    plt.title(title)\n",
        "    plt.show()\n"
      ],
      "execution_count": 0,
      "outputs": []
    },
    {
      "cell_type": "code",
      "metadata": {
        "id": "bdIU6_ps7UGq",
        "colab_type": "code",
        "colab": {}
      },
      "source": [
        "def word_freq_dict(text):\n",
        "    # Convert text into word list\n",
        "    wordList = text.split()\n",
        "    # Generate word freq dictionary\n",
        "    wordFreqDict = {word: wordList.count(word) for word in wordList}\n",
        "    return wordFreqDict"
      ],
      "execution_count": 0,
      "outputs": []
    },
    {
      "cell_type": "code",
      "metadata": {
        "id": "ocL_1lPYEiqH",
        "colab_type": "code",
        "cellView": "form",
        "outputId": "bab99b5a-0d24-45d7-e560-c1c387933e3e",
        "colab": {
          "base_uri": "https://localhost:8080/",
          "height": 36
        }
      },
      "source": [
        "#@title Import data for Topic Modeling\n",
        "file_id = '1-hAZqHhS8pmiX3nJGV_WjQ_GG_cr9LRf'\n",
        "downloaded = drive.CreateFile({'id': file_id})\n",
        "downloaded.GetContentFile('df_sent_hybrid.csv')\n",
        "topic_df = pd.read_csv(\"df_sent_hybrid.csv\")\n",
        "topic_df['brand'] = topic_df['brand'].astype(str)\n",
        "\n",
        "print(\"Data import complete!\")"
      ],
      "execution_count": 0,
      "outputs": [
        {
          "output_type": "stream",
          "text": [
            "Data import complete!\n"
          ],
          "name": "stdout"
        }
      ]
    },
    {
      "cell_type": "code",
      "metadata": {
        "id": "WNcTr2F-lPih",
        "colab_type": "code",
        "outputId": "9593b003-7d4e-4701-ae87-dfb9078ceb47",
        "cellView": "form",
        "colab": {
          "base_uri": "https://localhost:8080/",
          "height": 373
        }
      },
      "source": [
        "#@title Apple, Samsung and Xiaomi subsets\n",
        "topic_df_Apple=topic_df[topic_df['brand']=='Apple']\n",
        "topic_df_Apple['body']=topic_df_Apple['body'].astype(str)\n",
        "apple_pos = topic_df_Apple[topic_df_Apple['vader_p']==1]\n",
        "apple_neg = topic_df_Apple[topic_df_Apple['vader_n']==1]\n",
        "\n",
        "topic_df_Samsung=topic_df[topic_df['brand']=='Samsung']\n",
        "topic_df_Samsung['body']=topic_df_Samsung['body'].astype(str)\n",
        "samsung_pos = topic_df_Samsung[topic_df_Samsung['vader_p']==1]\n",
        "samsung_neg = topic_df_Samsung[topic_df_Samsung['vader_n']==1]\n",
        "\n",
        "topic_df_Xiaomi=topic_df[topic_df['brand']=='Xiaomi']\n",
        "topic_df_Xiaomi['body']=topic_df_Xiaomi['body'].astype(str)\n",
        "xiaomi_pos = topic_df_Xiaomi[topic_df_Xiaomi['vader_p']==1]\n",
        "xiaomi_neg = topic_df_Xiaomi[topic_df_Xiaomi['vader_n']==1]"
      ],
      "execution_count": 0,
      "outputs": [
        {
          "output_type": "stream",
          "text": [
            "/usr/local/lib/python3.6/dist-packages/ipykernel_launcher.py:2: SettingWithCopyWarning: \n",
            "A value is trying to be set on a copy of a slice from a DataFrame.\n",
            "Try using .loc[row_indexer,col_indexer] = value instead\n",
            "\n",
            "See the caveats in the documentation: https://pandas.pydata.org/pandas-docs/stable/user_guide/indexing.html#returning-a-view-versus-a-copy\n",
            "  \n",
            "/usr/local/lib/python3.6/dist-packages/ipykernel_launcher.py:7: SettingWithCopyWarning: \n",
            "A value is trying to be set on a copy of a slice from a DataFrame.\n",
            "Try using .loc[row_indexer,col_indexer] = value instead\n",
            "\n",
            "See the caveats in the documentation: https://pandas.pydata.org/pandas-docs/stable/user_guide/indexing.html#returning-a-view-versus-a-copy\n",
            "  import sys\n",
            "/usr/local/lib/python3.6/dist-packages/ipykernel_launcher.py:12: SettingWithCopyWarning: \n",
            "A value is trying to be set on a copy of a slice from a DataFrame.\n",
            "Try using .loc[row_indexer,col_indexer] = value instead\n",
            "\n",
            "See the caveats in the documentation: https://pandas.pydata.org/pandas-docs/stable/user_guide/indexing.html#returning-a-view-versus-a-copy\n",
            "  if sys.path[0] == '':\n"
          ],
          "name": "stderr"
        }
      ]
    },
    {
      "cell_type": "code",
      "metadata": {
        "id": "l_BA4MSzYrnP",
        "colab_type": "code",
        "outputId": "f34704c8-5275-4c96-cfaa-04e95ec14760",
        "cellView": "form",
        "colab": {
          "base_uri": "https://localhost:8080/",
          "height": 36
        }
      },
      "source": [
        "#@title Clean data for Topic Modeling\n",
        "keywords = topic_df[\"brand\"].apply(lambda x: x.lower()).unique().tolist()\n",
        "keywords.append(\"phone\")\n",
        "keywords.append(\"iphone\")\n",
        "lemma = WordNetLemmatizer()\n",
        "spacy_stopwords = spacy.lang.en.stop_words.STOP_WORDS\n",
        "def clean_text(text):\n",
        "    # Convert the text into lowercase\n",
        "    lower = text.lower()\n",
        "    # Split into list\n",
        "    wordList = lower.split()\n",
        "    # Remove punctuation\n",
        "    wordList_punc = [\"\".join(i for i in word if (i==\"'\")|(i not in string.punctuation)) for word in wordList]\n",
        "    # Remove stopwords\n",
        "    wordList_stop = [word for word in wordList_punc if word not in list(spacy_stopwords)]\n",
        "    # Remove other keywords\n",
        "    wordList_key = [word for word in wordList_stop if word not in keywords]\n",
        "    # Stemming\n",
        "    #words_stemmed= [stemmer.stem(word) for word in wordList_key]\n",
        "    # Lemmatisation\n",
        "    #lemma_word = nlp(wordList)\n",
        "    wordList_clean = [lemma.lemmatize(word) for word in wordList_key]\n",
        "    #wordList = [word.lemma_ for word in wordList]\n",
        "    return \" \".join(wordList_clean)\n",
        "\n",
        "apple_neg['clean_text'] = \"\"\n",
        "apple_neg[\"clean_text\"] = apple_neg[\"body\"].apply(clean_text)\n",
        "cv = CountVectorizer(ngram_range=(2,3),\n",
        "                     stop_words='english')\n",
        "dtm = cv.fit_transform(apple_neg['clean_text'])\n",
        "clean_text('This is our collaboratory notebook for Data Mining Project. Okay you should be excited reading this!')"
      ],
      "execution_count": 0,
      "outputs": [
        {
          "output_type": "execute_result",
          "data": {
            "text/plain": [
              "'collaboratory notebook data mining project okay excited reading'"
            ]
          },
          "metadata": {
            "tags": []
          },
          "execution_count": 42
        }
      ]
    },
    {
      "cell_type": "code",
      "metadata": {
        "id": "pDSoO4_CUrpG",
        "colab_type": "code",
        "colab": {}
      },
      "source": [
        "#dtm = cv.fit_transform(topic_df[\"body\"])\n",
        "#common_words_bigrams = get_top_n_bigram(topic_df_Apple_neg['body'])\n",
        "#bigrams_list = [a_tuple[0] for a_tuple in common_words_bigrams]"
      ],
      "execution_count": 0,
      "outputs": []
    },
    {
      "cell_type": "code",
      "metadata": {
        "id": "qCpCFKHNUrwx",
        "colab_type": "code",
        "outputId": "0889fae2-ca53-4272-e97a-6a15696fcd3c",
        "cellView": "form",
        "colab": {
          "base_uri": "https://localhost:8080/",
          "height": 148
        }
      },
      "source": [
        "#@title LDA\n",
        "n_topics=10\n",
        "lda = LatentDirichletAllocation(\n",
        "      n_components=n_topics, \n",
        "      max_iter=100, \n",
        "      learning_method='online',\n",
        "      learning_offset=100.0,\n",
        "      n_jobs=1,\n",
        "      random_state=0,learning_decay=0.5)\n",
        "lda.fit(dtm)"
      ],
      "execution_count": 0,
      "outputs": [
        {
          "output_type": "execute_result",
          "data": {
            "text/plain": [
              "LatentDirichletAllocation(batch_size=128, doc_topic_prior=None,\n",
              "                          evaluate_every=-1, learning_decay=0.5,\n",
              "                          learning_method='online', learning_offset=100.0,\n",
              "                          max_doc_update_iter=100, max_iter=100,\n",
              "                          mean_change_tol=0.001, n_components=10, n_jobs=1,\n",
              "                          perp_tol=0.1, random_state=0, topic_word_prior=None,\n",
              "                          total_samples=1000000.0, verbose=0)"
            ]
          },
          "metadata": {
            "tags": []
          },
          "execution_count": 51
        }
      ]
    },
    {
      "cell_type": "code",
      "metadata": {
        "id": "co7OO9VRUr4e",
        "colab_type": "code",
        "outputId": "b34804fc-4767-4d7a-f0b2-371921eb94f6",
        "colab": {
          "base_uri": "https://localhost:8080/",
          "height": 297
        }
      },
      "source": [
        "single_topic = lda.components_[0]\n",
        "top_words = single_topic.argsort()[-15:]\n",
        "for index in top_words:\n",
        "  #print(tfidf_vectorizer.get_feature_names()[index])\n",
        "  print(cv.get_feature_names()[index])"
      ],
      "execution_count": 0,
      "outputs": [
        {
          "output_type": "stream",
          "text": [
            "work look like\n",
            "fully unlocked\n",
            "battery health\n",
            "work great\n",
            "new scratch\n",
            "work look\n",
            "new battery\n",
            "look like new\n",
            "like brand\n",
            "like brand new\n",
            "like new\n",
            "look brand new\n",
            "look brand\n",
            "look like\n",
            "brand new\n"
          ],
          "name": "stdout"
        }
      ]
    },
    {
      "cell_type": "code",
      "metadata": {
        "id": "EQ6j_J8gUr-x",
        "colab_type": "code",
        "outputId": "72e3e225-fc06-4fb4-c6fa-abbf572d7136",
        "colab": {
          "base_uri": "https://localhost:8080/",
          "height": 411
        }
      },
      "source": [
        "for i,topic in enumerate(lda.components_):\n",
        "  print(f\"Top Words for topic #{i}\")\n",
        "  print([cv.get_feature_names()[index] for index in topic.argsort()[-15:]])\n",
        "  #print('\\n')"
      ],
      "execution_count": 0,
      "outputs": [
        {
          "output_type": "stream",
          "text": [
            "Top Words for topic #0\n",
            "['work look like', 'fully unlocked', 'battery health', 'work great', 'new scratch', 'work look', 'new battery', 'look like new', 'like brand', 'like brand new', 'like new', 'look brand new', 'look brand', 'look like', 'brand new']\n",
            "Top Words for topic #1\n",
            "['new battery', '100 battery', '100 battery health', 'new condition', 'like new condition', 'home button', 'doesn work', 'waste money', 'el celular', 'work like new', 'screen protector', 'battery life', 'work like', 'battery health', 'like new']\n",
            "Top Words for topic #2\n",
            "['unsupported browser', 'video unsupported browser', 'video unsupported', 'negative review', 'original box', 'service plan', 'verizon sim', 'exactly described', 'reading review', 'came screen protector', 'came screen', 'look new', 'screen protector', 'work fine', 'sim card']\n",
            "Top Words for topic #3\n",
            "['came fully unlocked', 'look like', 'battery 100', 'minor scratch', 'looked new', 'like new', 'el teléfono', 'worth money', 'screen protector', '64 gb', '256 gb', 'todo bien', 'fully unlocked', 'scratch screen', 'doesn work']\n",
            "Top Words for topic #4\n",
            "['stopped working month', 'working month', 'battery life good', 'life good', 'don want', 'life suck', 'battery life suck', 'muy buen', '90 day', 'contacted seller', 'battery dy', 'buen producto', 'buy new', 'stopped working', 'battery life']\n",
            "Top Words for topic #5\n",
            "['audio phone', 'refurbished product', 'replace battery', 'crack screen', 'touch screen', 'waste time', 'waste money', 'stop working', 'fast shipping', 'muy bien pero', 'spend money', 'certified refurbished', 'charging port', 'muy bien', 'brand new']\n",
            "Top Words for topic #6\n",
            "['buy refurbished', '90 day', 'screen went', 'face id work', 'id work', 'battery life horrible', 'life horrible', 'quality product', 'refurbished product', 'don buy', 'good quality', 'buying refurbished', 'didn work', 'face id', 'battery life']\n",
            "Top Words for topic #7\n",
            "['celular excelente', 'pero lo', 'nuevo sin', 'llego en', 'el producto', 'muy buena', 'en el', 'la telefone', 'muy bueno', 'la bateria', 'el celular', 'en la', 'como nuevo', 'el teléfono', 'la batería']\n",
            "Top Words for topic #8\n",
            "['product came', 'received cracked screen', 'received cracked', 'shutter sound', 'come headphone', 'looked brand', 'looked brand new', 'scratch mark', 'customer service', 'came scratch', 'cracked screen', 'brand new', 'took store', 'good product', 'work verizon']\n",
            "Top Words for topic #9\n",
            "['cargador original sin', 'sin audífonos', 'original sin audífonos', 'charger headphone', 'item arrived', 'el original', 'trae audífonos', 'arrived described', 'funciona perfectamente', 'sin ningún', 'working fine', 'el cargador original', 'cargador original', 'el cargador', 'good condition']\n"
          ],
          "name": "stdout"
        }
      ]
    },
    {
      "cell_type": "markdown",
      "metadata": {
        "id": "NnK9zKUwDPc_",
        "colab_type": "text"
      },
      "source": [
        "## Non Negative Matrix Factorization "
      ]
    },
    {
      "cell_type": "code",
      "metadata": {
        "id": "KMKIeAlsB2np",
        "colab_type": "code",
        "colab": {}
      },
      "source": [
        "from sklearn.feature_extraction.text import TfidfVectorizer\n",
        "from sklearn.decomposition import NMF\n",
        "tfidf= TfidfVectorizer(max_df=0.95,min_df=2,stop_words='english',ngram_range=(3,3))"
      ],
      "execution_count": 0,
      "outputs": []
    },
    {
      "cell_type": "code",
      "metadata": {
        "id": "c42JK2aECJVD",
        "colab_type": "code",
        "colab": {}
      },
      "source": [
        "dtm = tfidf.fit_transform(topic_df_Apple_neg['clean_text'])"
      ],
      "execution_count": 0,
      "outputs": []
    },
    {
      "cell_type": "code",
      "metadata": {
        "id": "pnmrG2TYCJ1C",
        "colab_type": "code",
        "outputId": "6133f2ca-a770-4aab-c264-341bb9543a29",
        "colab": {
          "base_uri": "https://localhost:8080/",
          "height": 68
        }
      },
      "source": [
        "nmf_model=NMF(n_components=n_topics,random_state=42)\n",
        "nmf_model.fit(dtm)"
      ],
      "execution_count": 0,
      "outputs": [
        {
          "output_type": "execute_result",
          "data": {
            "text/plain": [
              "NMF(alpha=0.0, beta_loss='frobenius', init=None, l1_ratio=0.0, max_iter=200,\n",
              "    n_components=4, random_state=42, shuffle=False, solver='cd', tol=0.0001,\n",
              "    verbose=0)"
            ]
          },
          "metadata": {
            "tags": []
          },
          "execution_count": 104
        }
      ]
    },
    {
      "cell_type": "code",
      "metadata": {
        "id": "PJxkQ4kPDXcd",
        "colab_type": "code",
        "outputId": "5304253f-b5eb-41d3-9880-d5e0c98b3bc8",
        "colab": {
          "base_uri": "https://localhost:8080/",
          "height": 173
        }
      },
      "source": [
        "for index,topic in enumerate(nmf_model.components_):\n",
        "  print(f\"THE TOP 10 WORDS FOR TOPIC #{index}\")\n",
        "  print([tfidf.get_feature_names()[index] for index in topic.argsort()[-10:]])\n",
        "  #print('\\n')"
      ],
      "execution_count": 0,
      "outputs": [
        {
          "output_type": "stream",
          "text": [
            "THE TOP 10 WORDS FOR TOPIC #0\n",
            "['sim card worked', 'new scratch dent', 'camera shutter sound', 'brand new battery', 'brand new far', 'came sooner expected', 'looked like new', 'scratch look brand', 'brand new scratch', 'look brand new']\n",
            "THE TOP 10 WORDS FOR TOPIC #1\n",
            "['issue far week', 'came generic charger', 'far week cosmetic', 'renewed work like', 'generic charger issue', 'week cosmetic damage', 'new came generic', 'like new came', 'look work like', 'work like new']\n",
            "THE TOP 10 WORDS FOR TOPIC #2\n",
            "['new prefect came', 'brand new prefect', 'prefect came fully', 'came fully unlocked', 'work look like', 'battery life good', 'worked like brand', 'look like brand', 'work like brand', 'like brand new']\n",
            "THE TOP 10 WORDS FOR TOPIC #3\n",
            "['screen protector charger', 'camera shutter sound', 'condition battery life', 'quality battery life', 'came screen protector', 'new scratch dent', 'brand new scratch', 'battery life good', 'charger head phone', 'looked brand new']\n"
          ],
          "name": "stdout"
        }
      ]
    },
    {
      "cell_type": "markdown",
      "metadata": {
        "id": "F2Pv-RxA-70r",
        "colab_type": "text"
      },
      "source": [
        "## USING GENSIM"
      ]
    },
    {
      "cell_type": "code",
      "metadata": {
        "id": "BlntRBmk8OBY",
        "colab_type": "code",
        "colab": {}
      },
      "source": [
        "import sys\n",
        "# !{sys.executable} -m spacy download en\n",
        "import re, numpy as np, pandas as pd\n",
        "from pprint import pprint\n",
        "\n",
        "# Gensim\n",
        "import gensim, spacy, logging, warnings\n",
        "import gensim.corpora as corpora\n",
        "from gensim.utils import lemmatize, simple_preprocess\n",
        "from gensim.models import CoherenceModel\n",
        "\n",
        "# NLTK Stop words\n",
        "from nltk.corpus import stopwords\n",
        "stop_words = stopwords.words('english')\n",
        "stop_words.extend(['phone','from', 'subject', 're', 'edu', 'use', 'not', 'would', 'say', 'could', '_', 'be', 'know', 'good', 'go', 'get', 'do', 'done', 'try', 'many', 'some', 'nice', 'thank', 'think', 'see', 'rather', 'easy', 'easily', 'lot', 'lack', 'make', 'want', 'seem', 'run', 'need', 'even', 'right', 'line', 'even', 'also', 'may', 'take', 'come'])\n"
      ],
      "execution_count": 0,
      "outputs": []
    },
    {
      "cell_type": "code",
      "metadata": {
        "id": "BWIMtGfT8QrK",
        "colab_type": "code",
        "colab": {}
      },
      "source": [
        "def sent_to_words(sentences):\n",
        "    for sent in sentences:\n",
        "        sent = re.sub('\\S*@\\S*\\s?', '', sent)  # remove emails\n",
        "        sent = re.sub('\\s+', ' ', sent)  # remove newline chars\n",
        "        sent = re.sub(\"\\'\", \"\", sent)  # remove single quotes\n",
        "        sent = gensim.utils.simple_preprocess(str(sent), deacc=True) \n",
        "        yield(sent)\n",
        "\n",
        "# Convert to list\n",
        "data = apple_neg.body.values.tolist()\n",
        "data_words = list(sent_to_words(data))"
      ],
      "execution_count": 0,
      "outputs": []
    },
    {
      "cell_type": "code",
      "metadata": {
        "id": "TmltBKOF8QuQ",
        "colab_type": "code",
        "outputId": "0a9c3739-1e44-4b39-a81d-1fa2cd5733e2",
        "colab": {
          "base_uri": "https://localhost:8080/",
          "height": 74
        }
      },
      "source": [
        "keywords = topic_df[\"brand\"].apply(lambda x: x.lower()).unique().tolist()\n",
        "keywords.append(\"phone\")\n",
        "keywords.append(\"iphone\")\n",
        "keywords.append(\"ipad\")\n",
        "# Build the bigram and trigram models\n",
        "bigram = gensim.models.Phrases(data_words, min_count=5, threshold=100) # higher threshold fewer phrases.\n",
        "trigram = gensim.models.Phrases(bigram[data_words], threshold=100)  \n",
        "bigram_mod = gensim.models.phrases.Phraser(bigram)\n",
        "trigram_mod = gensim.models.phrases.Phraser(trigram)\n",
        "\n",
        "def process_words(texts, stop_words=stop_words, allowed_postags=['NOUN', 'ADJ', 'VERB', 'ADV']):\n",
        "    \n",
        "    texts = [[word for word in simple_preprocess(str(doc)) if word not in stop_words] for doc in texts]\n",
        "    texts = [bigram_mod[doc] for doc in texts]\n",
        "    texts = [trigram_mod[bigram_mod[doc]] for doc in texts]\n",
        "    texts_out = []\n",
        "    nlp = spacy.load('en', disable=['parser', 'ner'])\n",
        "    for sent in texts:\n",
        "        doc = nlp(\" \".join(sent)) \n",
        "        texts_out.append([token.lemma_ for token in doc if token.pos_ in allowed_postags])\n",
        "    # remove stopwords once more after lemmatization\n",
        "    texts_out = [[word for word in simple_preprocess(str(doc)) if word not in stop_words] for doc in texts_out]   \n",
        "    # Remove other keywords\n",
        "    texts_out = [[word for word in simple_preprocess(str(doc)) if word not in keywords] for doc in texts_out]\n",
        "    return texts_out\n",
        "\n",
        "data_ready = process_words(data_words) "
      ],
      "execution_count": 0,
      "outputs": [
        {
          "output_type": "stream",
          "text": [
            "/usr/local/lib/python3.6/dist-packages/gensim/models/phrases.py:598: UserWarning: For a faster implementation, use the gensim.models.phrases.Phraser class\n",
            "  warnings.warn(\"For a faster implementation, use the gensim.models.phrases.Phraser class\")\n"
          ],
          "name": "stderr"
        }
      ]
    },
    {
      "cell_type": "code",
      "metadata": {
        "id": "oXSQgHD4ERj3",
        "colab_type": "code",
        "outputId": "6353db48-d380-4f5b-f0f4-baf0f2848c14",
        "colab": {
          "base_uri": "https://localhost:8080/",
          "height": 36
        }
      },
      "source": [
        "process_words(['This is a sample sentence. Lets see if this removes ipad and iphone and phones from this text !!!'])"
      ],
      "execution_count": 0,
      "outputs": [
        {
          "output_type": "execute_result",
          "data": {
            "text/plain": [
              "[['let', 'remove', 'text']]"
            ]
          },
          "metadata": {
            "tags": []
          },
          "execution_count": 58
        }
      ]
    },
    {
      "cell_type": "code",
      "metadata": {
        "id": "UGGpMIQ18Qw-",
        "colab_type": "code",
        "colab": {}
      },
      "source": [
        "#@title Default title text\n",
        "num_topics =  4#@param {type:\"integer\"}\n",
        "# Create Dictionary\n",
        "id2word = corpora.Dictionary(data_ready)\n",
        "\n",
        "# Create Corpus: Term Document Frequency using BOW model\n",
        "corpus = [id2word.doc2bow(text) for text in data_ready]\n",
        "\n",
        "\n",
        "#Using Tfidf - replace corpus with corpus_tfidf\n",
        "from gensim import corpora, models\n",
        "tfidf = models.TfidfModel(corpus)\n",
        "corpus_tfidf = tfidf[corpus]\n",
        "\n",
        "#corpus = [id2word.doc2bow(text) for text in data_ready]\n",
        "# Build LDA model\n",
        "#Nmf(corpus_tfidf, num_topics=50, kappa=0.1, eval_every=5) #NMF\n",
        "lda_model = gensim.models.ldamodel.LdaModel(corpus=corpus_tfidf,\n",
        "                                           id2word=id2word,\n",
        "                                           num_topics=num_topics, \n",
        "                                           random_state=100,\n",
        "                                           update_every=1,\n",
        "                                           chunksize=10,\n",
        "                                           passes=10,\n",
        "                                           alpha='symmetric',\n",
        "                                           iterations=100,\n",
        "                                           per_word_topics=True)"
      ],
      "execution_count": 0,
      "outputs": []
    },
    {
      "cell_type": "code",
      "metadata": {
        "id": "YvJGqgmU8Qzy",
        "colab_type": "code",
        "outputId": "a12b55b9-4ebc-496c-906e-d7cd9fe0f32c",
        "colab": {
          "base_uri": "https://localhost:8080/",
          "height": 262
        }
      },
      "source": [
        "def format_topics_sentences(ldamodel=None, corpus=corpus, texts=data):\n",
        "    # Init output\n",
        "    sent_topics_df = pd.DataFrame()\n",
        "\n",
        "    # Get main topic in each document\n",
        "    for i, row_list in enumerate(ldamodel[corpus]):\n",
        "        row = row_list[0] if ldamodel.per_word_topics else row_list            \n",
        "        # print(row)\n",
        "        row = sorted(row, key=lambda x: (x[1]), reverse=True)\n",
        "        # Get the Dominant topic, Perc Contribution and Keywords for each document\n",
        "        for j, (topic_num, prop_topic) in enumerate(row):\n",
        "            if j == 0:  # => dominant topic\n",
        "                wp = ldamodel.show_topic(topic_num)\n",
        "                topic_keywords = \", \".join([word for word, prop in wp])\n",
        "                sent_topics_df = sent_topics_df.append(pd.Series([int(topic_num), round(prop_topic,4), topic_keywords]), ignore_index=True)\n",
        "            else:\n",
        "                break\n",
        "    sent_topics_df.columns = ['Dominant_Topic', 'Perc_Contribution', 'Topic_Keywords']\n",
        "\n",
        "    # Add original text to the end of the output\n",
        "    contents = pd.Series(texts)\n",
        "    sent_topics_df = pd.concat([sent_topics_df, contents], axis=1)\n",
        "    return(sent_topics_df)\n",
        "\n",
        "\n",
        "df_topic_sents_keywords = format_topics_sentences(ldamodel=lda_model, corpus=corpus, texts=data_ready)\n",
        "\n",
        "# Format\n",
        "df_dominant_topic = df_topic_sents_keywords.reset_index()\n",
        "df_dominant_topic.columns = ['Document_No', 'Dominant_Topic', 'Topic_Perc_Contrib', 'Keywords', 'Text']\n",
        "df_dominant_topic.head(4)"
      ],
      "execution_count": 0,
      "outputs": [
        {
          "output_type": "execute_result",
          "data": {
            "text/html": [
              "<div>\n",
              "<style scoped>\n",
              "    .dataframe tbody tr th:only-of-type {\n",
              "        vertical-align: middle;\n",
              "    }\n",
              "\n",
              "    .dataframe tbody tr th {\n",
              "        vertical-align: top;\n",
              "    }\n",
              "\n",
              "    .dataframe thead th {\n",
              "        text-align: right;\n",
              "    }\n",
              "</style>\n",
              "<table border=\"1\" class=\"dataframe\">\n",
              "  <thead>\n",
              "    <tr style=\"text-align: right;\">\n",
              "      <th></th>\n",
              "      <th>Document_No</th>\n",
              "      <th>Dominant_Topic</th>\n",
              "      <th>Topic_Perc_Contrib</th>\n",
              "      <th>Keywords</th>\n",
              "      <th>Text</th>\n",
              "    </tr>\n",
              "  </thead>\n",
              "  <tbody>\n",
              "    <tr>\n",
              "      <th>0</th>\n",
              "      <td>0</td>\n",
              "      <td>1.0</td>\n",
              "      <td>0.6333</td>\n",
              "      <td>reset, bad, recommend, hard, minute, condition, product, allow, price, seller</td>\n",
              "      <td>[purchase, refurbish, air, late, update, crash, minute, operation, sync, multiple, time, fix, of...</td>\n",
              "    </tr>\n",
              "    <tr>\n",
              "      <th>1</th>\n",
              "      <td>1</td>\n",
              "      <td>1.0</td>\n",
              "      <td>0.4063</td>\n",
              "      <td>reset, bad, recommend, hard, minute, condition, product, allow, price, seller</td>\n",
              "      <td>[sims_card, assume, always, build, wrong, information, description, produce, mislead, clearly, s...</td>\n",
              "    </tr>\n",
              "    <tr>\n",
              "      <th>2</th>\n",
              "      <td>2</td>\n",
              "      <td>3.0</td>\n",
              "      <td>0.5822</td>\n",
              "      <td>new, turn, plug, scratch, work, set, screen, battery, buy, problem</td>\n",
              "      <td>[ever, buy, refurbish, product, buy, th, generation, life, start, degrade, week, less, gym, batt...</td>\n",
              "    </tr>\n",
              "    <tr>\n",
              "      <th>3</th>\n",
              "      <td>3</td>\n",
              "      <td>1.0</td>\n",
              "      <td>0.4295</td>\n",
              "      <td>reset, bad, recommend, hard, minute, condition, product, allow, price, seller</td>\n",
              "      <td>[great, product, headphone, include, seller, ignore, email]</td>\n",
              "    </tr>\n",
              "  </tbody>\n",
              "</table>\n",
              "</div>"
            ],
            "text/plain": [
              "   Document_No  ...                                                                                                 Text\n",
              "0            0  ...  [purchase, refurbish, air, late, update, crash, minute, operation, sync, multiple, time, fix, of...\n",
              "1            1  ...  [sims_card, assume, always, build, wrong, information, description, produce, mislead, clearly, s...\n",
              "2            2  ...  [ever, buy, refurbish, product, buy, th, generation, life, start, degrade, week, less, gym, batt...\n",
              "3            3  ...                                          [great, product, headphone, include, seller, ignore, email]\n",
              "\n",
              "[4 rows x 5 columns]"
            ]
          },
          "metadata": {
            "tags": []
          },
          "execution_count": 80
        }
      ]
    },
    {
      "cell_type": "code",
      "metadata": {
        "id": "zv1_q5r28Q4n",
        "colab_type": "code",
        "outputId": "c1a2255b-9279-4ca5-fb53-db78136e6fd2",
        "colab": {
          "base_uri": "https://localhost:8080/",
          "height": 244
        }
      },
      "source": [
        "# Display setting to show more characters in column\n",
        "pd.options.display.max_colwidth = 100\n",
        "\n",
        "sent_topics_sorteddf_mallet = pd.DataFrame()\n",
        "sent_topics_outdf_grpd = df_topic_sents_keywords.groupby('Dominant_Topic')\n",
        "\n",
        "for i, grp in sent_topics_outdf_grpd:\n",
        "    sent_topics_sorteddf_mallet = pd.concat([sent_topics_sorteddf_mallet, \n",
        "                                             grp.sort_values(['Perc_Contribution'], ascending=False).head(1)], \n",
        "                                            axis=0)\n",
        "\n",
        "# Reset Index    \n",
        "sent_topics_sorteddf_mallet.reset_index(drop=True, inplace=True)\n",
        "\n",
        "# Format\n",
        "sent_topics_sorteddf_mallet.columns = ['Topic_Num', \"Topic_Perc_Contrib\", \"Keywords\", \"Representative Text\"]\n",
        "\n",
        "# Show\n",
        "sent_topics_sorteddf_mallet.head(10)"
      ],
      "execution_count": 0,
      "outputs": [
        {
          "output_type": "execute_result",
          "data": {
            "text/html": [
              "<div>\n",
              "<style scoped>\n",
              "    .dataframe tbody tr th:only-of-type {\n",
              "        vertical-align: middle;\n",
              "    }\n",
              "\n",
              "    .dataframe tbody tr th {\n",
              "        vertical-align: top;\n",
              "    }\n",
              "\n",
              "    .dataframe thead th {\n",
              "        text-align: right;\n",
              "    }\n",
              "</style>\n",
              "<table border=\"1\" class=\"dataframe\">\n",
              "  <thead>\n",
              "    <tr style=\"text-align: right;\">\n",
              "      <th></th>\n",
              "      <th>Topic_Num</th>\n",
              "      <th>Topic_Perc_Contrib</th>\n",
              "      <th>Keywords</th>\n",
              "      <th>Representative Text</th>\n",
              "    </tr>\n",
              "  </thead>\n",
              "  <tbody>\n",
              "    <tr>\n",
              "      <th>0</th>\n",
              "      <td>0.0</td>\n",
              "      <td>0.9659</td>\n",
              "      <td>item, cable, sin, well, terrible, phonr, hora, incorrect, like, audifono</td>\n",
              "      <td>[reside, vendedor, dice, vendedor, este, vendedor, por, este, vendedor, sin, operadore, con, pla...</td>\n",
              "    </tr>\n",
              "    <tr>\n",
              "      <th>1</th>\n",
              "      <td>1.0</td>\n",
              "      <td>0.9421</td>\n",
              "      <td>reset, bad, recommend, hard, minute, condition, product, allow, price, seller</td>\n",
              "      <td>[water, resistance, rating, pure, garbage, drown, inch, water, minute, class, action, lawsuit]</td>\n",
              "    </tr>\n",
              "    <tr>\n",
              "      <th>2</th>\n",
              "      <td>2.0</td>\n",
              "      <td>0.9259</td>\n",
              "      <td>describe, expect, headphone, photo, miss, telfone, performance, minor, peak, tray</td>\n",
              "      <td>[ole, pwm, pulse, width, modulation, cause, headache, eye, strain, fingerprint, sensor, become, ...</td>\n",
              "    </tr>\n",
              "    <tr>\n",
              "      <th>3</th>\n",
              "      <td>3.0</td>\n",
              "      <td>0.9697</td>\n",
              "      <td>new, turn, plug, scratch, work, set, screen, battery, buy, problem</td>\n",
              "      <td>[refurb, replacement, screen, battery, health, body, small, bottom, corner, paint, match, unnoti...</td>\n",
              "    </tr>\n",
              "  </tbody>\n",
              "</table>\n",
              "</div>"
            ],
            "text/plain": [
              "   Topic_Num  ...                                                                                  Representative Text\n",
              "0        0.0  ...  [reside, vendedor, dice, vendedor, este, vendedor, por, este, vendedor, sin, operadore, con, pla...\n",
              "1        1.0  ...       [water, resistance, rating, pure, garbage, drown, inch, water, minute, class, action, lawsuit]\n",
              "2        2.0  ...  [ole, pwm, pulse, width, modulation, cause, headache, eye, strain, fingerprint, sensor, become, ...\n",
              "3        3.0  ...  [refurb, replacement, screen, battery, health, body, small, bottom, corner, paint, match, unnoti...\n",
              "\n",
              "[4 rows x 4 columns]"
            ]
          },
          "metadata": {
            "tags": []
          },
          "execution_count": 81
        }
      ]
    },
    {
      "cell_type": "code",
      "metadata": {
        "id": "5Z_5NlIT8RAR",
        "colab_type": "code",
        "outputId": "50c2a24e-31ca-4d48-84c4-63b52357bcda",
        "colab": {
          "base_uri": "https://localhost:8080/",
          "height": 615
        }
      },
      "source": [
        "# 1. Wordcloud of Top N words in each topic\n",
        "from matplotlib import pyplot as plt\n",
        "from wordcloud import WordCloud, STOPWORDS\n",
        "import matplotlib.colors as mcolors\n",
        "\n",
        "cols = [color for name, color in mcolors.TABLEAU_COLORS.items()]  # more colors: 'mcolors.XKCD_COLORS'\n",
        "\n",
        "cloud = WordCloud(stopwords=stop_words,\n",
        "                  background_color='white',\n",
        "                  width=2500,\n",
        "                  height=1800,\n",
        "                  max_words=10,\n",
        "                  colormap='tab10',\n",
        "                  color_func=lambda *args, **kwargs: cols[i],\n",
        "                  prefer_horizontal=1.0)\n",
        "\n",
        "topics = lda_model.show_topics(formatted=False)\n",
        "\n",
        "fig, axes = plt.subplots(2, 2, figsize=(10,10), sharex=True, sharey=True)\n",
        "\n",
        "for i, ax in enumerate(axes.flatten()):\n",
        "    fig.add_subplot(ax)\n",
        "    topic_words = dict(topics[i][1])\n",
        "    cloud.generate_from_frequencies(topic_words, max_font_size=300)\n",
        "    plt.gca().imshow(cloud)\n",
        "    plt.gca().set_title('Topic ' + str(i), fontdict=dict(size=16))\n",
        "    plt.gca().axis('off')\n",
        "\n",
        "\n",
        "plt.subplots_adjust(wspace=0, hspace=0)\n",
        "plt.axis('off')\n",
        "plt.margins(x=0, y=0)\n",
        "plt.tight_layout()\n",
        "plt.show()"
      ],
      "execution_count": 0,
      "outputs": [
        {
          "output_type": "display_data",
          "data": {
            "image/png": "[encoded data removed]",
            "text/plain": [
              "<Figure size 720x720 with 4 Axes>"
            ]
          },
          "metadata": {
            "tags": []
          }
        }
      ]
    },
    {
      "cell_type": "code",
      "metadata": {
        "id": "DDw8Umkr8RFN",
        "colab_type": "code",
        "colab": {}
      },
      "source": [
        "# Sentence Coloring of N Sentences\n",
        "def topics_per_document(model, corpus, start=0, end=1):\n",
        "    corpus_sel = corpus[start:end]\n",
        "    dominant_topics = []\n",
        "    topic_percentages = []\n",
        "    for i, corp in enumerate(corpus_sel):\n",
        "        topic_percs, wordid_topics, wordid_phivalues = model[corp]\n",
        "        dominant_topic = sorted(topic_percs, key = lambda x: x[1], reverse=True)[0][0]\n",
        "        dominant_topics.append((i, dominant_topic))\n",
        "        topic_percentages.append(topic_percs)\n",
        "    return(dominant_topics, topic_percentages)\n",
        "\n",
        "dominant_topics, topic_percentages = topics_per_document(model=lda_model, corpus=corpus, end=-1)            \n",
        "\n",
        "# Distribution of Dominant Topics in Each Document\n",
        "df = pd.DataFrame(dominant_topics, columns=['Document_Id', 'Dominant_Topic'])\n",
        "dominant_topic_in_each_doc = df.groupby('Dominant_Topic').size()\n",
        "df_dominant_topic_in_each_doc = dominant_topic_in_each_doc.to_frame(name='count').reset_index()\n",
        "\n",
        "# Total Topic Distribution by actual weight\n",
        "topic_weightage_by_doc = pd.DataFrame([dict(t) for t in topic_percentages])\n",
        "df_topic_weightage_by_doc = topic_weightage_by_doc.sum().to_frame(name='count').reset_index()\n",
        "\n",
        "# Top 3 Keywords for each Topic\n",
        "topic_top3words = [(i, topic) for i, topics in lda_model.show_topics(formatted=False) \n",
        "                                 for j, (topic, wt) in enumerate(topics) if j < 3]\n",
        "\n",
        "df_top3words_stacked = pd.DataFrame(topic_top3words, columns=['topic_id', 'words'])\n",
        "df_top3words = df_top3words_stacked.groupby('topic_id').agg(', \\n'.join)\n",
        "df_top3words.reset_index(level=0,inplace=True)"
      ],
      "execution_count": 0,
      "outputs": []
    },
    {
      "cell_type": "code",
      "metadata": {
        "id": "PJqq5L198RMR",
        "colab_type": "code",
        "outputId": "fc026e87-c53f-4196-9291-d9dd21054d39",
        "colab": {
          "base_uri": "https://localhost:8080/",
          "height": 537
        }
      },
      "source": [
        "from matplotlib.ticker import FuncFormatter\n",
        "\n",
        "# Plot\n",
        "fig, (ax1, ax2) = plt.subplots(1, 2, figsize=(10, 4), dpi=120, sharey=True)\n",
        "\n",
        "# Topic Distribution by Dominant Topics\n",
        "ax1.bar(x='Dominant_Topic', height='count', data=df_dominant_topic_in_each_doc, width=.5, color='firebrick')\n",
        "ax1.set_xticks(range(df_dominant_topic_in_each_doc.Dominant_Topic.unique().__len__()))\n",
        "tick_formatter = FuncFormatter(lambda x, pos: 'Topic ' + str(x)+ '\\n' + df_top3words.loc[df_top3words.topic_id==x, 'words'].values[0])\n",
        "ax1.xaxis.set_major_formatter(tick_formatter)\n",
        "ax1.set_title('Number of Documents by Dominant Topic', fontdict=dict(size=10))\n",
        "ax1.set_ylabel('Number of Documents')\n",
        "ax1.set_ylim(0, 1000)\n",
        "\n",
        "# Topic Distribution by Topic Weights\n",
        "ax2.bar(x='index', height='count', data=df_topic_weightage_by_doc, width=.5, color='steelblue')\n",
        "ax2.set_xticks(range(df_topic_weightage_by_doc.index.unique().__len__()))\n",
        "ax2.xaxis.set_major_formatter(tick_formatter)\n",
        "ax2.set_title('Number of Documents by Topic Weightage', fontdict=dict(size=10))\n",
        "\n",
        "plt.show()"
      ],
      "execution_count": 0,
      "outputs": [
        {
          "output_type": "display_data",
          "data": {
            "image/png": "[encoded data removed]",
            "text/plain": [
              "<Figure size 1200x480 with 2 Axes>"
            ]
          },
          "metadata": {
            "tags": []
          }
        }
      ]
    },
    {
      "cell_type": "code",
      "metadata": {
        "id": "TK7p0Z3b8RRB",
        "colab_type": "code",
        "outputId": "8b2342d5-6cea-4a94-d498-d38ed04e9314",
        "colab": {
          "base_uri": "https://localhost:8080/",
          "height": 881
        }
      },
      "source": [
        "import pyLDAvis.gensim\n",
        "pyLDAvis.enable_notebook()\n",
        "vis = pyLDAvis.gensim.prepare(lda_model, corpus, dictionary=lda_model.id2word)\n",
        "vis"
      ],
      "execution_count": 0,
      "outputs": [
        {
          "output_type": "execute_result",
          "data": {
            "text/html": [
              "\n",
              "<link rel=\"stylesheet\" type=\"text/css\" href=\"https://cdn.rawgit.com/bmabey/pyLDAvis/files/ldavis.v1.0.0.css\">\n",
              "\n",
              "\n",
              "<div id=\"ldavis_el1231401546435568966807350202\"></div>\n",
              "<script type=\"text/javascript\">\n",
              "\n",
              "var ldavis_el1231401546435568966807350202_data = {\"mdsDat\": {\"x\": [0.21040921940968224, -0.15538443079575828, -0.024410011041708084, -0.03061477757221569], \"y\": [-0.07485055263529528, -0.13945658148590842, 0.1032802858213013, 0.1110268482999023], \"topics\": [1, 2, 3, 4], \"cluster\": [1, 1, 1, 1], \"Freq\": [53.339324951171875, 31.448915481567383, 8.168855667114258, 7.042898178100586]}, \"tinfo\": {\"Term\": [\"new\", \"reset\", \"bad\", \"turn\", \"recommend\", \"hard\", \"minute\", \"describe\", \"condition\", \"product\", \"item\", \"scratch\", \"work\", \"plug\", \"cable\", \"expect\", \"price\", \"seller\", \"screen\", \"sin\", \"headphone\", \"battery\", \"disappointed\", \"set\", \"issue\", \"photo\", \"ever\", \"phonr\", \"buy\", \"review\", \"new\", \"turn\", \"scratch\", \"work\", \"battery\", \"screen\", \"buy\", \"plug\", \"problem\", \"pay\", \"renew\", \"look\", \"life\", \"really\", \"set\", \"charger\", \"brand\", \"original\", \"protector\", \"day\", \"love\", \"health\", \"point\", \"case\", \"refurbish\", \"daughter\", \"money\", \"happy\", \"time\", \"much\", \"packaging\", \"allow\", \"bad\", \"hard\", \"product\", \"condition\", \"minute\", \"reset\", \"seller\", \"disappointed\", \"recommend\", \"issue\", \"ever\", \"review\", \"order\", \"unlocked\", \"give\", \"arrive\", \"experience\", \"receive\", \"update\", \"price\", \"unable\", \"originale\", \"still\", \"properly\", \"purchase\", \"negative\", \"dog\", \"store\", \"sell\", \"unlock\", \"crack\", \"check\", \"people\", \"wifi\", \"especially\", \"allow\", \"describe\", \"expect\", \"photo\", \"miss\", \"telfone\", \"performance\", \"minor\", \"tray\", \"proteccion\", \"presentacion\", \"headphone\", \"damn\", \"impecable\", \"annoying\", \"adapter\", \"register\", \"peak\", \"headache\", \"disappoint\", \"top\", \"consistently\", \"early\", \"description\", \"high\", \"great\", \"dongle\", \"calling\", \"internally\", \"side\", \"big\", \"cool\", \"plenty\", \"standard\", \"deal\", \"shape\", \"item\", \"sin\", \"cable\", \"well\", \"terrible\", \"incorrect\", \"like\", \"hora\", \"quality\", \"nuevo\", \"audifono\", \"pense\", \"detalle\", \"dura\", \"advertise\", \"tarde\", \"favor\", \"embargo\", \"shipping\", \"telefono\", \"pristine\", \"far\", \"memory\", \"suppose\", \"bueno\", \"phonr\", \"program\", \"pero\", \"comentario\", \"puede\", \"mar\", \"adhesive\", \"seeping\", \"simulate\", \"intermittently\", \"running\", \"tempt\"], \"Freq\": [296.0, 153.0, 146.0, 269.0, 137.0, 131.0, 120.0, 46.0, 102.0, 100.0, 35.0, 173.0, 169.0, 178.0, 30.0, 32.0, 80.0, 71.0, 144.0, 26.0, 29.0, 136.0, 66.0, 151.0, 60.0, 24.0, 59.0, 26.0, 117.0, 57.0, 294.7939453125, 267.51690673828125, 172.2551727294922, 168.08587646484375, 135.13365173339844, 143.33139038085938, 116.39582061767578, 176.507080078125, 105.41378021240234, 99.43711853027344, 94.60195922851562, 87.43279266357422, 81.59444427490234, 77.58430480957031, 148.24349975585938, 61.49002456665039, 56.73085021972656, 62.37092208862305, 55.012760162353516, 57.14614486694336, 52.41900634765625, 52.336666107177734, 59.09250259399414, 54.9507942199707, 52.96757507324219, 49.522090911865234, 47.702919006347656, 47.67915344238281, 47.671287536621094, 44.74638748168945, 54.51588821411133, 88.67945861816406, 144.3463592529297, 129.2318878173828, 98.70982360839844, 100.79037475585938, 117.7303695678711, 150.91427612304688, 70.15733337402344, 64.4217758178711, 133.62393188476562, 58.473941802978516, 57.89619445800781, 55.41788864135742, 55.66577911376953, 49.829490661621094, 49.03535842895508, 46.71340560913086, 46.34234619140625, 47.14620590209961, 42.95955276489258, 77.10612487792969, 32.17441177368164, 29.814956665039062, 27.73213005065918, 25.527143478393555, 28.689388275146484, 24.832571029663086, 31.692171096801758, 22.244640350341797, 23.868419647216797, 22.56791114807129, 24.052125930786133, 24.02949333190918, 29.323057174682617, 25.52422523498535, 25.40346908569336, 89.06787109375, 44.364871978759766, 30.07622528076172, 22.383798599243164, 19.234514236450195, 18.142885208129883, 16.597124099731445, 15.315751075744629, 12.825754165649414, 11.835274696350098, 11.835274696350098, 24.769105911254883, 11.572468757629395, 10.688185691833496, 7.811354637145996, 8.233903884887695, 7.76528787612915, 13.588621139526367, 9.087875366210938, 5.361720561981201, 5.886715888977051, 6.961465358734131, 8.388392448425293, 5.383022785186768, 10.036903381347656, 3.2504756450653076, 5.808338642120361, 5.808338642120361, 7.2248358726501465, 2.679208517074585, 2.8134803771972656, 10.108155250549316, 9.543374061584473, 7.240543365478516, 5.813737392425537, 7.279597282409668, 33.289772033691406, 24.25710105895996, 28.377986907958984, 17.74433708190918, 17.69546127319336, 14.648784637451172, 13.36815357208252, 15.149335861206055, 10.345728874206543, 7.1215972900390625, 11.248509407043457, 6.6058478355407715, 6.357935428619385, 6.104889869689941, 6.286470413208008, 5.90167236328125, 5.90167236328125, 5.90167236328125, 5.8292412757873535, 5.355214595794678, 5.7767510414123535, 4.3716888427734375, 5.564367294311523, 3.838233232498169, 3.566452741622925, 16.82062339782715, 9.256815910339355, 2.8215651512145996, 2.8202455043792725, 2.6508593559265137, 5.514132499694824, 5.514132499694824, 5.514132499694824, 5.514132499694824, 5.211678504943848, 5.211620330810547, 5.335569381713867], \"Total\": [296.0, 153.0, 146.0, 269.0, 137.0, 131.0, 120.0, 46.0, 102.0, 100.0, 35.0, 173.0, 169.0, 178.0, 30.0, 32.0, 80.0, 71.0, 144.0, 26.0, 29.0, 136.0, 66.0, 151.0, 60.0, 24.0, 59.0, 26.0, 117.0, 57.0, 296.23870849609375, 269.49224853515625, 173.75245666503906, 169.6884765625, 136.60598754882812, 144.97726440429688, 117.91926574707031, 178.93817138671875, 106.9516830444336, 100.94503021240234, 96.09545135498047, 88.91999053955078, 83.05754852294922, 79.04341125488281, 151.70632934570312, 62.956581115722656, 58.150978088378906, 63.99615478515625, 56.45869064331055, 58.6690559387207, 53.84785842895508, 53.817588806152344, 60.76649856567383, 56.536102294921875, 54.52330780029297, 50.986751556396484, 49.164405822753906, 49.15448760986328, 49.19165802001953, 46.1840705871582, 56.831668853759766, 179.79037475585938, 146.0277557373047, 131.28506469726562, 100.42079162597656, 102.7071762084961, 120.01495361328125, 153.86639404296875, 71.99176025390625, 66.11672973632812, 137.2099609375, 60.11811065673828, 59.59809494018555, 57.12249755859375, 57.60160446166992, 51.64518356323242, 50.82232666015625, 48.43708419799805, 48.081722259521484, 48.99378967285156, 44.79775619506836, 80.41917419433594, 33.85294723510742, 31.53524398803711, 29.399070739746094, 27.164724349975586, 30.60927963256836, 26.495628356933594, 33.87596893310547, 23.91935920715332, 25.670263290405273, 24.30465316772461, 25.950632095336914, 25.934871673583984, 32.87740707397461, 28.00476837158203, 27.994958877563477, 179.79037475585938, 46.36797332763672, 32.19137954711914, 24.42096710205078, 21.15650749206543, 20.37563705444336, 18.80559539794922, 17.459640502929688, 14.8923978805542, 13.843609809875488, 13.843609809875488, 29.147886276245117, 13.67774772644043, 12.68476390838623, 9.800734519958496, 10.474207878112793, 9.936318397521973, 17.728382110595703, 12.060113906860352, 7.295218467712402, 8.030098915100098, 9.529500961303711, 11.884115219116211, 7.641430377960205, 15.024073600769043, 5.177964687347412, 9.416227340698242, 9.416227340698242, 11.793395042419434, 4.640082359313965, 4.876264572143555, 18.1844482421875, 17.247880935668945, 13.927531242370605, 11.208827018737793, 34.76731872558594, 35.830745697021484, 26.19314193725586, 30.70891761779785, 20.13785171508789, 20.164894104003906, 16.785001754760742, 15.32877254486084, 17.560285568237305, 13.154101371765137, 9.059673309326172, 14.465996742248535, 8.559115409851074, 8.29818344116211, 8.063302993774414, 8.327658653259277, 7.87531852722168, 7.87531852722168, 7.87531852722168, 7.910205841064453, 7.314875602722168, 8.387112617492676, 6.348891258239746, 8.260186195373535, 5.861299514770508, 5.502969264984131, 26.15157699584961, 15.051801681518555, 4.751751899719238, 4.772891044616699, 4.601241588592529, 9.599075317382812, 9.599075317382812, 9.599075317382812, 9.599075317382812, 9.169490814208984, 9.169544219970703, 14.966669082641602], \"Category\": [\"Default\", \"Default\", \"Default\", \"Default\", \"Default\", \"Default\", \"Default\", \"Default\", \"Default\", \"Default\", \"Default\", \"Default\", \"Default\", \"Default\", \"Default\", \"Default\", \"Default\", \"Default\", \"Default\", \"Default\", \"Default\", \"Default\", \"Default\", \"Default\", \"Default\", \"Default\", \"Default\", \"Default\", \"Default\", \"Default\", \"Topic1\", \"Topic1\", \"Topic1\", \"Topic1\", \"Topic1\", \"Topic1\", \"Topic1\", \"Topic1\", \"Topic1\", \"Topic1\", \"Topic1\", \"Topic1\", \"Topic1\", \"Topic1\", \"Topic1\", \"Topic1\", \"Topic1\", \"Topic1\", \"Topic1\", \"Topic1\", \"Topic1\", \"Topic1\", \"Topic1\", \"Topic1\", \"Topic1\", \"Topic1\", \"Topic1\", \"Topic1\", \"Topic1\", \"Topic1\", \"Topic1\", \"Topic1\", \"Topic2\", \"Topic2\", \"Topic2\", \"Topic2\", \"Topic2\", \"Topic2\", \"Topic2\", \"Topic2\", \"Topic2\", \"Topic2\", \"Topic2\", \"Topic2\", \"Topic2\", \"Topic2\", \"Topic2\", \"Topic2\", \"Topic2\", \"Topic2\", \"Topic2\", \"Topic2\", \"Topic2\", \"Topic2\", \"Topic2\", \"Topic2\", \"Topic2\", \"Topic2\", \"Topic2\", \"Topic2\", \"Topic2\", \"Topic2\", \"Topic2\", \"Topic2\", \"Topic2\", \"Topic2\", \"Topic2\", \"Topic2\", \"Topic3\", \"Topic3\", \"Topic3\", \"Topic3\", \"Topic3\", \"Topic3\", \"Topic3\", \"Topic3\", \"Topic3\", \"Topic3\", \"Topic3\", \"Topic3\", \"Topic3\", \"Topic3\", \"Topic3\", \"Topic3\", \"Topic3\", \"Topic3\", \"Topic3\", \"Topic3\", \"Topic3\", \"Topic3\", \"Topic3\", \"Topic3\", \"Topic3\", \"Topic3\", \"Topic3\", \"Topic3\", \"Topic3\", \"Topic3\", \"Topic3\", \"Topic3\", \"Topic3\", \"Topic3\", \"Topic3\", \"Topic4\", \"Topic4\", \"Topic4\", \"Topic4\", \"Topic4\", \"Topic4\", \"Topic4\", \"Topic4\", \"Topic4\", \"Topic4\", \"Topic4\", \"Topic4\", \"Topic4\", \"Topic4\", \"Topic4\", \"Topic4\", \"Topic4\", \"Topic4\", \"Topic4\", \"Topic4\", \"Topic4\", \"Topic4\", \"Topic4\", \"Topic4\", \"Topic4\", \"Topic4\", \"Topic4\", \"Topic4\", \"Topic4\", \"Topic4\", \"Topic4\", \"Topic4\", \"Topic4\", \"Topic4\", \"Topic4\", \"Topic4\", \"Topic4\"], \"logprob\": [30.0, 29.0, 28.0, 27.0, 26.0, 25.0, 24.0, 23.0, 22.0, 21.0, 20.0, 19.0, 18.0, 17.0, 16.0, 15.0, 14.0, 13.0, 12.0, 11.0, 10.0, 9.0, 8.0, 7.0, 6.0, 5.0, 4.0, 3.0, 2.0, 1.0, -3.435800075531006, -3.532900094985962, -3.973099946975708, -3.9976000785827637, -4.215799808502197, -4.156899929046631, -4.365099906921387, -3.948699951171875, -4.464200019836426, -4.522500038146973, -4.572400093078613, -4.651199817657471, -4.720300197601318, -4.770699977874756, -4.123199939727783, -5.003200054168701, -5.083799839019775, -4.988999843597412, -5.114500045776367, -5.076499938964844, -5.162799835205078, -5.164400100708008, -5.043000221252441, -5.115600109100342, -5.152400016784668, -5.219699859619141, -5.2571001052856445, -5.257599830627441, -5.257699966430664, -5.321100234985352, -5.123600006103516, -4.63700008392334, -3.621500015258789, -3.7321999073028564, -4.0015997886657715, -3.9807000160217285, -3.8254001140594482, -3.5771000385284424, -4.3429999351501465, -4.428299903869629, -3.698699951171875, -4.525199890136719, -4.535099983215332, -4.57889986038208, -4.574399948120117, -4.685200214385986, -4.701200008392334, -4.74970006942749, -4.757699966430664, -4.740499973297119, -4.833499908447266, -4.248600006103516, -5.122600078582764, -5.198800086975098, -5.271200180053711, -5.354000091552734, -5.237199783325195, -5.3815999031066895, -5.137700080871582, -5.491700172424316, -5.421199798583984, -5.477200031280518, -5.41349983215332, -5.4145002365112305, -5.215400218963623, -5.354100227355957, -5.35890007019043, -4.104400157928467, -3.4532999992370605, -3.8420000076293945, -4.137400150299072, -4.289000034332275, -4.347499847412109, -4.436500072479248, -4.5167999267578125, -4.694300174713135, -4.774600028991699, -4.774600028991699, -4.036099910736084, -4.797100067138672, -4.8765997886657715, -5.190199851989746, -5.137499809265137, -5.196100234985352, -4.636499881744385, -5.03879976272583, -5.566400051116943, -5.4730000495910645, -5.305300235748291, -5.118899822235107, -5.5625, -4.939499855041504, -6.06689977645874, -5.486400127410889, -5.486400127410889, -5.268199920654297, -6.260200023651123, -6.211299896240234, -4.932400226593018, -4.9899001121521, -5.265999794006348, -5.485499858856201, -5.260700225830078, -3.5922000408172607, -3.9086999893188477, -3.751800060272217, -4.221399784088135, -4.224100112915039, -4.413099765777588, -4.504499912261963, -4.379499912261963, -4.760799884796143, -5.134300231933594, -4.677199840545654, -5.209499835968018, -5.247700214385986, -5.288300037384033, -5.258999824523926, -5.322199821472168, -5.322199821472168, -5.322199821472168, -5.334499835968018, -5.419300079345703, -5.343599796295166, -5.622300148010254, -5.38100004196167, -5.752399921417236, -5.825799942016602, -4.274799823760986, -4.872099876403809, -6.060100078582764, -6.0605998039245605, -6.122499942779541, -5.390100002288818, -5.390100002288818, -5.390100002288818, -5.390100002288818, -5.446499824523926, -5.446499824523926, -5.422999858856201], \"loglift\": [30.0, 29.0, 28.0, 27.0, 26.0, 25.0, 24.0, 23.0, 22.0, 21.0, 20.0, 19.0, 18.0, 17.0, 16.0, 15.0, 14.0, 13.0, 12.0, 11.0, 10.0, 9.0, 8.0, 7.0, 6.0, 5.0, 4.0, 3.0, 2.0, 1.0, 0.6236000061035156, 0.6211000084877014, 0.6197999715805054, 0.6190000176429749, 0.6176999807357788, 0.6171000003814697, 0.6154999732971191, 0.614799976348877, 0.6140000224113464, 0.6133999824523926, 0.6128000020980835, 0.6115999817848206, 0.6107000112533569, 0.6098999977111816, 0.605400025844574, 0.6049000024795532, 0.6037999987602234, 0.6028000116348267, 0.6025999784469604, 0.6021999716758728, 0.6015999913215637, 0.600600004196167, 0.600600004196167, 0.6000999808311462, 0.5995000004768372, 0.5993000268936157, 0.5982999801635742, 0.5979999899864197, 0.597100019454956, 0.5968999862670898, 0.586899995803833, -0.07829999923706055, 1.1452000141143799, 1.1410000324249268, 1.1396000385284424, 1.1380000114440918, 1.1375999450683594, 1.1374000310897827, 1.13100004196167, 1.1308000087738037, 1.1303000450134277, 1.12909996509552, 1.1277999877929688, 1.1265000104904175, 1.1225999593734741, 1.121000051498413, 1.121000051498413, 1.1205999851226807, 1.1200000047683716, 1.118399977684021, 1.11489999294281, 1.1146999597549438, 1.1059999465942383, 1.1007000207901, 1.0983999967575073, 1.094599962234497, 1.0920000076293945, 1.0920000076293945, 1.0901999473571777, 1.0842000246047974, 1.0839999914169312, 1.0827000141143799, 1.0808000564575195, 1.0805000066757202, 1.0424000024795532, 1.0641000270843506, 1.0597000122070312, 0.4544000029563904, 2.460700035095215, 2.4368999004364014, 2.4177000522613525, 2.409600019454956, 2.3887999057769775, 2.3798999786376953, 2.373800039291382, 2.3554000854492188, 2.348099946975708, 2.348099946975708, 2.342099905014038, 2.3376998901367188, 2.3336000442504883, 2.2780001163482666, 2.26419997215271, 2.2583000659942627, 2.2388999462127686, 2.22189998626709, 2.196899890899658, 2.1942999362945557, 2.1907999515533447, 2.1565001010894775, 2.1545000076293945, 2.1015000343322754, 2.0392000675201416, 2.021699905395508, 2.021699905395508, 2.0148000717163086, 1.9556000232696533, 1.9549000263214111, 1.9176000356674194, 1.9129999876022339, 1.8507000207901, 1.8483999967575073, 0.9412000179290771, 2.5796000957489014, 2.5764000415802, 2.574199914932251, 2.526599884033203, 2.5225000381469727, 2.5169999599456787, 2.5162999629974365, 2.505500078201294, 2.4130001068115234, 2.412400007247925, 2.401599884033203, 2.3940999507904053, 2.3868000507354736, 2.3749001026153564, 2.371999979019165, 2.3647000789642334, 2.3647000789642334, 2.3647000789642334, 2.347899913787842, 2.3413000106811523, 2.2802999019622803, 2.2799999713897705, 2.2581000328063965, 2.22979998588562, 2.219399929046631, 2.2118000984191895, 2.1670000553131104, 2.1319000720977783, 2.127000093460083, 2.1017000675201416, 2.09879994392395, 2.09879994392395, 2.09879994392395, 2.09879994392395, 2.088200092315674, 2.088200092315674, 1.6217000484466553]}, \"token.table\": {\"Topic\": [1, 2, 3, 1, 2, 4, 1, 2, 4, 1, 2, 3, 4, 1, 2, 3, 1, 2, 1, 2, 4, 1, 2, 1, 2, 1, 2, 3, 1, 2, 1, 2, 4, 1, 2, 1, 2, 4, 1, 2, 3, 4, 1, 2, 1, 2, 1, 2, 1, 2, 4, 1, 2, 1, 2, 3, 1, 2, 3, 1, 2, 1, 2, 3, 1, 2, 1, 2, 1, 2, 3, 1, 2, 3, 1, 2, 3, 1, 2, 4, 1, 2, 3, 1, 2, 1, 2, 3, 4, 1, 2, 3, 4, 1, 2, 4, 1, 2, 3, 4, 1, 2, 4, 1, 2, 3, 1, 2, 1, 2, 3, 1, 2, 1, 2, 4, 1, 2, 4, 1, 2, 1, 2, 3, 1, 2, 1, 2, 1, 2, 3, 4, 1, 2, 3, 1, 2, 1, 2, 3, 1, 2, 4, 1, 2, 3, 1, 2, 4, 1, 2, 4, 1, 2, 3, 1, 2, 1, 2, 4, 1, 2, 1, 2, 4, 1, 2, 1, 2, 1, 2, 4, 1, 2, 4, 1, 2, 3, 1, 2, 1, 2, 3, 1, 2, 1, 2, 1, 2, 1, 2, 1, 2, 4, 1, 2, 1, 2, 4, 1, 2, 1, 2, 3, 4, 1, 2, 1, 2, 3, 1, 2, 4, 1, 2, 3, 1, 2, 3, 4, 1, 2, 4, 1, 2, 3, 4, 1, 2, 3, 1, 2, 3, 1, 2, 1, 2, 1, 2, 3, 1, 2, 1, 2, 4, 1, 2, 1, 2, 1, 2, 4, 1, 2, 1, 2, 3, 1, 2, 1, 2, 4, 1, 2, 1, 2, 4, 1, 2, 1, 2, 1, 2, 1, 2, 1, 2, 3, 1, 2, 1, 2, 1, 2, 1, 2, 4, 1, 2, 1, 2, 1, 2, 4, 1, 2, 1, 2, 1, 2, 1, 2, 3, 4, 1, 2, 4, 1, 2, 3, 1, 2, 4, 1, 2, 4, 1, 2, 3, 1, 2, 1, 2, 1, 2, 4, 1, 2, 4, 1, 2, 4, 1, 2, 3, 1, 2, 3, 4, 1, 2, 4, 1, 2, 1, 2, 3, 1, 2, 3, 1, 2, 1, 2, 1, 2, 1, 2, 1, 2, 1, 2, 4, 1, 2, 1, 2], \"Freq\": [0.09547261148691177, 0.09547261148691177, 0.7637808918952942, 0.20835340023040771, 0.20835340023040771, 0.6250602006912231, 0.12008176743984222, 0.12008176743984222, 0.7204906344413757, 0.49502092599868774, 0.49502092599868774, 0.005562033038586378, 0.005562033038586378, 0.10203316807746887, 0.10203316807746887, 0.816265344619751, 0.02064533904194832, 0.9703308939933777, 0.1382552534341812, 0.0691276267170906, 0.7604038715362549, 0.006848013028502464, 0.9861139059066772, 0.9882436394691467, 0.007320323493331671, 0.20507501065731049, 0.20507501065731049, 0.6152250170707703, 0.980207085609436, 0.017196616157889366, 0.1817200779914856, 0.1817200779914856, 0.7268803119659424, 0.9837238788604736, 0.008480378426611423, 0.03256383165717125, 0.03256383165717125, 0.9117872714996338, 0.21239928901195526, 0.10619964450597763, 0.6371978521347046, 0.10619964450597763, 0.9728296995162964, 0.017687812447547913, 0.9689217209815979, 0.01588396355509758, 0.038558125495910645, 0.9253949522972107, 0.20951661467552185, 0.20951661467552185, 0.6285498738288879, 0.009736417792737484, 0.9833782315254211, 0.10493729263544083, 0.10493729263544083, 0.734561026096344, 0.10998409241437912, 0.32995226979255676, 0.5499204397201538, 0.03853470832109451, 0.9248329401016235, 0.07311145216226578, 0.07311145216226578, 0.8773374557495117, 0.9806469082832336, 0.019612938165664673, 0.9715513586997986, 0.017044760286808014, 0.35686159133911133, 0.08921539783477783, 0.535292387008667, 0.021566610783338547, 0.021566610783338547, 0.9489308595657349, 0.13086554408073425, 0.13086554408073425, 0.6543277502059937, 0.12050830572843552, 0.12050830572843552, 0.7230498194694519, 0.13707607984542847, 0.13707607984542847, 0.6853804588317871, 0.01512476522475481, 0.9679849743843079, 0.029519451782107353, 0.9446224570274353, 0.029519451782107353, 0.029519451782107353, 0.21239928901195526, 0.10619964450597763, 0.6371978521347046, 0.10619964450597763, 0.12401865422725677, 0.12401865422725677, 0.744111955165863, 0.1682918667793274, 0.0841459333896637, 0.6731674671173096, 0.0841459333896637, 0.12697899341583252, 0.12697899341583252, 0.7618739604949951, 0.035720717161893845, 0.8930179476737976, 0.035720717161893845, 0.016779059544205666, 0.9731854796409607, 0.031064217910170555, 0.031064217910170555, 0.9319264888763428, 0.02079792320728302, 0.9567044973373413, 0.15750782191753387, 0.15750782191753387, 0.6300312876701355, 0.12697899341583252, 0.12697899341583252, 0.7618739604949951, 0.019676391035318375, 0.9641432166099548, 0.19312608242034912, 0.19312608242034912, 0.5793782472610474, 0.9765130877494812, 0.020344022661447525, 0.007617012597620487, 0.9825946092605591, 0.0829179584980011, 0.0829179584980011, 0.7462615966796875, 0.0829179584980011, 0.10292341560125351, 0.034307803958654404, 0.8576951026916504, 0.9662268757820129, 0.018581286072731018, 0.06655984371900558, 0.26623937487602234, 0.665598452091217, 0.056946683675050735, 0.056946683675050735, 0.8542002439498901, 0.07883473485708237, 0.07883473485708237, 0.8671820759773254, 0.05957699567079544, 0.05957699567079544, 0.8936549425125122, 0.21811461448669434, 0.21811461448669434, 0.5452865362167358, 0.1695864498615265, 0.1695864498615265, 0.5935525894165039, 0.01663392223417759, 0.9647675156593323, 0.027908992022275925, 0.027908992022275925, 0.9209967255592346, 0.987267255783081, 0.012039844878017902, 0.06523679196834564, 0.06523679196834564, 0.8480783700942993, 0.9784076809883118, 0.01124606467783451, 0.9656836986541748, 0.01857084035873413, 0.20835340023040771, 0.20835340023040771, 0.6250602006912231, 0.24212528765201569, 0.12106264382600784, 0.7263758778572083, 0.0572749488055706, 0.0572749488055706, 0.8591242432594299, 0.016664590686559677, 0.9832108020782471, 0.04726678133010864, 0.04726678133010864, 0.8980688452720642, 0.9763160943984985, 0.02033991925418377, 0.9743619561195374, 0.02165248803794384, 0.03774207457900047, 0.9435518980026245, 0.995818555355072, 0.0033756562042981386, 0.11037925630807877, 0.11037925630807877, 0.7726547718048096, 0.0173606276512146, 0.9721951484680176, 0.9688082337379456, 0.015625938773155212, 0.015625938773155212, 0.03171055391430855, 0.9513165950775146, 0.9677702784538269, 0.017595823854207993, 0.017595823854207993, 0.017595823854207993, 0.9807317852973938, 0.009906381368637085, 0.1692201793193817, 0.05640672519803047, 0.7896941900253296, 0.11683450639247894, 0.11683450639247894, 0.8178415298461914, 0.09124807268381119, 0.882064700126648, 0.03041602484881878, 0.0531756617128849, 0.0531756617128849, 0.9039862751960754, 0.0531756617128849, 0.21044869720935822, 0.21044869720935822, 0.6313461065292358, 0.3059088885784149, 0.038238611072301865, 0.038238611072301865, 0.6500564217567444, 0.04094842076301575, 0.04094842076301575, 0.9008651971817017, 0.11595627665519714, 0.34786882996559143, 0.5797813534736633, 0.9891684651374817, 0.011177045293152332, 0.970929741859436, 0.01645643636584282, 0.07223549485206604, 0.07223549485206604, 0.8668259382247925, 0.03730453550815582, 0.9574831128120422, 0.23846109211444855, 0.11923054605722427, 0.7153832912445068, 0.9817517399787903, 0.009350016713142395, 0.009958096779882908, 0.9858516454696655, 0.19931168854236603, 0.13287445902824402, 0.5979350805282593, 0.036812447011470795, 0.9571236371994019, 0.07223549485206604, 0.07223549485206604, 0.8668259382247925, 0.9741635918617249, 0.01771206595003605, 0.2173326462507248, 0.2173326462507248, 0.6519979238510132, 0.032669831067323685, 0.947425127029419, 0.07602191716432571, 0.07602191716432571, 0.760219156742096, 0.9867995381355286, 0.012651275843381882, 0.020410750061273575, 0.9593052864074707, 0.021864302456378937, 0.9766054749488831, 0.9720613360404968, 0.018340779468417168, 0.10064090043306351, 0.10064090043306351, 0.8051272034645081, 0.9886003732681274, 0.010406319983303547, 0.012998290359973907, 0.9813708662986755, 0.01750623807311058, 0.9628430604934692, 0.21811334788799286, 0.21811334788799286, 0.5452833771705627, 0.989914059638977, 0.005755314137786627, 0.986361563205719, 0.00689763342961669, 0.20835340023040771, 0.20835340023040771, 0.6250602006912231, 0.038955580443143845, 0.9349339008331299, 0.013890478760004044, 0.9723334908485413, 0.9755690693855286, 0.01977504789829254, 0.7478287220001221, 0.02876264415681362, 0.2013384997844696, 0.02876264415681362, 0.12641896307468414, 0.12641896307468414, 0.7585137486457825, 0.2155134230852127, 0.2155134230852127, 0.6465402245521545, 0.20835340023040771, 0.20835340023040771, 0.6250602006912231, 0.03817793354392052, 0.03817793354392052, 0.91627037525177, 0.35900115966796875, 0.07180023193359375, 0.5026016235351562, 0.03401467949151993, 0.9524110555648804, 0.0418071411550045, 0.919757068157196, 0.17061063647270203, 0.17061063647270203, 0.6824425458908081, 0.12697899341583252, 0.12697899341583252, 0.7618739604949951, 0.13670772314071655, 0.13670772314071655, 0.6835386157035828, 0.04907821863889694, 0.04907821863889694, 0.8834079504013062, 0.26726052165031433, 0.26726052165031433, 0.13363026082515717, 0.3340756595134735, 0.04959113523364067, 0.04959113523364067, 0.8926404714584351, 0.9757751822471619, 0.020328650251030922, 0.12453147023916245, 0.12453147023916245, 0.7471888065338135, 0.0671483501791954, 0.0671483501791954, 0.8729286193847656, 0.9944627285003662, 0.0037106818053871393, 0.029539525508880615, 0.9452648162841797, 0.04114438593387604, 0.9463208317756653, 0.019362889230251312, 0.9681444764137268, 0.02232254669070244, 0.9598695039749146, 0.049657728523015976, 0.049657728523015976, 0.8938391208648682, 0.07141640782356262, 0.9284133315086365, 0.9900495409965515, 0.005893152207136154], \"Term\": [\"adapter\", \"adapter\", \"adapter\", \"adhesive\", \"adhesive\", \"adhesive\", \"advertise\", \"advertise\", \"advertise\", \"allow\", \"allow\", \"allow\", \"allow\", \"annoying\", \"annoying\", \"annoying\", \"arrive\", \"arrive\", \"audifono\", \"audifono\", \"audifono\", \"bad\", \"bad\", \"battery\", \"battery\", \"big\", \"big\", \"big\", \"brand\", \"brand\", \"bueno\", \"bueno\", \"bueno\", \"buy\", \"buy\", \"cable\", \"cable\", \"cable\", \"calling\", \"calling\", \"calling\", \"calling\", \"case\", \"case\", \"charger\", \"charger\", \"check\", \"check\", \"comentario\", \"comentario\", \"comentario\", \"condition\", \"condition\", \"consistently\", \"consistently\", \"consistently\", \"cool\", \"cool\", \"cool\", \"crack\", \"crack\", \"damn\", \"damn\", \"damn\", \"daughter\", \"daughter\", \"day\", \"day\", \"deal\", \"deal\", \"deal\", \"describe\", \"describe\", \"describe\", \"description\", \"description\", \"description\", \"detalle\", \"detalle\", \"detalle\", \"disappoint\", \"disappoint\", \"disappoint\", \"disappointed\", \"disappointed\", \"dog\", \"dog\", \"dog\", \"dog\", \"dongle\", \"dongle\", \"dongle\", \"dongle\", \"dura\", \"dura\", \"dura\", \"early\", \"early\", \"early\", \"early\", \"embargo\", \"embargo\", \"embargo\", \"especially\", \"especially\", \"especially\", \"ever\", \"ever\", \"expect\", \"expect\", \"expect\", \"experience\", \"experience\", \"far\", \"far\", \"far\", \"favor\", \"favor\", \"favor\", \"give\", \"give\", \"great\", \"great\", \"great\", \"happy\", \"happy\", \"hard\", \"hard\", \"headache\", \"headache\", \"headache\", \"headache\", \"headphone\", \"headphone\", \"headphone\", \"health\", \"health\", \"high\", \"high\", \"high\", \"hora\", \"hora\", \"hora\", \"impecable\", \"impecable\", \"impecable\", \"incorrect\", \"incorrect\", \"incorrect\", \"intermittently\", \"intermittently\", \"intermittently\", \"internally\", \"internally\", \"internally\", \"issue\", \"issue\", \"item\", \"item\", \"item\", \"life\", \"life\", \"like\", \"like\", \"like\", \"look\", \"look\", \"love\", \"love\", \"mar\", \"mar\", \"mar\", \"memory\", \"memory\", \"memory\", \"minor\", \"minor\", \"minor\", \"minute\", \"minute\", \"miss\", \"miss\", \"miss\", \"money\", \"money\", \"much\", \"much\", \"negative\", \"negative\", \"new\", \"new\", \"nuevo\", \"nuevo\", \"nuevo\", \"order\", \"order\", \"original\", \"original\", \"original\", \"originale\", \"originale\", \"packaging\", \"packaging\", \"packaging\", \"packaging\", \"pay\", \"pay\", \"peak\", \"peak\", \"peak\", \"pense\", \"pense\", \"pense\", \"people\", \"people\", \"people\", \"performance\", \"performance\", \"performance\", \"performance\", \"pero\", \"pero\", \"pero\", \"phonr\", \"phonr\", \"phonr\", \"phonr\", \"photo\", \"photo\", \"photo\", \"plenty\", \"plenty\", \"plenty\", \"plug\", \"plug\", \"point\", \"point\", \"presentacion\", \"presentacion\", \"presentacion\", \"price\", \"price\", \"pristine\", \"pristine\", \"pristine\", \"problem\", \"problem\", \"product\", \"product\", \"program\", \"program\", \"program\", \"properly\", \"properly\", \"proteccion\", \"proteccion\", \"proteccion\", \"protector\", \"protector\", \"puede\", \"puede\", \"puede\", \"purchase\", \"purchase\", \"quality\", \"quality\", \"quality\", \"really\", \"really\", \"receive\", \"receive\", \"recommend\", \"recommend\", \"refurbish\", \"refurbish\", \"register\", \"register\", \"register\", \"renew\", \"renew\", \"reset\", \"reset\", \"review\", \"review\", \"running\", \"running\", \"running\", \"scratch\", \"scratch\", \"screen\", \"screen\", \"seeping\", \"seeping\", \"seeping\", \"sell\", \"sell\", \"seller\", \"seller\", \"set\", \"set\", \"shape\", \"shape\", \"shape\", \"shape\", \"shipping\", \"shipping\", \"shipping\", \"side\", \"side\", \"side\", \"simulate\", \"simulate\", \"simulate\", \"sin\", \"sin\", \"sin\", \"standard\", \"standard\", \"standard\", \"still\", \"still\", \"store\", \"store\", \"suppose\", \"suppose\", \"suppose\", \"tarde\", \"tarde\", \"tarde\", \"telefono\", \"telefono\", \"telefono\", \"telfone\", \"telfone\", \"telfone\", \"tempt\", \"tempt\", \"tempt\", \"tempt\", \"terrible\", \"terrible\", \"terrible\", \"time\", \"time\", \"top\", \"top\", \"top\", \"tray\", \"tray\", \"tray\", \"turn\", \"turn\", \"unable\", \"unable\", \"unlock\", \"unlock\", \"unlocked\", \"unlocked\", \"update\", \"update\", \"well\", \"well\", \"well\", \"wifi\", \"wifi\", \"work\", \"work\"]}, \"R\": 30, \"lambda.step\": 0.01, \"plot.opts\": {\"xlab\": \"PC1\", \"ylab\": \"PC2\"}, \"topic.order\": [4, 2, 3, 1]};\n",
              "\n",
              "function LDAvis_load_lib(url, callback){\n",
              "  var s = document.createElement('script');\n",
              "  s.src = url;\n",
              "  s.async = true;\n",
              "  s.onreadystatechange = s.onload = callback;\n",
              "  s.onerror = function(){console.warn(\"failed to load library \" + url);};\n",
              "  document.getElementsByTagName(\"head\")[0].appendChild(s);\n",
              "}\n",
              "\n",
              "if(typeof(LDAvis) !== \"undefined\"){\n",
              "   // already loaded: just create the visualization\n",
              "   !function(LDAvis){\n",
              "       new LDAvis(\"#\" + \"ldavis_el1231401546435568966807350202\", ldavis_el1231401546435568966807350202_data);\n",
              "   }(LDAvis);\n",
              "}else if(typeof define === \"function\" && define.amd){\n",
              "   // require.js is available: use it to load d3/LDAvis\n",
              "   require.config({paths: {d3: \"https://cdnjs.cloudflare.com/ajax/libs/d3/3.5.5/d3.min\"}});\n",
              "   require([\"d3\"], function(d3){\n",
              "      window.d3 = d3;\n",
              "      LDAvis_load_lib(\"https://cdn.rawgit.com/bmabey/pyLDAvis/files/ldavis.v1.0.0.js\", function(){\n",
              "        new LDAvis(\"#\" + \"ldavis_el1231401546435568966807350202\", ldavis_el1231401546435568966807350202_data);\n",
              "      });\n",
              "    });\n",
              "}else{\n",
              "    // require.js not available: dynamically load d3 & LDAvis\n",
              "    LDAvis_load_lib(\"https://cdnjs.cloudflare.com/ajax/libs/d3/3.5.5/d3.min.js\", function(){\n",
              "         LDAvis_load_lib(\"https://cdn.rawgit.com/bmabey/pyLDAvis/files/ldavis.v1.0.0.js\", function(){\n",
              "                 new LDAvis(\"#\" + \"ldavis_el1231401546435568966807350202\", ldavis_el1231401546435568966807350202_data);\n",
              "            })\n",
              "         });\n",
              "}\n",
              "</script>"
            ],
            "text/plain": [
              "PreparedData(topic_coordinates=              x         y  topics  cluster       Freq\n",
              "topic                                                \n",
              "3      0.210409 -0.074851       1        1  53.339325\n",
              "1     -0.155384 -0.139457       2        1  31.448915\n",
              "2     -0.024410  0.103280       3        1   8.168856\n",
              "0     -0.030615  0.111027       4        1   7.042898, topic_info=                Term        Freq       Total Category  logprob  loglift\n",
              "69               new  296.000000  296.000000  Default  30.0000  30.0000\n",
              "392            reset  153.000000  153.000000  Default  29.0000  29.0000\n",
              "214              bad  146.000000  146.000000  Default  28.0000  28.0000\n",
              "120             turn  269.000000  269.000000  Default  27.0000  27.0000\n",
              "391        recommend  137.000000  137.000000  Default  26.0000  26.0000\n",
              "...              ...         ...         ...      ...      ...      ...\n",
              "2190         seeping    5.514132    9.599075   Topic4  -5.3901   2.0988\n",
              "2191        simulate    5.514132    9.599075   Topic4  -5.3901   2.0988\n",
              "928   intermittently    5.211679    9.169491   Topic4  -5.4465   2.0882\n",
              "1033         running    5.211620    9.169544   Topic4  -5.4465   2.0882\n",
              "2186           tempt    5.335569   14.966669   Topic4  -5.4230   1.6217\n",
              "\n",
              "[170 rows x 6 columns], token_table=      Topic      Freq      Term\n",
              "term                           \n",
              "1489      1  0.095473   adapter\n",
              "1489      2  0.095473   adapter\n",
              "1489      3  0.763781   adapter\n",
              "2188      1  0.208353  adhesive\n",
              "2188      2  0.208353  adhesive\n",
              "...     ...       ...       ...\n",
              "144       4  0.893839      well\n",
              "663       1  0.071416      wifi\n",
              "663       2  0.928413      wifi\n",
              "121       1  0.990050      work\n",
              "121       2  0.005893      work\n",
              "\n",
              "[367 rows x 3 columns], R=30, lambda_step=0.01, plot_opts={'xlab': 'PC1', 'ylab': 'PC2'}, topic_order=[4, 2, 3, 1])"
            ]
          },
          "metadata": {
            "tags": []
          },
          "execution_count": 87
        }
      ]
    },
    {
      "cell_type": "code",
      "metadata": {
        "id": "C0KMxRuGjcFr",
        "colab_type": "code",
        "colab": {}
      },
      "source": [
        "# To find number of topics - using coherence measure"
      ],
      "execution_count": 0,
      "outputs": []
    },
    {
      "cell_type": "code",
      "metadata": {
        "id": "2omOMINIeE6G",
        "colab_type": "code",
        "colab": {}
      },
      "source": [
        "def evaluate_graph(dictionary, corpus, texts, limit):\n",
        "    \"\"\"\n",
        "    Function to display num_topics - LDA graph using c_v coherence\n",
        "    \n",
        "    Parameters:\n",
        "    ----------\n",
        "    dictionary : Gensim dictionary\n",
        "    corpus : Gensim corpus\n",
        "    limit : topic limit\n",
        "    \n",
        "    Returns:\n",
        "    -------\n",
        "    lm_list : List of LDA topic models\n",
        "    c_v : Coherence values corresponding to the LDA model with respective number of topics\n",
        "    \"\"\"\n",
        "    c_v = []\n",
        "    lm_list = []\n",
        "    for num_topics in range(1, limit):\n",
        "        lm = LdaModel(corpus=corpus, num_topics=num_topics, id2word=id2word)\n",
        "        lm_list.append(lm)\n",
        "        cm = CoherenceModel(model=lm, texts=texts, dictionary=dictionary, coherence='c_v')\n",
        "        c_v.append(cm.get_coherence())\n",
        "        \n",
        "    # Show graph\n",
        "    x = range(1, limit)\n",
        "    plt.plot(x, c_v)\n",
        "    plt.xlabel(\"num_topics\")\n",
        "    plt.ylabel(\"Coherence score\")\n",
        "    plt.legend((\"c_v\"), loc='best')\n",
        "    plt.show()\n",
        "    \n",
        "    return lm_list, c_v"
      ],
      "execution_count": 0,
      "outputs": []
    },
    {
      "cell_type": "code",
      "metadata": {
        "id": "F2j7m3z4eE8i",
        "colab_type": "code",
        "outputId": "0c713322-2bd7-445b-ae14-0f8a27cb526e",
        "colab": {
          "base_uri": "https://localhost:8080/",
          "height": 1000
        }
      },
      "source": [
        "lmlist, c_v = evaluate_graph(dictionary=id2word, corpus=corpus, texts=data_words, limit=10)"
      ],
      "execution_count": 0,
      "outputs": [
        {
          "output_type": "stream",
          "text": [
            "/usr/local/lib/python3.6/dist-packages/gensim/models/ldamodel.py:1077: DeprecationWarning: Calling np.sum(generator) is deprecated, and in the future will give a different result. Use np.sum(np.fromiter(generator)) or the python sum builtin instead.\n",
            "  score += np.sum(cnt * logsumexp(Elogthetad + Elogbeta[:, int(id)]) for id, cnt in doc)\n",
            "/usr/local/lib/python3.6/dist-packages/gensim/models/ldamodel.py:1077: DeprecationWarning: Calling np.sum(generator) is deprecated, and in the future will give a different result. Use np.sum(np.fromiter(generator)) or the python sum builtin instead.\n",
            "  score += np.sum(cnt * logsumexp(Elogthetad + Elogbeta[:, int(id)]) for id, cnt in doc)\n",
            "/usr/local/lib/python3.6/dist-packages/gensim/models/ldamodel.py:1077: DeprecationWarning: Calling np.sum(generator) is deprecated, and in the future will give a different result. Use np.sum(np.fromiter(generator)) or the python sum builtin instead.\n",
            "  score += np.sum(cnt * logsumexp(Elogthetad + Elogbeta[:, int(id)]) for id, cnt in doc)\n",
            "/usr/local/lib/python3.6/dist-packages/gensim/models/ldamodel.py:1077: DeprecationWarning: Calling np.sum(generator) is deprecated, and in the future will give a different result. Use np.sum(np.fromiter(generator)) or the python sum builtin instead.\n",
            "  score += np.sum(cnt * logsumexp(Elogthetad + Elogbeta[:, int(id)]) for id, cnt in doc)\n",
            "/usr/local/lib/python3.6/dist-packages/gensim/models/ldamodel.py:1077: DeprecationWarning: Calling np.sum(generator) is deprecated, and in the future will give a different result. Use np.sum(np.fromiter(generator)) or the python sum builtin instead.\n",
            "  score += np.sum(cnt * logsumexp(Elogthetad + Elogbeta[:, int(id)]) for id, cnt in doc)\n",
            "/usr/local/lib/python3.6/dist-packages/gensim/models/ldamodel.py:1077: DeprecationWarning: Calling np.sum(generator) is deprecated, and in the future will give a different result. Use np.sum(np.fromiter(generator)) or the python sum builtin instead.\n",
            "  score += np.sum(cnt * logsumexp(Elogthetad + Elogbeta[:, int(id)]) for id, cnt in doc)\n",
            "/usr/local/lib/python3.6/dist-packages/gensim/models/ldamodel.py:1077: DeprecationWarning: Calling np.sum(generator) is deprecated, and in the future will give a different result. Use np.sum(np.fromiter(generator)) or the python sum builtin instead.\n",
            "  score += np.sum(cnt * logsumexp(Elogthetad + Elogbeta[:, int(id)]) for id, cnt in doc)\n",
            "/usr/local/lib/python3.6/dist-packages/gensim/models/ldamodel.py:1077: DeprecationWarning: Calling np.sum(generator) is deprecated, and in the future will give a different result. Use np.sum(np.fromiter(generator)) or the python sum builtin instead.\n",
            "  score += np.sum(cnt * logsumexp(Elogthetad + Elogbeta[:, int(id)]) for id, cnt in doc)\n",
            "/usr/local/lib/python3.6/dist-packages/gensim/models/ldamodel.py:1077: DeprecationWarning: Calling np.sum(generator) is deprecated, and in the future will give a different result. Use np.sum(np.fromiter(generator)) or the python sum builtin instead.\n",
            "  score += np.sum(cnt * logsumexp(Elogthetad + Elogbeta[:, int(id)]) for id, cnt in doc)\n",
            "/usr/local/lib/python3.6/dist-packages/gensim/models/ldamodel.py:1077: DeprecationWarning: Calling np.sum(generator) is deprecated, and in the future will give a different result. Use np.sum(np.fromiter(generator)) or the python sum builtin instead.\n",
            "  score += np.sum(cnt * logsumexp(Elogthetad + Elogbeta[:, int(id)]) for id, cnt in doc)\n",
            "/usr/local/lib/python3.6/dist-packages/gensim/models/ldamodel.py:1077: DeprecationWarning: Calling np.sum(generator) is deprecated, and in the future will give a different result. Use np.sum(np.fromiter(generator)) or the python sum builtin instead.\n",
            "  score += np.sum(cnt * logsumexp(Elogthetad + Elogbeta[:, int(id)]) for id, cnt in doc)\n",
            "/usr/local/lib/python3.6/dist-packages/gensim/models/ldamodel.py:1077: DeprecationWarning: Calling np.sum(generator) is deprecated, and in the future will give a different result. Use np.sum(np.fromiter(generator)) or the python sum builtin instead.\n",
            "  score += np.sum(cnt * logsumexp(Elogthetad + Elogbeta[:, int(id)]) for id, cnt in doc)\n",
            "/usr/local/lib/python3.6/dist-packages/gensim/models/ldamodel.py:1077: DeprecationWarning: Calling np.sum(generator) is deprecated, and in the future will give a different result. Use np.sum(np.fromiter(generator)) or the python sum builtin instead.\n",
            "  score += np.sum(cnt * logsumexp(Elogthetad + Elogbeta[:, int(id)]) for id, cnt in doc)\n",
            "/usr/local/lib/python3.6/dist-packages/gensim/models/ldamodel.py:1077: DeprecationWarning: Calling np.sum(generator) is deprecated, and in the future will give a different result. Use np.sum(np.fromiter(generator)) or the python sum builtin instead.\n",
            "  score += np.sum(cnt * logsumexp(Elogthetad + Elogbeta[:, int(id)]) for id, cnt in doc)\n",
            "/usr/local/lib/python3.6/dist-packages/gensim/models/ldamodel.py:1077: DeprecationWarning: Calling np.sum(generator) is deprecated, and in the future will give a different result. Use np.sum(np.fromiter(generator)) or the python sum builtin instead.\n",
            "  score += np.sum(cnt * logsumexp(Elogthetad + Elogbeta[:, int(id)]) for id, cnt in doc)\n",
            "/usr/local/lib/python3.6/dist-packages/gensim/models/ldamodel.py:1077: DeprecationWarning: Calling np.sum(generator) is deprecated, and in the future will give a different result. Use np.sum(np.fromiter(generator)) or the python sum builtin instead.\n",
            "  score += np.sum(cnt * logsumexp(Elogthetad + Elogbeta[:, int(id)]) for id, cnt in doc)\n",
            "/usr/local/lib/python3.6/dist-packages/gensim/models/ldamodel.py:1077: DeprecationWarning: Calling np.sum(generator) is deprecated, and in the future will give a different result. Use np.sum(np.fromiter(generator)) or the python sum builtin instead.\n",
            "  score += np.sum(cnt * logsumexp(Elogthetad + Elogbeta[:, int(id)]) for id, cnt in doc)\n",
            "/usr/local/lib/python3.6/dist-packages/gensim/models/ldamodel.py:1077: DeprecationWarning: Calling np.sum(generator) is deprecated, and in the future will give a different result. Use np.sum(np.fromiter(generator)) or the python sum builtin instead.\n",
            "  score += np.sum(cnt * logsumexp(Elogthetad + Elogbeta[:, int(id)]) for id, cnt in doc)\n",
            "/usr/local/lib/python3.6/dist-packages/gensim/models/ldamodel.py:1077: DeprecationWarning: Calling np.sum(generator) is deprecated, and in the future will give a different result. Use np.sum(np.fromiter(generator)) or the python sum builtin instead.\n",
            "  score += np.sum(cnt * logsumexp(Elogthetad + Elogbeta[:, int(id)]) for id, cnt in doc)\n",
            "/usr/local/lib/python3.6/dist-packages/gensim/models/ldamodel.py:1077: DeprecationWarning: Calling np.sum(generator) is deprecated, and in the future will give a different result. Use np.sum(np.fromiter(generator)) or the python sum builtin instead.\n",
            "  score += np.sum(cnt * logsumexp(Elogthetad + Elogbeta[:, int(id)]) for id, cnt in doc)\n",
            "/usr/local/lib/python3.6/dist-packages/gensim/models/ldamodel.py:1077: DeprecationWarning: Calling np.sum(generator) is deprecated, and in the future will give a different result. Use np.sum(np.fromiter(generator)) or the python sum builtin instead.\n",
            "  score += np.sum(cnt * logsumexp(Elogthetad + Elogbeta[:, int(id)]) for id, cnt in doc)\n",
            "/usr/local/lib/python3.6/dist-packages/gensim/models/ldamodel.py:1077: DeprecationWarning: Calling np.sum(generator) is deprecated, and in the future will give a different result. Use np.sum(np.fromiter(generator)) or the python sum builtin instead.\n",
            "  score += np.sum(cnt * logsumexp(Elogthetad + Elogbeta[:, int(id)]) for id, cnt in doc)\n",
            "/usr/local/lib/python3.6/dist-packages/gensim/models/ldamodel.py:1077: DeprecationWarning: Calling np.sum(generator) is deprecated, and in the future will give a different result. Use np.sum(np.fromiter(generator)) or the python sum builtin instead.\n",
            "  score += np.sum(cnt * logsumexp(Elogthetad + Elogbeta[:, int(id)]) for id, cnt in doc)\n",
            "/usr/local/lib/python3.6/dist-packages/gensim/models/ldamodel.py:1077: DeprecationWarning: Calling np.sum(generator) is deprecated, and in the future will give a different result. Use np.sum(np.fromiter(generator)) or the python sum builtin instead.\n",
            "  score += np.sum(cnt * logsumexp(Elogthetad + Elogbeta[:, int(id)]) for id, cnt in doc)\n",
            "/usr/local/lib/python3.6/dist-packages/gensim/models/ldamodel.py:1077: DeprecationWarning: Calling np.sum(generator) is deprecated, and in the future will give a different result. Use np.sum(np.fromiter(generator)) or the python sum builtin instead.\n",
            "  score += np.sum(cnt * logsumexp(Elogthetad + Elogbeta[:, int(id)]) for id, cnt in doc)\n",
            "/usr/local/lib/python3.6/dist-packages/gensim/models/ldamodel.py:1077: DeprecationWarning: Calling np.sum(generator) is deprecated, and in the future will give a different result. Use np.sum(np.fromiter(generator)) or the python sum builtin instead.\n",
            "  score += np.sum(cnt * logsumexp(Elogthetad + Elogbeta[:, int(id)]) for id, cnt in doc)\n",
            "/usr/local/lib/python3.6/dist-packages/gensim/models/ldamodel.py:1077: DeprecationWarning: Calling np.sum(generator) is deprecated, and in the future will give a different result. Use np.sum(np.fromiter(generator)) or the python sum builtin instead.\n",
            "  score += np.sum(cnt * logsumexp(Elogthetad + Elogbeta[:, int(id)]) for id, cnt in doc)\n",
            "/usr/local/lib/python3.6/dist-packages/gensim/models/ldamodel.py:1077: DeprecationWarning: Calling np.sum(generator) is deprecated, and in the future will give a different result. Use np.sum(np.fromiter(generator)) or the python sum builtin instead.\n",
            "  score += np.sum(cnt * logsumexp(Elogthetad + Elogbeta[:, int(id)]) for id, cnt in doc)\n",
            "/usr/local/lib/python3.6/dist-packages/gensim/models/ldamodel.py:1077: DeprecationWarning: Calling np.sum(generator) is deprecated, and in the future will give a different result. Use np.sum(np.fromiter(generator)) or the python sum builtin instead.\n",
            "  score += np.sum(cnt * logsumexp(Elogthetad + Elogbeta[:, int(id)]) for id, cnt in doc)\n",
            "/usr/local/lib/python3.6/dist-packages/gensim/models/ldamodel.py:1077: DeprecationWarning: Calling np.sum(generator) is deprecated, and in the future will give a different result. Use np.sum(np.fromiter(generator)) or the python sum builtin instead.\n",
            "  score += np.sum(cnt * logsumexp(Elogthetad + Elogbeta[:, int(id)]) for id, cnt in doc)\n",
            "/usr/local/lib/python3.6/dist-packages/gensim/models/ldamodel.py:1077: DeprecationWarning: Calling np.sum(generator) is deprecated, and in the future will give a different result. Use np.sum(np.fromiter(generator)) or the python sum builtin instead.\n",
            "  score += np.sum(cnt * logsumexp(Elogthetad + Elogbeta[:, int(id)]) for id, cnt in doc)\n",
            "/usr/local/lib/python3.6/dist-packages/gensim/models/ldamodel.py:1077: DeprecationWarning: Calling np.sum(generator) is deprecated, and in the future will give a different result. Use np.sum(np.fromiter(generator)) or the python sum builtin instead.\n",
            "  score += np.sum(cnt * logsumexp(Elogthetad + Elogbeta[:, int(id)]) for id, cnt in doc)\n",
            "/usr/local/lib/python3.6/dist-packages/gensim/models/ldamodel.py:1077: DeprecationWarning: Calling np.sum(generator) is deprecated, and in the future will give a different result. Use np.sum(np.fromiter(generator)) or the python sum builtin instead.\n",
            "  score += np.sum(cnt * logsumexp(Elogthetad + Elogbeta[:, int(id)]) for id, cnt in doc)\n",
            "/usr/local/lib/python3.6/dist-packages/gensim/models/ldamodel.py:1077: DeprecationWarning: Calling np.sum(generator) is deprecated, and in the future will give a different result. Use np.sum(np.fromiter(generator)) or the python sum builtin instead.\n",
            "  score += np.sum(cnt * logsumexp(Elogthetad + Elogbeta[:, int(id)]) for id, cnt in doc)\n",
            "/usr/local/lib/python3.6/dist-packages/gensim/models/ldamodel.py:1077: DeprecationWarning: Calling np.sum(generator) is deprecated, and in the future will give a different result. Use np.sum(np.fromiter(generator)) or the python sum builtin instead.\n",
            "  score += np.sum(cnt * logsumexp(Elogthetad + Elogbeta[:, int(id)]) for id, cnt in doc)\n",
            "/usr/local/lib/python3.6/dist-packages/gensim/models/ldamodel.py:1077: DeprecationWarning: Calling np.sum(generator) is deprecated, and in the future will give a different result. Use np.sum(np.fromiter(generator)) or the python sum builtin instead.\n",
            "  score += np.sum(cnt * logsumexp(Elogthetad + Elogbeta[:, int(id)]) for id, cnt in doc)\n",
            "/usr/local/lib/python3.6/dist-packages/gensim/models/ldamodel.py:1077: DeprecationWarning: Calling np.sum(generator) is deprecated, and in the future will give a different result. Use np.sum(np.fromiter(generator)) or the python sum builtin instead.\n",
            "  score += np.sum(cnt * logsumexp(Elogthetad + Elogbeta[:, int(id)]) for id, cnt in doc)\n",
            "/usr/local/lib/python3.6/dist-packages/gensim/models/ldamodel.py:1077: DeprecationWarning: Calling np.sum(generator) is deprecated, and in the future will give a different result. Use np.sum(np.fromiter(generator)) or the python sum builtin instead.\n",
            "  score += np.sum(cnt * logsumexp(Elogthetad + Elogbeta[:, int(id)]) for id, cnt in doc)\n",
            "/usr/local/lib/python3.6/dist-packages/gensim/models/ldamodel.py:1077: DeprecationWarning: Calling np.sum(generator) is deprecated, and in the future will give a different result. Use np.sum(np.fromiter(generator)) or the python sum builtin instead.\n",
            "  score += np.sum(cnt * logsumexp(Elogthetad + Elogbeta[:, int(id)]) for id, cnt in doc)\n",
            "/usr/local/lib/python3.6/dist-packages/gensim/models/ldamodel.py:1077: DeprecationWarning: Calling np.sum(generator) is deprecated, and in the future will give a different result. Use np.sum(np.fromiter(generator)) or the python sum builtin instead.\n",
            "  score += np.sum(cnt * logsumexp(Elogthetad + Elogbeta[:, int(id)]) for id, cnt in doc)\n",
            "/usr/local/lib/python3.6/dist-packages/gensim/models/ldamodel.py:1077: DeprecationWarning: Calling np.sum(generator) is deprecated, and in the future will give a different result. Use np.sum(np.fromiter(generator)) or the python sum builtin instead.\n",
            "  score += np.sum(cnt * logsumexp(Elogthetad + Elogbeta[:, int(id)]) for id, cnt in doc)\n",
            "/usr/local/lib/python3.6/dist-packages/gensim/models/ldamodel.py:1077: DeprecationWarning: Calling np.sum(generator) is deprecated, and in the future will give a different result. Use np.sum(np.fromiter(generator)) or the python sum builtin instead.\n",
            "  score += np.sum(cnt * logsumexp(Elogthetad + Elogbeta[:, int(id)]) for id, cnt in doc)\n",
            "/usr/local/lib/python3.6/dist-packages/gensim/models/ldamodel.py:1077: DeprecationWarning: Calling np.sum(generator) is deprecated, and in the future will give a different result. Use np.sum(np.fromiter(generator)) or the python sum builtin instead.\n",
            "  score += np.sum(cnt * logsumexp(Elogthetad + Elogbeta[:, int(id)]) for id, cnt in doc)\n",
            "/usr/local/lib/python3.6/dist-packages/gensim/models/ldamodel.py:1077: DeprecationWarning: Calling np.sum(generator) is deprecated, and in the future will give a different result. Use np.sum(np.fromiter(generator)) or the python sum builtin instead.\n",
            "  score += np.sum(cnt * logsumexp(Elogthetad + Elogbeta[:, int(id)]) for id, cnt in doc)\n",
            "/usr/local/lib/python3.6/dist-packages/gensim/models/ldamodel.py:1077: DeprecationWarning: Calling np.sum(generator) is deprecated, and in the future will give a different result. Use np.sum(np.fromiter(generator)) or the python sum builtin instead.\n",
            "  score += np.sum(cnt * logsumexp(Elogthetad + Elogbeta[:, int(id)]) for id, cnt in doc)\n",
            "/usr/local/lib/python3.6/dist-packages/gensim/models/ldamodel.py:1077: DeprecationWarning: Calling np.sum(generator) is deprecated, and in the future will give a different result. Use np.sum(np.fromiter(generator)) or the python sum builtin instead.\n",
            "  score += np.sum(cnt * logsumexp(Elogthetad + Elogbeta[:, int(id)]) for id, cnt in doc)\n",
            "/usr/local/lib/python3.6/dist-packages/gensim/models/ldamodel.py:1077: DeprecationWarning: Calling np.sum(generator) is deprecated, and in the future will give a different result. Use np.sum(np.fromiter(generator)) or the python sum builtin instead.\n",
            "  score += np.sum(cnt * logsumexp(Elogthetad + Elogbeta[:, int(id)]) for id, cnt in doc)\n",
            "/usr/local/lib/python3.6/dist-packages/gensim/models/ldamodel.py:1077: DeprecationWarning: Calling np.sum(generator) is deprecated, and in the future will give a different result. Use np.sum(np.fromiter(generator)) or the python sum builtin instead.\n",
            "  score += np.sum(cnt * logsumexp(Elogthetad + Elogbeta[:, int(id)]) for id, cnt in doc)\n",
            "/usr/local/lib/python3.6/dist-packages/gensim/models/ldamodel.py:1077: DeprecationWarning: Calling np.sum(generator) is deprecated, and in the future will give a different result. Use np.sum(np.fromiter(generator)) or the python sum builtin instead.\n",
            "  score += np.sum(cnt * logsumexp(Elogthetad + Elogbeta[:, int(id)]) for id, cnt in doc)\n",
            "/usr/local/lib/python3.6/dist-packages/gensim/models/ldamodel.py:1077: DeprecationWarning: Calling np.sum(generator) is deprecated, and in the future will give a different result. Use np.sum(np.fromiter(generator)) or the python sum builtin instead.\n",
            "  score += np.sum(cnt * logsumexp(Elogthetad + Elogbeta[:, int(id)]) for id, cnt in doc)\n",
            "/usr/local/lib/python3.6/dist-packages/gensim/models/ldamodel.py:1077: DeprecationWarning: Calling np.sum(generator) is deprecated, and in the future will give a different result. Use np.sum(np.fromiter(generator)) or the python sum builtin instead.\n",
            "  score += np.sum(cnt * logsumexp(Elogthetad + Elogbeta[:, int(id)]) for id, cnt in doc)\n",
            "/usr/local/lib/python3.6/dist-packages/gensim/models/ldamodel.py:1077: DeprecationWarning: Calling np.sum(generator) is deprecated, and in the future will give a different result. Use np.sum(np.fromiter(generator)) or the python sum builtin instead.\n",
            "  score += np.sum(cnt * logsumexp(Elogthetad + Elogbeta[:, int(id)]) for id, cnt in doc)\n",
            "/usr/local/lib/python3.6/dist-packages/gensim/models/ldamodel.py:1077: DeprecationWarning: Calling np.sum(generator) is deprecated, and in the future will give a different result. Use np.sum(np.fromiter(generator)) or the python sum builtin instead.\n",
            "  score += np.sum(cnt * logsumexp(Elogthetad + Elogbeta[:, int(id)]) for id, cnt in doc)\n",
            "/usr/local/lib/python3.6/dist-packages/gensim/models/ldamodel.py:1077: DeprecationWarning: Calling np.sum(generator) is deprecated, and in the future will give a different result. Use np.sum(np.fromiter(generator)) or the python sum builtin instead.\n",
            "  score += np.sum(cnt * logsumexp(Elogthetad + Elogbeta[:, int(id)]) for id, cnt in doc)\n",
            "/usr/local/lib/python3.6/dist-packages/gensim/models/ldamodel.py:1077: DeprecationWarning: Calling np.sum(generator) is deprecated, and in the future will give a different result. Use np.sum(np.fromiter(generator)) or the python sum builtin instead.\n",
            "  score += np.sum(cnt * logsumexp(Elogthetad + Elogbeta[:, int(id)]) for id, cnt in doc)\n",
            "/usr/local/lib/python3.6/dist-packages/gensim/models/ldamodel.py:1077: DeprecationWarning: Calling np.sum(generator) is deprecated, and in the future will give a different result. Use np.sum(np.fromiter(generator)) or the python sum builtin instead.\n",
            "  score += np.sum(cnt * logsumexp(Elogthetad + Elogbeta[:, int(id)]) for id, cnt in doc)\n",
            "/usr/local/lib/python3.6/dist-packages/gensim/models/ldamodel.py:1077: DeprecationWarning: Calling np.sum(generator) is deprecated, and in the future will give a different result. Use np.sum(np.fromiter(generator)) or the python sum builtin instead.\n",
            "  score += np.sum(cnt * logsumexp(Elogthetad + Elogbeta[:, int(id)]) for id, cnt in doc)\n",
            "/usr/local/lib/python3.6/dist-packages/gensim/models/ldamodel.py:1077: DeprecationWarning: Calling np.sum(generator) is deprecated, and in the future will give a different result. Use np.sum(np.fromiter(generator)) or the python sum builtin instead.\n",
            "  score += np.sum(cnt * logsumexp(Elogthetad + Elogbeta[:, int(id)]) for id, cnt in doc)\n",
            "/usr/local/lib/python3.6/dist-packages/gensim/models/ldamodel.py:1077: DeprecationWarning: Calling np.sum(generator) is deprecated, and in the future will give a different result. Use np.sum(np.fromiter(generator)) or the python sum builtin instead.\n",
            "  score += np.sum(cnt * logsumexp(Elogthetad + Elogbeta[:, int(id)]) for id, cnt in doc)\n",
            "/usr/local/lib/python3.6/dist-packages/gensim/models/ldamodel.py:1077: DeprecationWarning: Calling np.sum(generator) is deprecated, and in the future will give a different result. Use np.sum(np.fromiter(generator)) or the python sum builtin instead.\n",
            "  score += np.sum(cnt * logsumexp(Elogthetad + Elogbeta[:, int(id)]) for id, cnt in doc)\n",
            "/usr/local/lib/python3.6/dist-packages/gensim/models/ldamodel.py:1077: DeprecationWarning: Calling np.sum(generator) is deprecated, and in the future will give a different result. Use np.sum(np.fromiter(generator)) or the python sum builtin instead.\n",
            "  score += np.sum(cnt * logsumexp(Elogthetad + Elogbeta[:, int(id)]) for id, cnt in doc)\n",
            "/usr/local/lib/python3.6/dist-packages/gensim/models/ldamodel.py:1077: DeprecationWarning: Calling np.sum(generator) is deprecated, and in the future will give a different result. Use np.sum(np.fromiter(generator)) or the python sum builtin instead.\n",
            "  score += np.sum(cnt * logsumexp(Elogthetad + Elogbeta[:, int(id)]) for id, cnt in doc)\n",
            "/usr/local/lib/python3.6/dist-packages/gensim/models/ldamodel.py:1077: DeprecationWarning: Calling np.sum(generator) is deprecated, and in the future will give a different result. Use np.sum(np.fromiter(generator)) or the python sum builtin instead.\n",
            "  score += np.sum(cnt * logsumexp(Elogthetad + Elogbeta[:, int(id)]) for id, cnt in doc)\n",
            "/usr/local/lib/python3.6/dist-packages/gensim/models/ldamodel.py:1077: DeprecationWarning: Calling np.sum(generator) is deprecated, and in the future will give a different result. Use np.sum(np.fromiter(generator)) or the python sum builtin instead.\n",
            "  score += np.sum(cnt * logsumexp(Elogthetad + Elogbeta[:, int(id)]) for id, cnt in doc)\n",
            "/usr/local/lib/python3.6/dist-packages/gensim/models/ldamodel.py:1077: DeprecationWarning: Calling np.sum(generator) is deprecated, and in the future will give a different result. Use np.sum(np.fromiter(generator)) or the python sum builtin instead.\n",
            "  score += np.sum(cnt * logsumexp(Elogthetad + Elogbeta[:, int(id)]) for id, cnt in doc)\n",
            "/usr/local/lib/python3.6/dist-packages/gensim/models/ldamodel.py:1077: DeprecationWarning: Calling np.sum(generator) is deprecated, and in the future will give a different result. Use np.sum(np.fromiter(generator)) or the python sum builtin instead.\n",
            "  score += np.sum(cnt * logsumexp(Elogthetad + Elogbeta[:, int(id)]) for id, cnt in doc)\n",
            "/usr/local/lib/python3.6/dist-packages/gensim/models/ldamodel.py:1077: DeprecationWarning: Calling np.sum(generator) is deprecated, and in the future will give a different result. Use np.sum(np.fromiter(generator)) or the python sum builtin instead.\n",
            "  score += np.sum(cnt * logsumexp(Elogthetad + Elogbeta[:, int(id)]) for id, cnt in doc)\n",
            "/usr/local/lib/python3.6/dist-packages/gensim/models/ldamodel.py:1077: DeprecationWarning: Calling np.sum(generator) is deprecated, and in the future will give a different result. Use np.sum(np.fromiter(generator)) or the python sum builtin instead.\n",
            "  score += np.sum(cnt * logsumexp(Elogthetad + Elogbeta[:, int(id)]) for id, cnt in doc)\n",
            "/usr/local/lib/python3.6/dist-packages/gensim/models/ldamodel.py:1077: DeprecationWarning: Calling np.sum(generator) is deprecated, and in the future will give a different result. Use np.sum(np.fromiter(generator)) or the python sum builtin instead.\n",
            "  score += np.sum(cnt * logsumexp(Elogthetad + Elogbeta[:, int(id)]) for id, cnt in doc)\n",
            "/usr/local/lib/python3.6/dist-packages/gensim/models/ldamodel.py:1077: DeprecationWarning: Calling np.sum(generator) is deprecated, and in the future will give a different result. Use np.sum(np.fromiter(generator)) or the python sum builtin instead.\n",
            "  score += np.sum(cnt * logsumexp(Elogthetad + Elogbeta[:, int(id)]) for id, cnt in doc)\n",
            "/usr/local/lib/python3.6/dist-packages/gensim/models/ldamodel.py:1077: DeprecationWarning: Calling np.sum(generator) is deprecated, and in the future will give a different result. Use np.sum(np.fromiter(generator)) or the python sum builtin instead.\n",
            "  score += np.sum(cnt * logsumexp(Elogthetad + Elogbeta[:, int(id)]) for id, cnt in doc)\n",
            "/usr/local/lib/python3.6/dist-packages/gensim/models/ldamodel.py:1077: DeprecationWarning: Calling np.sum(generator) is deprecated, and in the future will give a different result. Use np.sum(np.fromiter(generator)) or the python sum builtin instead.\n",
            "  score += np.sum(cnt * logsumexp(Elogthetad + Elogbeta[:, int(id)]) for id, cnt in doc)\n",
            "/usr/local/lib/python3.6/dist-packages/gensim/models/ldamodel.py:1077: DeprecationWarning: Calling np.sum(generator) is deprecated, and in the future will give a different result. Use np.sum(np.fromiter(generator)) or the python sum builtin instead.\n",
            "  score += np.sum(cnt * logsumexp(Elogthetad + Elogbeta[:, int(id)]) for id, cnt in doc)\n",
            "/usr/local/lib/python3.6/dist-packages/gensim/models/ldamodel.py:1077: DeprecationWarning: Calling np.sum(generator) is deprecated, and in the future will give a different result. Use np.sum(np.fromiter(generator)) or the python sum builtin instead.\n",
            "  score += np.sum(cnt * logsumexp(Elogthetad + Elogbeta[:, int(id)]) for id, cnt in doc)\n",
            "/usr/local/lib/python3.6/dist-packages/gensim/models/ldamodel.py:1077: DeprecationWarning: Calling np.sum(generator) is deprecated, and in the future will give a different result. Use np.sum(np.fromiter(generator)) or the python sum builtin instead.\n",
            "  score += np.sum(cnt * logsumexp(Elogthetad + Elogbeta[:, int(id)]) for id, cnt in doc)\n",
            "/usr/local/lib/python3.6/dist-packages/gensim/models/ldamodel.py:1077: DeprecationWarning: Calling np.sum(generator) is deprecated, and in the future will give a different result. Use np.sum(np.fromiter(generator)) or the python sum builtin instead.\n",
            "  score += np.sum(cnt * logsumexp(Elogthetad + Elogbeta[:, int(id)]) for id, cnt in doc)\n",
            "/usr/local/lib/python3.6/dist-packages/gensim/models/ldamodel.py:1077: DeprecationWarning: Calling np.sum(generator) is deprecated, and in the future will give a different result. Use np.sum(np.fromiter(generator)) or the python sum builtin instead.\n",
            "  score += np.sum(cnt * logsumexp(Elogthetad + Elogbeta[:, int(id)]) for id, cnt in doc)\n",
            "/usr/local/lib/python3.6/dist-packages/gensim/models/ldamodel.py:1077: DeprecationWarning: Calling np.sum(generator) is deprecated, and in the future will give a different result. Use np.sum(np.fromiter(generator)) or the python sum builtin instead.\n",
            "  score += np.sum(cnt * logsumexp(Elogthetad + Elogbeta[:, int(id)]) for id, cnt in doc)\n",
            "/usr/local/lib/python3.6/dist-packages/gensim/models/ldamodel.py:1077: DeprecationWarning: Calling np.sum(generator) is deprecated, and in the future will give a different result. Use np.sum(np.fromiter(generator)) or the python sum builtin instead.\n",
            "  score += np.sum(cnt * logsumexp(Elogthetad + Elogbeta[:, int(id)]) for id, cnt in doc)\n",
            "/usr/local/lib/python3.6/dist-packages/gensim/models/ldamodel.py:1077: DeprecationWarning: Calling np.sum(generator) is deprecated, and in the future will give a different result. Use np.sum(np.fromiter(generator)) or the python sum builtin instead.\n",
            "  score += np.sum(cnt * logsumexp(Elogthetad + Elogbeta[:, int(id)]) for id, cnt in doc)\n",
            "/usr/local/lib/python3.6/dist-packages/gensim/models/ldamodel.py:1077: DeprecationWarning: Calling np.sum(generator) is deprecated, and in the future will give a different result. Use np.sum(np.fromiter(generator)) or the python sum builtin instead.\n",
            "  score += np.sum(cnt * logsumexp(Elogthetad + Elogbeta[:, int(id)]) for id, cnt in doc)\n",
            "/usr/local/lib/python3.6/dist-packages/gensim/models/ldamodel.py:1077: DeprecationWarning: Calling np.sum(generator) is deprecated, and in the future will give a different result. Use np.sum(np.fromiter(generator)) or the python sum builtin instead.\n",
            "  score += np.sum(cnt * logsumexp(Elogthetad + Elogbeta[:, int(id)]) for id, cnt in doc)\n",
            "/usr/local/lib/python3.6/dist-packages/gensim/models/ldamodel.py:1077: DeprecationWarning: Calling np.sum(generator) is deprecated, and in the future will give a different result. Use np.sum(np.fromiter(generator)) or the python sum builtin instead.\n",
            "  score += np.sum(cnt * logsumexp(Elogthetad + Elogbeta[:, int(id)]) for id, cnt in doc)\n",
            "/usr/local/lib/python3.6/dist-packages/gensim/models/ldamodel.py:1077: DeprecationWarning: Calling np.sum(generator) is deprecated, and in the future will give a different result. Use np.sum(np.fromiter(generator)) or the python sum builtin instead.\n",
            "  score += np.sum(cnt * logsumexp(Elogthetad + Elogbeta[:, int(id)]) for id, cnt in doc)\n",
            "/usr/local/lib/python3.6/dist-packages/gensim/topic_coherence/direct_confirmation_measure.py:195: RuntimeWarning: divide by zero encountered in double_scalars\n",
            "  m_lr_i = np.log(numerator / denominator)\n",
            "/usr/local/lib/python3.6/dist-packages/gensim/topic_coherence/indirect_confirmation_measure.py:317: RuntimeWarning: invalid value encountered in double_scalars\n",
            "  return cv1.T.dot(cv2)[0, 0] / (_magnitude(cv1) * _magnitude(cv2))\n",
            "/usr/local/lib/python3.6/dist-packages/gensim/models/ldamodel.py:1077: DeprecationWarning: Calling np.sum(generator) is deprecated, and in the future will give a different result. Use np.sum(np.fromiter(generator)) or the python sum builtin instead.\n",
            "  score += np.sum(cnt * logsumexp(Elogthetad + Elogbeta[:, int(id)]) for id, cnt in doc)\n",
            "/usr/local/lib/python3.6/dist-packages/gensim/models/ldamodel.py:1077: DeprecationWarning: Calling np.sum(generator) is deprecated, and in the future will give a different result. Use np.sum(np.fromiter(generator)) or the python sum builtin instead.\n",
            "  score += np.sum(cnt * logsumexp(Elogthetad + Elogbeta[:, int(id)]) for id, cnt in doc)\n",
            "/usr/local/lib/python3.6/dist-packages/gensim/models/ldamodel.py:1077: DeprecationWarning: Calling np.sum(generator) is deprecated, and in the future will give a different result. Use np.sum(np.fromiter(generator)) or the python sum builtin instead.\n",
            "  score += np.sum(cnt * logsumexp(Elogthetad + Elogbeta[:, int(id)]) for id, cnt in doc)\n",
            "/usr/local/lib/python3.6/dist-packages/gensim/models/ldamodel.py:1077: DeprecationWarning: Calling np.sum(generator) is deprecated, and in the future will give a different result. Use np.sum(np.fromiter(generator)) or the python sum builtin instead.\n",
            "  score += np.sum(cnt * logsumexp(Elogthetad + Elogbeta[:, int(id)]) for id, cnt in doc)\n",
            "/usr/local/lib/python3.6/dist-packages/gensim/models/ldamodel.py:1077: DeprecationWarning: Calling np.sum(generator) is deprecated, and in the future will give a different result. Use np.sum(np.fromiter(generator)) or the python sum builtin instead.\n",
            "  score += np.sum(cnt * logsumexp(Elogthetad + Elogbeta[:, int(id)]) for id, cnt in doc)\n",
            "/usr/local/lib/python3.6/dist-packages/gensim/models/ldamodel.py:1077: DeprecationWarning: Calling np.sum(generator) is deprecated, and in the future will give a different result. Use np.sum(np.fromiter(generator)) or the python sum builtin instead.\n",
            "  score += np.sum(cnt * logsumexp(Elogthetad + Elogbeta[:, int(id)]) for id, cnt in doc)\n",
            "/usr/local/lib/python3.6/dist-packages/gensim/models/ldamodel.py:1077: DeprecationWarning: Calling np.sum(generator) is deprecated, and in the future will give a different result. Use np.sum(np.fromiter(generator)) or the python sum builtin instead.\n",
            "  score += np.sum(cnt * logsumexp(Elogthetad + Elogbeta[:, int(id)]) for id, cnt in doc)\n",
            "/usr/local/lib/python3.6/dist-packages/gensim/models/ldamodel.py:1077: DeprecationWarning: Calling np.sum(generator) is deprecated, and in the future will give a different result. Use np.sum(np.fromiter(generator)) or the python sum builtin instead.\n",
            "  score += np.sum(cnt * logsumexp(Elogthetad + Elogbeta[:, int(id)]) for id, cnt in doc)\n",
            "/usr/local/lib/python3.6/dist-packages/gensim/models/ldamodel.py:1077: DeprecationWarning: Calling np.sum(generator) is deprecated, and in the future will give a different result. Use np.sum(np.fromiter(generator)) or the python sum builtin instead.\n",
            "  score += np.sum(cnt * logsumexp(Elogthetad + Elogbeta[:, int(id)]) for id, cnt in doc)\n",
            "/usr/local/lib/python3.6/dist-packages/gensim/models/ldamodel.py:1077: DeprecationWarning: Calling np.sum(generator) is deprecated, and in the future will give a different result. Use np.sum(np.fromiter(generator)) or the python sum builtin instead.\n",
            "  score += np.sum(cnt * logsumexp(Elogthetad + Elogbeta[:, int(id)]) for id, cnt in doc)\n",
            "/usr/local/lib/python3.6/dist-packages/gensim/models/ldamodel.py:1077: DeprecationWarning: Calling np.sum(generator) is deprecated, and in the future will give a different result. Use np.sum(np.fromiter(generator)) or the python sum builtin instead.\n",
            "  score += np.sum(cnt * logsumexp(Elogthetad + Elogbeta[:, int(id)]) for id, cnt in doc)\n",
            "/usr/local/lib/python3.6/dist-packages/gensim/models/ldamodel.py:1077: DeprecationWarning: Calling np.sum(generator) is deprecated, and in the future will give a different result. Use np.sum(np.fromiter(generator)) or the python sum builtin instead.\n",
            "  score += np.sum(cnt * logsumexp(Elogthetad + Elogbeta[:, int(id)]) for id, cnt in doc)\n",
            "/usr/local/lib/python3.6/dist-packages/gensim/models/ldamodel.py:1077: DeprecationWarning: Calling np.sum(generator) is deprecated, and in the future will give a different result. Use np.sum(np.fromiter(generator)) or the python sum builtin instead.\n",
            "  score += np.sum(cnt * logsumexp(Elogthetad + Elogbeta[:, int(id)]) for id, cnt in doc)\n",
            "/usr/local/lib/python3.6/dist-packages/gensim/models/ldamodel.py:1077: DeprecationWarning: Calling np.sum(generator) is deprecated, and in the future will give a different result. Use np.sum(np.fromiter(generator)) or the python sum builtin instead.\n",
            "  score += np.sum(cnt * logsumexp(Elogthetad + Elogbeta[:, int(id)]) for id, cnt in doc)\n",
            "/usr/local/lib/python3.6/dist-packages/gensim/models/ldamodel.py:1077: DeprecationWarning: Calling np.sum(generator) is deprecated, and in the future will give a different result. Use np.sum(np.fromiter(generator)) or the python sum builtin instead.\n",
            "  score += np.sum(cnt * logsumexp(Elogthetad + Elogbeta[:, int(id)]) for id, cnt in doc)\n",
            "/usr/local/lib/python3.6/dist-packages/gensim/models/ldamodel.py:1077: DeprecationWarning: Calling np.sum(generator) is deprecated, and in the future will give a different result. Use np.sum(np.fromiter(generator)) or the python sum builtin instead.\n",
            "  score += np.sum(cnt * logsumexp(Elogthetad + Elogbeta[:, int(id)]) for id, cnt in doc)\n",
            "/usr/local/lib/python3.6/dist-packages/gensim/models/ldamodel.py:1077: DeprecationWarning: Calling np.sum(generator) is deprecated, and in the future will give a different result. Use np.sum(np.fromiter(generator)) or the python sum builtin instead.\n",
            "  score += np.sum(cnt * logsumexp(Elogthetad + Elogbeta[:, int(id)]) for id, cnt in doc)\n",
            "/usr/local/lib/python3.6/dist-packages/gensim/models/ldamodel.py:1077: DeprecationWarning: Calling np.sum(generator) is deprecated, and in the future will give a different result. Use np.sum(np.fromiter(generator)) or the python sum builtin instead.\n",
            "  score += np.sum(cnt * logsumexp(Elogthetad + Elogbeta[:, int(id)]) for id, cnt in doc)\n",
            "/usr/local/lib/python3.6/dist-packages/gensim/models/ldamodel.py:1077: DeprecationWarning: Calling np.sum(generator) is deprecated, and in the future will give a different result. Use np.sum(np.fromiter(generator)) or the python sum builtin instead.\n",
            "  score += np.sum(cnt * logsumexp(Elogthetad + Elogbeta[:, int(id)]) for id, cnt in doc)\n",
            "/usr/local/lib/python3.6/dist-packages/gensim/models/ldamodel.py:1077: DeprecationWarning: Calling np.sum(generator) is deprecated, and in the future will give a different result. Use np.sum(np.fromiter(generator)) or the python sum builtin instead.\n",
            "  score += np.sum(cnt * logsumexp(Elogthetad + Elogbeta[:, int(id)]) for id, cnt in doc)\n",
            "/usr/local/lib/python3.6/dist-packages/gensim/models/ldamodel.py:1077: DeprecationWarning: Calling np.sum(generator) is deprecated, and in the future will give a different result. Use np.sum(np.fromiter(generator)) or the python sum builtin instead.\n",
            "  score += np.sum(cnt * logsumexp(Elogthetad + Elogbeta[:, int(id)]) for id, cnt in doc)\n",
            "/usr/local/lib/python3.6/dist-packages/gensim/models/ldamodel.py:1077: DeprecationWarning: Calling np.sum(generator) is deprecated, and in the future will give a different result. Use np.sum(np.fromiter(generator)) or the python sum builtin instead.\n",
            "  score += np.sum(cnt * logsumexp(Elogthetad + Elogbeta[:, int(id)]) for id, cnt in doc)\n",
            "/usr/local/lib/python3.6/dist-packages/gensim/models/ldamodel.py:1077: DeprecationWarning: Calling np.sum(generator) is deprecated, and in the future will give a different result. Use np.sum(np.fromiter(generator)) or the python sum builtin instead.\n",
            "  score += np.sum(cnt * logsumexp(Elogthetad + Elogbeta[:, int(id)]) for id, cnt in doc)\n",
            "/usr/local/lib/python3.6/dist-packages/gensim/models/ldamodel.py:1077: DeprecationWarning: Calling np.sum(generator) is deprecated, and in the future will give a different result. Use np.sum(np.fromiter(generator)) or the python sum builtin instead.\n",
            "  score += np.sum(cnt * logsumexp(Elogthetad + Elogbeta[:, int(id)]) for id, cnt in doc)\n",
            "/usr/local/lib/python3.6/dist-packages/gensim/models/ldamodel.py:1077: DeprecationWarning: Calling np.sum(generator) is deprecated, and in the future will give a different result. Use np.sum(np.fromiter(generator)) or the python sum builtin instead.\n",
            "  score += np.sum(cnt * logsumexp(Elogthetad + Elogbeta[:, int(id)]) for id, cnt in doc)\n",
            "/usr/local/lib/python3.6/dist-packages/gensim/models/ldamodel.py:1077: DeprecationWarning: Calling np.sum(generator) is deprecated, and in the future will give a different result. Use np.sum(np.fromiter(generator)) or the python sum builtin instead.\n",
            "  score += np.sum(cnt * logsumexp(Elogthetad + Elogbeta[:, int(id)]) for id, cnt in doc)\n",
            "/usr/local/lib/python3.6/dist-packages/gensim/models/ldamodel.py:1077: DeprecationWarning: Calling np.sum(generator) is deprecated, and in the future will give a different result. Use np.sum(np.fromiter(generator)) or the python sum builtin instead.\n",
            "  score += np.sum(cnt * logsumexp(Elogthetad + Elogbeta[:, int(id)]) for id, cnt in doc)\n",
            "/usr/local/lib/python3.6/dist-packages/gensim/models/ldamodel.py:1077: DeprecationWarning: Calling np.sum(generator) is deprecated, and in the future will give a different result. Use np.sum(np.fromiter(generator)) or the python sum builtin instead.\n",
            "  score += np.sum(cnt * logsumexp(Elogthetad + Elogbeta[:, int(id)]) for id, cnt in doc)\n",
            "/usr/local/lib/python3.6/dist-packages/gensim/models/ldamodel.py:1077: DeprecationWarning: Calling np.sum(generator) is deprecated, and in the future will give a different result. Use np.sum(np.fromiter(generator)) or the python sum builtin instead.\n",
            "  score += np.sum(cnt * logsumexp(Elogthetad + Elogbeta[:, int(id)]) for id, cnt in doc)\n",
            "/usr/local/lib/python3.6/dist-packages/gensim/models/ldamodel.py:1077: DeprecationWarning: Calling np.sum(generator) is deprecated, and in the future will give a different result. Use np.sum(np.fromiter(generator)) or the python sum builtin instead.\n",
            "  score += np.sum(cnt * logsumexp(Elogthetad + Elogbeta[:, int(id)]) for id, cnt in doc)\n",
            "/usr/local/lib/python3.6/dist-packages/gensim/models/ldamodel.py:1077: DeprecationWarning: Calling np.sum(generator) is deprecated, and in the future will give a different result. Use np.sum(np.fromiter(generator)) or the python sum builtin instead.\n",
            "  score += np.sum(cnt * logsumexp(Elogthetad + Elogbeta[:, int(id)]) for id, cnt in doc)\n",
            "/usr/local/lib/python3.6/dist-packages/gensim/models/ldamodel.py:1077: DeprecationWarning: Calling np.sum(generator) is deprecated, and in the future will give a different result. Use np.sum(np.fromiter(generator)) or the python sum builtin instead.\n",
            "  score += np.sum(cnt * logsumexp(Elogthetad + Elogbeta[:, int(id)]) for id, cnt in doc)\n",
            "/usr/local/lib/python3.6/dist-packages/gensim/models/ldamodel.py:1077: DeprecationWarning: Calling np.sum(generator) is deprecated, and in the future will give a different result. Use np.sum(np.fromiter(generator)) or the python sum builtin instead.\n",
            "  score += np.sum(cnt * logsumexp(Elogthetad + Elogbeta[:, int(id)]) for id, cnt in doc)\n",
            "/usr/local/lib/python3.6/dist-packages/gensim/models/ldamodel.py:1077: DeprecationWarning: Calling np.sum(generator) is deprecated, and in the future will give a different result. Use np.sum(np.fromiter(generator)) or the python sum builtin instead.\n",
            "  score += np.sum(cnt * logsumexp(Elogthetad + Elogbeta[:, int(id)]) for id, cnt in doc)\n",
            "/usr/local/lib/python3.6/dist-packages/gensim/models/ldamodel.py:1077: DeprecationWarning: Calling np.sum(generator) is deprecated, and in the future will give a different result. Use np.sum(np.fromiter(generator)) or the python sum builtin instead.\n",
            "  score += np.sum(cnt * logsumexp(Elogthetad + Elogbeta[:, int(id)]) for id, cnt in doc)\n",
            "/usr/local/lib/python3.6/dist-packages/gensim/models/ldamodel.py:1077: DeprecationWarning: Calling np.sum(generator) is deprecated, and in the future will give a different result. Use np.sum(np.fromiter(generator)) or the python sum builtin instead.\n",
            "  score += np.sum(cnt * logsumexp(Elogthetad + Elogbeta[:, int(id)]) for id, cnt in doc)\n",
            "/usr/local/lib/python3.6/dist-packages/gensim/models/ldamodel.py:1077: DeprecationWarning: Calling np.sum(generator) is deprecated, and in the future will give a different result. Use np.sum(np.fromiter(generator)) or the python sum builtin instead.\n",
            "  score += np.sum(cnt * logsumexp(Elogthetad + Elogbeta[:, int(id)]) for id, cnt in doc)\n",
            "/usr/local/lib/python3.6/dist-packages/gensim/models/ldamodel.py:1077: DeprecationWarning: Calling np.sum(generator) is deprecated, and in the future will give a different result. Use np.sum(np.fromiter(generator)) or the python sum builtin instead.\n",
            "  score += np.sum(cnt * logsumexp(Elogthetad + Elogbeta[:, int(id)]) for id, cnt in doc)\n",
            "/usr/local/lib/python3.6/dist-packages/gensim/models/ldamodel.py:1077: DeprecationWarning: Calling np.sum(generator) is deprecated, and in the future will give a different result. Use np.sum(np.fromiter(generator)) or the python sum builtin instead.\n",
            "  score += np.sum(cnt * logsumexp(Elogthetad + Elogbeta[:, int(id)]) for id, cnt in doc)\n",
            "/usr/local/lib/python3.6/dist-packages/gensim/models/ldamodel.py:1077: DeprecationWarning: Calling np.sum(generator) is deprecated, and in the future will give a different result. Use np.sum(np.fromiter(generator)) or the python sum builtin instead.\n",
            "  score += np.sum(cnt * logsumexp(Elogthetad + Elogbeta[:, int(id)]) for id, cnt in doc)\n",
            "/usr/local/lib/python3.6/dist-packages/gensim/models/ldamodel.py:1077: DeprecationWarning: Calling np.sum(generator) is deprecated, and in the future will give a different result. Use np.sum(np.fromiter(generator)) or the python sum builtin instead.\n",
            "  score += np.sum(cnt * logsumexp(Elogthetad + Elogbeta[:, int(id)]) for id, cnt in doc)\n",
            "/usr/local/lib/python3.6/dist-packages/gensim/models/ldamodel.py:1077: DeprecationWarning: Calling np.sum(generator) is deprecated, and in the future will give a different result. Use np.sum(np.fromiter(generator)) or the python sum builtin instead.\n",
            "  score += np.sum(cnt * logsumexp(Elogthetad + Elogbeta[:, int(id)]) for id, cnt in doc)\n",
            "/usr/local/lib/python3.6/dist-packages/gensim/models/ldamodel.py:1077: DeprecationWarning: Calling np.sum(generator) is deprecated, and in the future will give a different result. Use np.sum(np.fromiter(generator)) or the python sum builtin instead.\n",
            "  score += np.sum(cnt * logsumexp(Elogthetad + Elogbeta[:, int(id)]) for id, cnt in doc)\n",
            "/usr/local/lib/python3.6/dist-packages/gensim/models/ldamodel.py:1077: DeprecationWarning: Calling np.sum(generator) is deprecated, and in the future will give a different result. Use np.sum(np.fromiter(generator)) or the python sum builtin instead.\n",
            "  score += np.sum(cnt * logsumexp(Elogthetad + Elogbeta[:, int(id)]) for id, cnt in doc)\n",
            "/usr/local/lib/python3.6/dist-packages/gensim/models/ldamodel.py:1077: DeprecationWarning: Calling np.sum(generator) is deprecated, and in the future will give a different result. Use np.sum(np.fromiter(generator)) or the python sum builtin instead.\n",
            "  score += np.sum(cnt * logsumexp(Elogthetad + Elogbeta[:, int(id)]) for id, cnt in doc)\n",
            "/usr/local/lib/python3.6/dist-packages/gensim/models/ldamodel.py:1077: DeprecationWarning: Calling np.sum(generator) is deprecated, and in the future will give a different result. Use np.sum(np.fromiter(generator)) or the python sum builtin instead.\n",
            "  score += np.sum(cnt * logsumexp(Elogthetad + Elogbeta[:, int(id)]) for id, cnt in doc)\n",
            "/usr/local/lib/python3.6/dist-packages/gensim/models/ldamodel.py:1077: DeprecationWarning: Calling np.sum(generator) is deprecated, and in the future will give a different result. Use np.sum(np.fromiter(generator)) or the python sum builtin instead.\n",
            "  score += np.sum(cnt * logsumexp(Elogthetad + Elogbeta[:, int(id)]) for id, cnt in doc)\n",
            "/usr/local/lib/python3.6/dist-packages/gensim/models/ldamodel.py:1077: DeprecationWarning: Calling np.sum(generator) is deprecated, and in the future will give a different result. Use np.sum(np.fromiter(generator)) or the python sum builtin instead.\n",
            "  score += np.sum(cnt * logsumexp(Elogthetad + Elogbeta[:, int(id)]) for id, cnt in doc)\n",
            "/usr/local/lib/python3.6/dist-packages/gensim/models/ldamodel.py:1077: DeprecationWarning: Calling np.sum(generator) is deprecated, and in the future will give a different result. Use np.sum(np.fromiter(generator)) or the python sum builtin instead.\n",
            "  score += np.sum(cnt * logsumexp(Elogthetad + Elogbeta[:, int(id)]) for id, cnt in doc)\n",
            "/usr/local/lib/python3.6/dist-packages/gensim/models/ldamodel.py:1077: DeprecationWarning: Calling np.sum(generator) is deprecated, and in the future will give a different result. Use np.sum(np.fromiter(generator)) or the python sum builtin instead.\n",
            "  score += np.sum(cnt * logsumexp(Elogthetad + Elogbeta[:, int(id)]) for id, cnt in doc)\n",
            "/usr/local/lib/python3.6/dist-packages/gensim/models/ldamodel.py:1077: DeprecationWarning: Calling np.sum(generator) is deprecated, and in the future will give a different result. Use np.sum(np.fromiter(generator)) or the python sum builtin instead.\n",
            "  score += np.sum(cnt * logsumexp(Elogthetad + Elogbeta[:, int(id)]) for id, cnt in doc)\n",
            "/usr/local/lib/python3.6/dist-packages/gensim/models/ldamodel.py:1077: DeprecationWarning: Calling np.sum(generator) is deprecated, and in the future will give a different result. Use np.sum(np.fromiter(generator)) or the python sum builtin instead.\n",
            "  score += np.sum(cnt * logsumexp(Elogthetad + Elogbeta[:, int(id)]) for id, cnt in doc)\n",
            "/usr/local/lib/python3.6/dist-packages/gensim/models/ldamodel.py:1077: DeprecationWarning: Calling np.sum(generator) is deprecated, and in the future will give a different result. Use np.sum(np.fromiter(generator)) or the python sum builtin instead.\n",
            "  score += np.sum(cnt * logsumexp(Elogthetad + Elogbeta[:, int(id)]) for id, cnt in doc)\n",
            "/usr/local/lib/python3.6/dist-packages/gensim/models/ldamodel.py:1077: DeprecationWarning: Calling np.sum(generator) is deprecated, and in the future will give a different result. Use np.sum(np.fromiter(generator)) or the python sum builtin instead.\n",
            "  score += np.sum(cnt * logsumexp(Elogthetad + Elogbeta[:, int(id)]) for id, cnt in doc)\n",
            "/usr/local/lib/python3.6/dist-packages/gensim/models/ldamodel.py:1077: DeprecationWarning: Calling np.sum(generator) is deprecated, and in the future will give a different result. Use np.sum(np.fromiter(generator)) or the python sum builtin instead.\n",
            "  score += np.sum(cnt * logsumexp(Elogthetad + Elogbeta[:, int(id)]) for id, cnt in doc)\n",
            "/usr/local/lib/python3.6/dist-packages/gensim/models/ldamodel.py:1077: DeprecationWarning: Calling np.sum(generator) is deprecated, and in the future will give a different result. Use np.sum(np.fromiter(generator)) or the python sum builtin instead.\n",
            "  score += np.sum(cnt * logsumexp(Elogthetad + Elogbeta[:, int(id)]) for id, cnt in doc)\n",
            "/usr/local/lib/python3.6/dist-packages/gensim/models/ldamodel.py:1077: DeprecationWarning: Calling np.sum(generator) is deprecated, and in the future will give a different result. Use np.sum(np.fromiter(generator)) or the python sum builtin instead.\n",
            "  score += np.sum(cnt * logsumexp(Elogthetad + Elogbeta[:, int(id)]) for id, cnt in doc)\n",
            "/usr/local/lib/python3.6/dist-packages/gensim/models/ldamodel.py:1077: DeprecationWarning: Calling np.sum(generator) is deprecated, and in the future will give a different result. Use np.sum(np.fromiter(generator)) or the python sum builtin instead.\n",
            "  score += np.sum(cnt * logsumexp(Elogthetad + Elogbeta[:, int(id)]) for id, cnt in doc)\n",
            "/usr/local/lib/python3.6/dist-packages/gensim/models/ldamodel.py:1077: DeprecationWarning: Calling np.sum(generator) is deprecated, and in the future will give a different result. Use np.sum(np.fromiter(generator)) or the python sum builtin instead.\n",
            "  score += np.sum(cnt * logsumexp(Elogthetad + Elogbeta[:, int(id)]) for id, cnt in doc)\n",
            "/usr/local/lib/python3.6/dist-packages/gensim/models/ldamodel.py:1077: DeprecationWarning: Calling np.sum(generator) is deprecated, and in the future will give a different result. Use np.sum(np.fromiter(generator)) or the python sum builtin instead.\n",
            "  score += np.sum(cnt * logsumexp(Elogthetad + Elogbeta[:, int(id)]) for id, cnt in doc)\n",
            "/usr/local/lib/python3.6/dist-packages/gensim/models/ldamodel.py:1077: DeprecationWarning: Calling np.sum(generator) is deprecated, and in the future will give a different result. Use np.sum(np.fromiter(generator)) or the python sum builtin instead.\n",
            "  score += np.sum(cnt * logsumexp(Elogthetad + Elogbeta[:, int(id)]) for id, cnt in doc)\n",
            "/usr/local/lib/python3.6/dist-packages/gensim/models/ldamodel.py:1077: DeprecationWarning: Calling np.sum(generator) is deprecated, and in the future will give a different result. Use np.sum(np.fromiter(generator)) or the python sum builtin instead.\n",
            "  score += np.sum(cnt * logsumexp(Elogthetad + Elogbeta[:, int(id)]) for id, cnt in doc)\n",
            "/usr/local/lib/python3.6/dist-packages/gensim/models/ldamodel.py:1077: DeprecationWarning: Calling np.sum(generator) is deprecated, and in the future will give a different result. Use np.sum(np.fromiter(generator)) or the python sum builtin instead.\n",
            "  score += np.sum(cnt * logsumexp(Elogthetad + Elogbeta[:, int(id)]) for id, cnt in doc)\n",
            "/usr/local/lib/python3.6/dist-packages/gensim/models/ldamodel.py:1077: DeprecationWarning: Calling np.sum(generator) is deprecated, and in the future will give a different result. Use np.sum(np.fromiter(generator)) or the python sum builtin instead.\n",
            "  score += np.sum(cnt * logsumexp(Elogthetad + Elogbeta[:, int(id)]) for id, cnt in doc)\n",
            "/usr/local/lib/python3.6/dist-packages/gensim/models/ldamodel.py:1077: DeprecationWarning: Calling np.sum(generator) is deprecated, and in the future will give a different result. Use np.sum(np.fromiter(generator)) or the python sum builtin instead.\n",
            "  score += np.sum(cnt * logsumexp(Elogthetad + Elogbeta[:, int(id)]) for id, cnt in doc)\n",
            "/usr/local/lib/python3.6/dist-packages/gensim/models/ldamodel.py:1077: DeprecationWarning: Calling np.sum(generator) is deprecated, and in the future will give a different result. Use np.sum(np.fromiter(generator)) or the python sum builtin instead.\n",
            "  score += np.sum(cnt * logsumexp(Elogthetad + Elogbeta[:, int(id)]) for id, cnt in doc)\n",
            "/usr/local/lib/python3.6/dist-packages/gensim/models/ldamodel.py:1077: DeprecationWarning: Calling np.sum(generator) is deprecated, and in the future will give a different result. Use np.sum(np.fromiter(generator)) or the python sum builtin instead.\n",
            "  score += np.sum(cnt * logsumexp(Elogthetad + Elogbeta[:, int(id)]) for id, cnt in doc)\n",
            "/usr/local/lib/python3.6/dist-packages/gensim/models/ldamodel.py:1077: DeprecationWarning: Calling np.sum(generator) is deprecated, and in the future will give a different result. Use np.sum(np.fromiter(generator)) or the python sum builtin instead.\n",
            "  score += np.sum(cnt * logsumexp(Elogthetad + Elogbeta[:, int(id)]) for id, cnt in doc)\n",
            "/usr/local/lib/python3.6/dist-packages/gensim/models/ldamodel.py:1077: DeprecationWarning: Calling np.sum(generator) is deprecated, and in the future will give a different result. Use np.sum(np.fromiter(generator)) or the python sum builtin instead.\n",
            "  score += np.sum(cnt * logsumexp(Elogthetad + Elogbeta[:, int(id)]) for id, cnt in doc)\n",
            "/usr/local/lib/python3.6/dist-packages/gensim/models/ldamodel.py:1077: DeprecationWarning: Calling np.sum(generator) is deprecated, and in the future will give a different result. Use np.sum(np.fromiter(generator)) or the python sum builtin instead.\n",
            "  score += np.sum(cnt * logsumexp(Elogthetad + Elogbeta[:, int(id)]) for id, cnt in doc)\n",
            "/usr/local/lib/python3.6/dist-packages/gensim/models/ldamodel.py:1077: DeprecationWarning: Calling np.sum(generator) is deprecated, and in the future will give a different result. Use np.sum(np.fromiter(generator)) or the python sum builtin instead.\n",
            "  score += np.sum(cnt * logsumexp(Elogthetad + Elogbeta[:, int(id)]) for id, cnt in doc)\n",
            "/usr/local/lib/python3.6/dist-packages/gensim/models/ldamodel.py:1077: DeprecationWarning: Calling np.sum(generator) is deprecated, and in the future will give a different result. Use np.sum(np.fromiter(generator)) or the python sum builtin instead.\n",
            "  score += np.sum(cnt * logsumexp(Elogthetad + Elogbeta[:, int(id)]) for id, cnt in doc)\n",
            "/usr/local/lib/python3.6/dist-packages/gensim/models/ldamodel.py:1077: DeprecationWarning: Calling np.sum(generator) is deprecated, and in the future will give a different result. Use np.sum(np.fromiter(generator)) or the python sum builtin instead.\n",
            "  score += np.sum(cnt * logsumexp(Elogthetad + Elogbeta[:, int(id)]) for id, cnt in doc)\n",
            "/usr/local/lib/python3.6/dist-packages/gensim/models/ldamodel.py:1077: DeprecationWarning: Calling np.sum(generator) is deprecated, and in the future will give a different result. Use np.sum(np.fromiter(generator)) or the python sum builtin instead.\n",
            "  score += np.sum(cnt * logsumexp(Elogthetad + Elogbeta[:, int(id)]) for id, cnt in doc)\n",
            "/usr/local/lib/python3.6/dist-packages/gensim/models/ldamodel.py:1077: DeprecationWarning: Calling np.sum(generator) is deprecated, and in the future will give a different result. Use np.sum(np.fromiter(generator)) or the python sum builtin instead.\n",
            "  score += np.sum(cnt * logsumexp(Elogthetad + Elogbeta[:, int(id)]) for id, cnt in doc)\n",
            "/usr/local/lib/python3.6/dist-packages/gensim/models/ldamodel.py:1077: DeprecationWarning: Calling np.sum(generator) is deprecated, and in the future will give a different result. Use np.sum(np.fromiter(generator)) or the python sum builtin instead.\n",
            "  score += np.sum(cnt * logsumexp(Elogthetad + Elogbeta[:, int(id)]) for id, cnt in doc)\n",
            "/usr/local/lib/python3.6/dist-packages/gensim/models/ldamodel.py:1077: DeprecationWarning: Calling np.sum(generator) is deprecated, and in the future will give a different result. Use np.sum(np.fromiter(generator)) or the python sum builtin instead.\n",
            "  score += np.sum(cnt * logsumexp(Elogthetad + Elogbeta[:, int(id)]) for id, cnt in doc)\n",
            "/usr/local/lib/python3.6/dist-packages/gensim/models/ldamodel.py:1077: DeprecationWarning: Calling np.sum(generator) is deprecated, and in the future will give a different result. Use np.sum(np.fromiter(generator)) or the python sum builtin instead.\n",
            "  score += np.sum(cnt * logsumexp(Elogthetad + Elogbeta[:, int(id)]) for id, cnt in doc)\n",
            "/usr/local/lib/python3.6/dist-packages/gensim/models/ldamodel.py:1077: DeprecationWarning: Calling np.sum(generator) is deprecated, and in the future will give a different result. Use np.sum(np.fromiter(generator)) or the python sum builtin instead.\n",
            "  score += np.sum(cnt * logsumexp(Elogthetad + Elogbeta[:, int(id)]) for id, cnt in doc)\n",
            "/usr/local/lib/python3.6/dist-packages/gensim/models/ldamodel.py:1077: DeprecationWarning: Calling np.sum(generator) is deprecated, and in the future will give a different result. Use np.sum(np.fromiter(generator)) or the python sum builtin instead.\n",
            "  score += np.sum(cnt * logsumexp(Elogthetad + Elogbeta[:, int(id)]) for id, cnt in doc)\n",
            "/usr/local/lib/python3.6/dist-packages/gensim/models/ldamodel.py:1077: DeprecationWarning: Calling np.sum(generator) is deprecated, and in the future will give a different result. Use np.sum(np.fromiter(generator)) or the python sum builtin instead.\n",
            "  score += np.sum(cnt * logsumexp(Elogthetad + Elogbeta[:, int(id)]) for id, cnt in doc)\n",
            "/usr/local/lib/python3.6/dist-packages/gensim/models/ldamodel.py:1077: DeprecationWarning: Calling np.sum(generator) is deprecated, and in the future will give a different result. Use np.sum(np.fromiter(generator)) or the python sum builtin instead.\n",
            "  score += np.sum(cnt * logsumexp(Elogthetad + Elogbeta[:, int(id)]) for id, cnt in doc)\n",
            "/usr/local/lib/python3.6/dist-packages/gensim/models/ldamodel.py:1077: DeprecationWarning: Calling np.sum(generator) is deprecated, and in the future will give a different result. Use np.sum(np.fromiter(generator)) or the python sum builtin instead.\n",
            "  score += np.sum(cnt * logsumexp(Elogthetad + Elogbeta[:, int(id)]) for id, cnt in doc)\n",
            "/usr/local/lib/python3.6/dist-packages/gensim/models/ldamodel.py:1077: DeprecationWarning: Calling np.sum(generator) is deprecated, and in the future will give a different result. Use np.sum(np.fromiter(generator)) or the python sum builtin instead.\n",
            "  score += np.sum(cnt * logsumexp(Elogthetad + Elogbeta[:, int(id)]) for id, cnt in doc)\n",
            "/usr/local/lib/python3.6/dist-packages/gensim/models/ldamodel.py:1077: DeprecationWarning: Calling np.sum(generator) is deprecated, and in the future will give a different result. Use np.sum(np.fromiter(generator)) or the python sum builtin instead.\n",
            "  score += np.sum(cnt * logsumexp(Elogthetad + Elogbeta[:, int(id)]) for id, cnt in doc)\n",
            "/usr/local/lib/python3.6/dist-packages/gensim/models/ldamodel.py:1077: DeprecationWarning: Calling np.sum(generator) is deprecated, and in the future will give a different result. Use np.sum(np.fromiter(generator)) or the python sum builtin instead.\n",
            "  score += np.sum(cnt * logsumexp(Elogthetad + Elogbeta[:, int(id)]) for id, cnt in doc)\n",
            "/usr/local/lib/python3.6/dist-packages/gensim/models/ldamodel.py:1077: DeprecationWarning: Calling np.sum(generator) is deprecated, and in the future will give a different result. Use np.sum(np.fromiter(generator)) or the python sum builtin instead.\n",
            "  score += np.sum(cnt * logsumexp(Elogthetad + Elogbeta[:, int(id)]) for id, cnt in doc)\n",
            "/usr/local/lib/python3.6/dist-packages/gensim/models/ldamodel.py:1077: DeprecationWarning: Calling np.sum(generator) is deprecated, and in the future will give a different result. Use np.sum(np.fromiter(generator)) or the python sum builtin instead.\n",
            "  score += np.sum(cnt * logsumexp(Elogthetad + Elogbeta[:, int(id)]) for id, cnt in doc)\n",
            "/usr/local/lib/python3.6/dist-packages/gensim/models/ldamodel.py:1077: DeprecationWarning: Calling np.sum(generator) is deprecated, and in the future will give a different result. Use np.sum(np.fromiter(generator)) or the python sum builtin instead.\n",
            "  score += np.sum(cnt * logsumexp(Elogthetad + Elogbeta[:, int(id)]) for id, cnt in doc)\n",
            "/usr/local/lib/python3.6/dist-packages/gensim/models/ldamodel.py:1077: DeprecationWarning: Calling np.sum(generator) is deprecated, and in the future will give a different result. Use np.sum(np.fromiter(generator)) or the python sum builtin instead.\n",
            "  score += np.sum(cnt * logsumexp(Elogthetad + Elogbeta[:, int(id)]) for id, cnt in doc)\n",
            "/usr/local/lib/python3.6/dist-packages/gensim/models/ldamodel.py:1077: DeprecationWarning: Calling np.sum(generator) is deprecated, and in the future will give a different result. Use np.sum(np.fromiter(generator)) or the python sum builtin instead.\n",
            "  score += np.sum(cnt * logsumexp(Elogthetad + Elogbeta[:, int(id)]) for id, cnt in doc)\n",
            "/usr/local/lib/python3.6/dist-packages/gensim/models/ldamodel.py:1077: DeprecationWarning: Calling np.sum(generator) is deprecated, and in the future will give a different result. Use np.sum(np.fromiter(generator)) or the python sum builtin instead.\n",
            "  score += np.sum(cnt * logsumexp(Elogthetad + Elogbeta[:, int(id)]) for id, cnt in doc)\n",
            "/usr/local/lib/python3.6/dist-packages/gensim/models/ldamodel.py:1077: DeprecationWarning: Calling np.sum(generator) is deprecated, and in the future will give a different result. Use np.sum(np.fromiter(generator)) or the python sum builtin instead.\n",
            "  score += np.sum(cnt * logsumexp(Elogthetad + Elogbeta[:, int(id)]) for id, cnt in doc)\n",
            "/usr/local/lib/python3.6/dist-packages/gensim/models/ldamodel.py:1077: DeprecationWarning: Calling np.sum(generator) is deprecated, and in the future will give a different result. Use np.sum(np.fromiter(generator)) or the python sum builtin instead.\n",
            "  score += np.sum(cnt * logsumexp(Elogthetad + Elogbeta[:, int(id)]) for id, cnt in doc)\n",
            "/usr/local/lib/python3.6/dist-packages/gensim/models/ldamodel.py:1077: DeprecationWarning: Calling np.sum(generator) is deprecated, and in the future will give a different result. Use np.sum(np.fromiter(generator)) or the python sum builtin instead.\n",
            "  score += np.sum(cnt * logsumexp(Elogthetad + Elogbeta[:, int(id)]) for id, cnt in doc)\n",
            "/usr/local/lib/python3.6/dist-packages/gensim/models/ldamodel.py:1077: DeprecationWarning: Calling np.sum(generator) is deprecated, and in the future will give a different result. Use np.sum(np.fromiter(generator)) or the python sum builtin instead.\n",
            "  score += np.sum(cnt * logsumexp(Elogthetad + Elogbeta[:, int(id)]) for id, cnt in doc)\n",
            "/usr/local/lib/python3.6/dist-packages/gensim/models/ldamodel.py:1077: DeprecationWarning: Calling np.sum(generator) is deprecated, and in the future will give a different result. Use np.sum(np.fromiter(generator)) or the python sum builtin instead.\n",
            "  score += np.sum(cnt * logsumexp(Elogthetad + Elogbeta[:, int(id)]) for id, cnt in doc)\n",
            "/usr/local/lib/python3.6/dist-packages/gensim/models/ldamodel.py:1077: DeprecationWarning: Calling np.sum(generator) is deprecated, and in the future will give a different result. Use np.sum(np.fromiter(generator)) or the python sum builtin instead.\n",
            "  score += np.sum(cnt * logsumexp(Elogthetad + Elogbeta[:, int(id)]) for id, cnt in doc)\n",
            "/usr/local/lib/python3.6/dist-packages/gensim/models/ldamodel.py:1077: DeprecationWarning: Calling np.sum(generator) is deprecated, and in the future will give a different result. Use np.sum(np.fromiter(generator)) or the python sum builtin instead.\n",
            "  score += np.sum(cnt * logsumexp(Elogthetad + Elogbeta[:, int(id)]) for id, cnt in doc)\n",
            "/usr/local/lib/python3.6/dist-packages/gensim/models/ldamodel.py:1077: DeprecationWarning: Calling np.sum(generator) is deprecated, and in the future will give a different result. Use np.sum(np.fromiter(generator)) or the python sum builtin instead.\n",
            "  score += np.sum(cnt * logsumexp(Elogthetad + Elogbeta[:, int(id)]) for id, cnt in doc)\n",
            "/usr/local/lib/python3.6/dist-packages/gensim/models/ldamodel.py:1077: DeprecationWarning: Calling np.sum(generator) is deprecated, and in the future will give a different result. Use np.sum(np.fromiter(generator)) or the python sum builtin instead.\n",
            "  score += np.sum(cnt * logsumexp(Elogthetad + Elogbeta[:, int(id)]) for id, cnt in doc)\n",
            "/usr/local/lib/python3.6/dist-packages/gensim/models/ldamodel.py:1077: DeprecationWarning: Calling np.sum(generator) is deprecated, and in the future will give a different result. Use np.sum(np.fromiter(generator)) or the python sum builtin instead.\n",
            "  score += np.sum(cnt * logsumexp(Elogthetad + Elogbeta[:, int(id)]) for id, cnt in doc)\n",
            "/usr/local/lib/python3.6/dist-packages/gensim/models/ldamodel.py:1077: DeprecationWarning: Calling np.sum(generator) is deprecated, and in the future will give a different result. Use np.sum(np.fromiter(generator)) or the python sum builtin instead.\n",
            "  score += np.sum(cnt * logsumexp(Elogthetad + Elogbeta[:, int(id)]) for id, cnt in doc)\n",
            "/usr/local/lib/python3.6/dist-packages/gensim/models/ldamodel.py:1077: DeprecationWarning: Calling np.sum(generator) is deprecated, and in the future will give a different result. Use np.sum(np.fromiter(generator)) or the python sum builtin instead.\n",
            "  score += np.sum(cnt * logsumexp(Elogthetad + Elogbeta[:, int(id)]) for id, cnt in doc)\n",
            "/usr/local/lib/python3.6/dist-packages/gensim/models/ldamodel.py:1077: DeprecationWarning: Calling np.sum(generator) is deprecated, and in the future will give a different result. Use np.sum(np.fromiter(generator)) or the python sum builtin instead.\n",
            "  score += np.sum(cnt * logsumexp(Elogthetad + Elogbeta[:, int(id)]) for id, cnt in doc)\n"
          ],
          "name": "stderr"
        },
        {
          "output_type": "display_data",
          "data": {
            "image/png": "[encoded data removed]",
            "text/plain": [
              "<Figure size 432x288 with 1 Axes>"
            ]
          },
          "metadata": {
            "tags": []
          }
        }
      ]
    }
  ]
}